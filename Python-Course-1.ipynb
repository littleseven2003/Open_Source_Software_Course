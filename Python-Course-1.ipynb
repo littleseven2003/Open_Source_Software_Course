{
 "cells": [
  {
   "cell_type": "code",
   "execution_count": 1,
   "id": "7e30df23-c973-4147-a28e-57898e153fea",
   "metadata": {},
   "outputs": [],
   "source": [
    "a = 1"
   ]
  },
  {
   "cell_type": "code",
   "execution_count": 2,
   "id": "6ef5f093-d6c7-4000-8be6-3f2cc1b4ad34",
   "metadata": {},
   "outputs": [
    {
     "data": {
      "text/plain": [
       "''"
      ]
     },
     "execution_count": 2,
     "metadata": {},
     "output_type": "execute_result"
    }
   ],
   "source": [
    "_"
   ]
  },
  {
   "cell_type": "code",
   "execution_count": 3,
   "id": "0319f169-3b8c-46d7-bae4-b3168c9f0587",
   "metadata": {},
   "outputs": [
    {
     "data": {
      "text/plain": [
       "1"
      ]
     },
     "execution_count": 3,
     "metadata": {},
     "output_type": "execute_result"
    }
   ],
   "source": [
    "a"
   ]
  },
  {
   "cell_type": "code",
   "execution_count": 4,
   "id": "fd2ba31c-3a3e-4778-abfd-7e100561b467",
   "metadata": {},
   "outputs": [],
   "source": [
    "你好 = 1"
   ]
  },
  {
   "cell_type": "code",
   "execution_count": 5,
   "id": "3c08af37-3cf7-4431-b2ab-726fc8b0c0ba",
   "metadata": {},
   "outputs": [],
   "source": [
    "世界 = 2"
   ]
  },
  {
   "cell_type": "code",
   "execution_count": 6,
   "id": "11ed6a73-51f9-40c6-a4a9-bafe484c5b8b",
   "metadata": {},
   "outputs": [
    {
     "data": {
      "text/plain": [
       "3"
      ]
     },
     "execution_count": 6,
     "metadata": {},
     "output_type": "execute_result"
    }
   ],
   "source": [
    "你好 + 世界"
   ]
  },
  {
   "cell_type": "code",
   "execution_count": 7,
   "id": "1e9dcb14-c8a4-4a25-bad5-4b315814a317",
   "metadata": {},
   "outputs": [
    {
     "data": {
      "text/plain": [
       "6.5"
      ]
     },
     "execution_count": 7,
     "metadata": {},
     "output_type": "execute_result"
    }
   ],
   "source": [
    "5 + 3 / 2"
   ]
  },
  {
   "cell_type": "code",
   "execution_count": 8,
   "id": "03542ffd-4d8a-4dfb-9e6d-5c35fb78b55b",
   "metadata": {},
   "outputs": [
    {
     "data": {
      "text/plain": [
       "1"
      ]
     },
     "execution_count": 8,
     "metadata": {},
     "output_type": "execute_result"
    }
   ],
   "source": [
    "8 // 5"
   ]
  },
  {
   "cell_type": "code",
   "execution_count": 9,
   "id": "06a647a8-ab55-4b6c-a13a-8d906adb811a",
   "metadata": {},
   "outputs": [
    {
     "data": {
      "text/plain": [
       "128"
      ]
     },
     "execution_count": 9,
     "metadata": {},
     "output_type": "execute_result"
    }
   ],
   "source": [
    "2 ** 7"
   ]
  },
  {
   "cell_type": "code",
   "execution_count": 10,
   "id": "dadb5c4a-b2b3-4b36-b8ad-52f38be69345",
   "metadata": {},
   "outputs": [
    {
     "data": {
      "text/plain": [
       "'Hello'"
      ]
     },
     "execution_count": 10,
     "metadata": {},
     "output_type": "execute_result"
    }
   ],
   "source": [
    "'Hello'"
   ]
  },
  {
   "cell_type": "code",
   "execution_count": 11,
   "id": "08922f33-c602-4601-897b-46c8141780ee",
   "metadata": {},
   "outputs": [
    {
     "data": {
      "text/plain": [
       "'Hello'"
      ]
     },
     "execution_count": 11,
     "metadata": {},
     "output_type": "execute_result"
    }
   ],
   "source": [
    "\"Hello\""
   ]
  },
  {
   "cell_type": "code",
   "execution_count": 12,
   "id": "1ca35f1f-a7e2-4292-9e00-6fc029ce0310",
   "metadata": {},
   "outputs": [
    {
     "data": {
      "text/plain": [
       "\"Hello's\""
      ]
     },
     "execution_count": 12,
     "metadata": {},
     "output_type": "execute_result"
    }
   ],
   "source": [
    "\"Hello's\""
   ]
  },
  {
   "cell_type": "code",
   "execution_count": 13,
   "id": "66de2a22-f947-4283-b6b2-8c58fce0a10e",
   "metadata": {},
   "outputs": [
    {
     "data": {
      "text/plain": [
       "\"Hello's\""
      ]
     },
     "execution_count": 13,
     "metadata": {},
     "output_type": "execute_result"
    }
   ],
   "source": [
    "'Hello\\'s'"
   ]
  },
  {
   "cell_type": "code",
   "execution_count": 14,
   "id": "7544c075-69d9-494c-b33a-5a7a74b1ee44",
   "metadata": {},
   "outputs": [
    {
     "name": "stdout",
     "output_type": "stream",
     "text": [
      "a\n",
      "b\n"
     ]
    }
   ],
   "source": [
    "print(\"a\\nb\")"
   ]
  },
  {
   "cell_type": "code",
   "execution_count": 15,
   "id": "d2a4ac16-997b-46fe-8982-6c0678d613d6",
   "metadata": {},
   "outputs": [
    {
     "name": "stdout",
     "output_type": "stream",
     "text": [
      "a\\nb\n"
     ]
    }
   ],
   "source": [
    "print(r\"a\\nb\")"
   ]
  },
  {
   "cell_type": "code",
   "execution_count": 16,
   "id": "6789d256-a9f3-4912-b6e6-0ce8421846b3",
   "metadata": {},
   "outputs": [
    {
     "name": "stdout",
     "output_type": "stream",
     "text": [
      "a\\nb\n"
     ]
    }
   ],
   "source": [
    "print(\"a\\\\nb\")"
   ]
  },
  {
   "cell_type": "code",
   "execution_count": 17,
   "id": "79d046ea-fd7c-45e8-aeaa-f1e534e06a6b",
   "metadata": {},
   "outputs": [
    {
     "name": "stdout",
     "output_type": "stream",
     "text": [
      "a\\\n"
     ]
    }
   ],
   "source": [
    "print(\"a\\\\\")"
   ]
  },
  {
   "cell_type": "code",
   "execution_count": 18,
   "id": "15848c6f-8c66-4a2b-86d0-2e9d2a2e59d1",
   "metadata": {},
   "outputs": [
    {
     "ename": "SyntaxError",
     "evalue": "invalid syntax (2658558905.py, line 1)",
     "output_type": "error",
     "traceback": [
      "\u001b[1;36m  Cell \u001b[1;32mIn[18], line 1\u001b[1;36m\u001b[0m\n\u001b[1;33m    ```123\u001b[0m\n\u001b[1;37m    ^\u001b[0m\n\u001b[1;31mSyntaxError\u001b[0m\u001b[1;31m:\u001b[0m invalid syntax\n"
     ]
    }
   ],
   "source": [
    "```123"
   ]
  },
  {
   "cell_type": "code",
   "execution_count": 19,
   "id": "d1390d6b-b6df-447d-b5c8-4e43147c60dd",
   "metadata": {},
   "outputs": [
    {
     "ename": "SyntaxError",
     "evalue": "invalid syntax (3682291172.py, line 1)",
     "output_type": "error",
     "traceback": [
      "\u001b[1;36m  Cell \u001b[1;32mIn[19], line 1\u001b[1;36m\u001b[0m\n\u001b[1;33m    ```123\u001b[0m\n\u001b[1;37m    ^\u001b[0m\n\u001b[1;31mSyntaxError\u001b[0m\u001b[1;31m:\u001b[0m invalid syntax\n"
     ]
    }
   ],
   "source": [
    "```123\n",
    "456\n",
    "789```"
   ]
  },
  {
   "cell_type": "code",
   "execution_count": 20,
   "id": "0f906459-e614-426c-bd0b-2a13f0b96f4b",
   "metadata": {},
   "outputs": [
    {
     "data": {
      "text/plain": [
       "'123\\n456'"
      ]
     },
     "execution_count": 20,
     "metadata": {},
     "output_type": "execute_result"
    }
   ],
   "source": [
    "'''123\n",
    "456'''"
   ]
  },
  {
   "cell_type": "code",
   "execution_count": 21,
   "id": "7f70339b-2ee9-4903-b60c-1036ab3b3e14",
   "metadata": {},
   "outputs": [
    {
     "data": {
      "text/plain": [
       "'HelloWorld'"
      ]
     },
     "execution_count": 21,
     "metadata": {},
     "output_type": "execute_result"
    }
   ],
   "source": [
    "\"Hello\" + \"World\""
   ]
  },
  {
   "cell_type": "code",
   "execution_count": 22,
   "id": "1b9d52f2-5607-48cc-8ca9-35ece0a37eff",
   "metadata": {},
   "outputs": [],
   "source": [
    "a = \"Hello\"\n",
    "b = f\"{a} world\""
   ]
  },
  {
   "cell_type": "code",
   "execution_count": 23,
   "id": "1f843484-a417-4969-82d3-6a769a54eb81",
   "metadata": {},
   "outputs": [
    {
     "data": {
      "text/plain": [
       "'Hello world'"
      ]
     },
     "execution_count": 23,
     "metadata": {},
     "output_type": "execute_result"
    }
   ],
   "source": [
    "b"
   ]
  },
  {
   "cell_type": "code",
   "execution_count": 25,
   "id": "32c6e4ae-3e83-4e09-b4a3-b1c945387879",
   "metadata": {},
   "outputs": [
    {
     "data": {
      "text/plain": [
       "'unununium'"
      ]
     },
     "execution_count": 25,
     "metadata": {},
     "output_type": "execute_result"
    }
   ],
   "source": [
    "3 * \"un\" + \"ium\""
   ]
  },
  {
   "cell_type": "code",
   "execution_count": 28,
   "id": "e86a245b-9082-4ce4-bc42-4dc2cc68d017",
   "metadata": {},
   "outputs": [],
   "source": [
    "hl = \"HelloWorld\""
   ]
  },
  {
   "cell_type": "code",
   "execution_count": 29,
   "id": "d91b8f3c-5524-479d-bae0-bfa962075cbb",
   "metadata": {},
   "outputs": [
    {
     "data": {
      "text/plain": [
       "'H'"
      ]
     },
     "execution_count": 29,
     "metadata": {},
     "output_type": "execute_result"
    }
   ],
   "source": [
    "hl[0]"
   ]
  },
  {
   "cell_type": "code",
   "execution_count": 30,
   "id": "4b98c00e-b6c1-4c75-84e9-fc9e56352475",
   "metadata": {},
   "outputs": [
    {
     "data": {
      "text/plain": [
       "'e'"
      ]
     },
     "execution_count": 30,
     "metadata": {},
     "output_type": "execute_result"
    }
   ],
   "source": [
    "hl[1]"
   ]
  },
  {
   "cell_type": "code",
   "execution_count": 32,
   "id": "fa97375f-a0b9-4db0-9815-d7452810ea90",
   "metadata": {},
   "outputs": [
    {
     "data": {
      "text/plain": [
       "'d'"
      ]
     },
     "execution_count": 32,
     "metadata": {},
     "output_type": "execute_result"
    }
   ],
   "source": [
    "hl[-1]"
   ]
  },
  {
   "cell_type": "code",
   "execution_count": 33,
   "id": "acea7027-796b-4c15-9410-d65c41d89684",
   "metadata": {},
   "outputs": [
    {
     "data": {
      "text/plain": [
       "'Hello'"
      ]
     },
     "execution_count": 33,
     "metadata": {},
     "output_type": "execute_result"
    }
   ],
   "source": [
    "hl[0:5]"
   ]
  },
  {
   "cell_type": "code",
   "execution_count": 34,
   "id": "14af4059-c4d8-40fe-8a9a-525ff89719b4",
   "metadata": {},
   "outputs": [
    {
     "data": {
      "text/plain": [
       "'World'"
      ]
     },
     "execution_count": 34,
     "metadata": {},
     "output_type": "execute_result"
    }
   ],
   "source": [
    "hl[5:10]"
   ]
  },
  {
   "cell_type": "code",
   "execution_count": 35,
   "id": "422146ff-c8e7-4aa5-b60b-79e3ed44d432",
   "metadata": {},
   "outputs": [
    {
     "data": {
      "text/plain": [
       "'Worl'"
      ]
     },
     "execution_count": 35,
     "metadata": {},
     "output_type": "execute_result"
    }
   ],
   "source": [
    "hl[5:9]"
   ]
  },
  {
   "cell_type": "code",
   "execution_count": 36,
   "id": "35161a10-99a1-4126-af35-74c2156fb106",
   "metadata": {},
   "outputs": [
    {
     "data": {
      "text/plain": [
       "'d'"
      ]
     },
     "execution_count": 36,
     "metadata": {},
     "output_type": "execute_result"
    }
   ],
   "source": [
    "hl[len(hl)-1]"
   ]
  },
  {
   "cell_type": "code",
   "execution_count": 37,
   "id": "6de73ca0-5c9a-43e7-81ef-13a64c6ca1e0",
   "metadata": {},
   "outputs": [],
   "source": [
    "sq = [1,4,9,16]"
   ]
  },
  {
   "cell_type": "code",
   "execution_count": 38,
   "id": "27833dd8-824b-4cb0-aadf-8848918ec568",
   "metadata": {},
   "outputs": [
    {
     "data": {
      "text/plain": [
       "[4, 9]"
      ]
     },
     "execution_count": 38,
     "metadata": {},
     "output_type": "execute_result"
    }
   ],
   "source": [
    "sq[1:3]"
   ]
  },
  {
   "cell_type": "code",
   "execution_count": 39,
   "id": "8e3df8ad-b02b-4d70-90ea-f6bc9c9e58fb",
   "metadata": {},
   "outputs": [
    {
     "data": {
      "text/plain": [
       "[1, 4, 9, 16, 1, 4, 9, 16]"
      ]
     },
     "execution_count": 39,
     "metadata": {},
     "output_type": "execute_result"
    }
   ],
   "source": [
    "sq + sq"
   ]
  },
  {
   "cell_type": "code",
   "execution_count": 40,
   "id": "a6d19efa-5690-4e4d-9af6-ea1c667b7294",
   "metadata": {},
   "outputs": [
    {
     "data": {
      "text/plain": [
       "16"
      ]
     },
     "execution_count": 40,
     "metadata": {},
     "output_type": "execute_result"
    }
   ],
   "source": [
    "sq[-1]"
   ]
  },
  {
   "cell_type": "code",
   "execution_count": 42,
   "id": "48f9ec3d-6193-46a9-99c5-0e8835c9f10e",
   "metadata": {},
   "outputs": [
    {
     "data": {
      "text/plain": [
       "4"
      ]
     },
     "execution_count": 42,
     "metadata": {},
     "output_type": "execute_result"
    }
   ],
   "source": [
    "len(sq)"
   ]
  },
  {
   "cell_type": "code",
   "execution_count": 43,
   "id": "667254b4-2cd1-461b-b32c-9ab4f5dcbb13",
   "metadata": {},
   "outputs": [],
   "source": [
    "sq[0] = 2"
   ]
  },
  {
   "cell_type": "code",
   "execution_count": 44,
   "id": "6791c0dc-2138-4e30-bd62-88e20558e1fb",
   "metadata": {},
   "outputs": [
    {
     "data": {
      "text/plain": [
       "[2, 4, 9, 16]"
      ]
     },
     "execution_count": 44,
     "metadata": {},
     "output_type": "execute_result"
    }
   ],
   "source": [
    "sq"
   ]
  },
  {
   "cell_type": "code",
   "execution_count": 45,
   "id": "8317609c-5711-41cb-84b1-993dd10fc5c3",
   "metadata": {},
   "outputs": [],
   "source": [
    "sq.append(25)"
   ]
  },
  {
   "cell_type": "code",
   "execution_count": 46,
   "id": "e728ad97-c823-4bcd-99e9-0208c3ed4699",
   "metadata": {},
   "outputs": [
    {
     "data": {
      "text/plain": [
       "[2, 4, 9, 16, 25]"
      ]
     },
     "execution_count": 46,
     "metadata": {},
     "output_type": "execute_result"
    }
   ],
   "source": [
    "sq"
   ]
  },
  {
   "cell_type": "code",
   "execution_count": 47,
   "id": "12cdc3af-e588-4472-9d47-801d6147200e",
   "metadata": {},
   "outputs": [
    {
     "data": {
      "text/plain": [
       "<function list.count(value, /)>"
      ]
     },
     "execution_count": 47,
     "metadata": {},
     "output_type": "execute_result"
    }
   ],
   "source": [
    "sq.count"
   ]
  },
  {
   "cell_type": "code",
   "execution_count": 48,
   "id": "c9e9d59a-38a6-4f12-8dab-df98ddd076b6",
   "metadata": {},
   "outputs": [
    {
     "data": {
      "text/plain": [
       "\u001b[1;31mSignature:\u001b[0m \u001b[0msq\u001b[0m\u001b[1;33m.\u001b[0m\u001b[0mremove\u001b[0m\u001b[1;33m(\u001b[0m\u001b[0mvalue\u001b[0m\u001b[1;33m,\u001b[0m \u001b[1;33m/\u001b[0m\u001b[1;33m)\u001b[0m\u001b[1;33m\u001b[0m\u001b[1;33m\u001b[0m\u001b[0m\n",
       "\u001b[1;31mDocstring:\u001b[0m\n",
       "Remove first occurrence of value.\n",
       "\n",
       "Raises ValueError if the value is not present.\n",
       "\u001b[1;31mType:\u001b[0m      builtin_function_or_method"
      ]
     },
     "metadata": {},
     "output_type": "display_data"
    }
   ],
   "source": [
    "sq.remove?"
   ]
  },
  {
   "cell_type": "code",
   "execution_count": 49,
   "id": "6f8d4a1b-a955-48fc-a7eb-76c06eac437c",
   "metadata": {},
   "outputs": [],
   "source": [
    "sq.remove(25)"
   ]
  },
  {
   "cell_type": "code",
   "execution_count": 50,
   "id": "d348edb6-ed0d-404d-96e1-dbbb573c057e",
   "metadata": {},
   "outputs": [
    {
     "data": {
      "text/plain": [
       "[2, 4, 9, 16]"
      ]
     },
     "execution_count": 50,
     "metadata": {},
     "output_type": "execute_result"
    }
   ],
   "source": [
    "sq"
   ]
  },
  {
   "cell_type": "code",
   "execution_count": 51,
   "id": "68b92818-eee4-414d-8bc6-25bc4cbff301",
   "metadata": {},
   "outputs": [],
   "source": [
    "sq.append(123)"
   ]
  },
  {
   "cell_type": "code",
   "execution_count": 52,
   "id": "f7ddcdb0-68a8-463d-b1a1-8547b1b43a03",
   "metadata": {},
   "outputs": [
    {
     "data": {
      "text/plain": [
       "[2, 4, 9, 16, 123]"
      ]
     },
     "execution_count": 52,
     "metadata": {},
     "output_type": "execute_result"
    }
   ],
   "source": [
    "sq"
   ]
  },
  {
   "cell_type": "code",
   "execution_count": 53,
   "id": "b52a5fdc-c92d-461c-a9fd-064d3531a4fb",
   "metadata": {},
   "outputs": [],
   "source": [
    "sq.append(0)"
   ]
  },
  {
   "cell_type": "code",
   "execution_count": 54,
   "id": "870112ab-0f0d-4c5d-9e32-f3363c58db48",
   "metadata": {},
   "outputs": [
    {
     "data": {
      "text/plain": [
       "[2, 4, 9, 16, 123, 0]"
      ]
     },
     "execution_count": 54,
     "metadata": {},
     "output_type": "execute_result"
    }
   ],
   "source": [
    "sq"
   ]
  },
  {
   "cell_type": "code",
   "execution_count": 55,
   "id": "3d729243-7b21-4f63-9cfa-e364d03d2ddb",
   "metadata": {},
   "outputs": [],
   "source": [
    "sq.sort()"
   ]
  },
  {
   "cell_type": "code",
   "execution_count": 56,
   "id": "3d94ca4d-8e96-4813-bfe8-e8842ffeb7b4",
   "metadata": {},
   "outputs": [
    {
     "data": {
      "text/plain": [
       "[0, 2, 4, 9, 16, 123]"
      ]
     },
     "execution_count": 56,
     "metadata": {},
     "output_type": "execute_result"
    }
   ],
   "source": [
    "sq"
   ]
  },
  {
   "cell_type": "code",
   "execution_count": null,
   "id": "0f9dab03-9a4b-49ed-993e-63964bcfe657",
   "metadata": {},
   "outputs": [],
   "source": []
  },
  {
   "cell_type": "code",
   "execution_count": null,
   "id": "c4d1d656-7086-4917-a16f-c9ce62b3d953",
   "metadata": {},
   "outputs": [],
   "source": []
  },
  {
   "cell_type": "code",
   "execution_count": null,
   "id": "8cde0c5e-8ce0-442c-8069-582ab0539a3c",
   "metadata": {},
   "outputs": [],
   "source": []
  }
 ],
 "metadata": {
  "kernelspec": {
   "display_name": "Python 3 (ipykernel)",
   "language": "python",
   "name": "python3"
  },
  "language_info": {
   "codemirror_mode": {
    "name": "ipython",
    "version": 3
   },
   "file_extension": ".py",
   "mimetype": "text/x-python",
   "name": "python",
   "nbconvert_exporter": "python",
   "pygments_lexer": "ipython3",
   "version": "3.11.10"
  }
 },
 "nbformat": 4,
 "nbformat_minor": 5
}
