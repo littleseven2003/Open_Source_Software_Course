{
 "cells": [
  {
   "cell_type": "code",
   "id": "initial_id",
   "metadata": {
    "collapsed": true,
    "ExecuteTime": {
     "end_time": "2025-01-20T13:13:37.842599Z",
     "start_time": "2025-01-20T13:13:37.806623Z"
    }
   },
   "source": [
    "import z3\n",
    "\n",
    "chicken, rabbits = z3.Ints('chicken rabbits')\n",
    "z3.solve(\n",
    "    chicken >= 1,  # number of chicken\n",
    "    rabbits >= 1,  # number of rabbits\n",
    "    chicken + rabbits == 35,\n",
    "    chicken * 2 + rabbits * 4 == 94\n",
    ")"
   ],
   "outputs": [
    {
     "name": "stdout",
     "output_type": "stream",
     "text": [
      "[rabbits = 12, chicken = 23]\n"
     ]
    }
   ],
   "execution_count": 1
  },
  {
   "metadata": {
    "ExecuteTime": {
     "end_time": "2025-01-20T13:14:10.807862Z",
     "start_time": "2025-01-20T13:14:10.793392Z"
    }
   },
   "cell_type": "code",
   "source": [
    "from z3 import *\n",
    "\n",
    "circle, square, triangle = Ints('circle square triangle')\n",
    "s = Solver()\n",
    "\n",
    "s.add(circle + circle == 10)\n",
    "s.add(circle * square + square == 12)\n",
    "s.add(circle * square - triangle * circle == circle)\n",
    "\n",
    "print(s.check())\n",
    "print(s.model())"
   ],
   "id": "f55d349c7cd048c",
   "outputs": [
    {
     "name": "stdout",
     "output_type": "stream",
     "text": [
      "sat\n",
      "[circle = 5, square = 2, triangle = 1]\n"
     ]
    }
   ],
   "execution_count": 2
  },
  {
   "metadata": {
    "ExecuteTime": {
     "end_time": "2025-01-20T13:14:36.475408Z",
     "start_time": "2025-01-20T13:14:36.451386Z"
    }
   },
   "cell_type": "code",
   "source": [
    "from z3 import *\n",
    "\n",
    "# 创建 8 个整数变量，表示 8 个皇后的位置\n",
    "Q = [Int('Q_%i' % (i + 1)) for i in range(8)]\n",
    "\n",
    "# 每个皇后在列 {1, ..., 8} 中\n",
    "val_c = [And(1 <= Q[i], Q[i] <= 8) for i in range(8)]\n",
    "\n",
    "# 每列最多一个皇后\n",
    "col_c = [Distinct(Q)]\n",
    "\n",
    "# 对角线约束\n",
    "diag_c = [If(i == j,\n",
    "             True,\n",
    "             And(Q[i] - Q[j] != i - j, Q[i] - Q[j] != j - i))\n",
    "          for i in range(8) for j in range(i)]\n",
    "\n",
    "# 解决约束条件\n",
    "solve(val_c + col_c + diag_c)"
   ],
   "id": "b8d6512aaea8170c",
   "outputs": [
    {
     "name": "stdout",
     "output_type": "stream",
     "text": [
      "[Q_3 = 8,\n",
      " Q_1 = 4,\n",
      " Q_7 = 5,\n",
      " Q_8 = 7,\n",
      " Q_5 = 1,\n",
      " Q_4 = 6,\n",
      " Q_2 = 2,\n",
      " Q_6 = 3]\n"
     ]
    }
   ],
   "execution_count": 3
  },
  {
   "metadata": {
    "ExecuteTime": {
     "end_time": "2025-01-20T13:14:57.330088Z",
     "start_time": "2025-01-20T13:14:57.320069Z"
    }
   },
   "cell_type": "code",
   "source": [
    "from z3 import *\n",
    "\n",
    "x = Int('x')\n",
    "y = Int('y')\n",
    "f = Function('f', IntSort(), IntSort())\n",
    "s = Solver()\n",
    "\n",
    "s.add(f(f(x)) == x, f(x) == y, x != y)\n",
    "\n",
    "print(s.check())\n",
    "m = s.model()\n",
    "print(\"f(f(x)) =\", m.evaluate(f(f(x))))\n",
    "print(\"f(x) =\", m.evaluate(f(x)))"
   ],
   "id": "d428bada2b84c051",
   "outputs": [
    {
     "name": "stdout",
     "output_type": "stream",
     "text": [
      "sat\n",
      "f(f(x)) = 0\n",
      "f(x) = 1\n"
     ]
    }
   ],
   "execution_count": 4
  }
 ],
 "metadata": {
  "kernelspec": {
   "display_name": "Python 3",
   "language": "python",
   "name": "python3"
  },
  "language_info": {
   "codemirror_mode": {
    "name": "ipython",
    "version": 2
   },
   "file_extension": ".py",
   "mimetype": "text/x-python",
   "name": "python",
   "nbconvert_exporter": "python",
   "pygments_lexer": "ipython2",
   "version": "2.7.6"
  }
 },
 "nbformat": 4,
 "nbformat_minor": 5
}
