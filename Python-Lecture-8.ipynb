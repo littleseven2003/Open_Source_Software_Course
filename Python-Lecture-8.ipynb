{
 "cells": [
  {
   "cell_type": "code",
   "id": "initial_id",
   "metadata": {
    "collapsed": true,
    "ExecuteTime": {
     "end_time": "2025-01-20T12:16:44.453835Z",
     "start_time": "2025-01-20T12:16:43.918663Z"
    }
   },
   "source": [
    "import pandas as pd\n",
    "import numpy as np\n",
    "import matplotlib.pyplot as plt"
   ],
   "outputs": [],
   "execution_count": 1
  },
  {
   "metadata": {
    "ExecuteTime": {
     "end_time": "2025-01-20T12:16:48.575370Z",
     "start_time": "2025-01-20T12:16:48.571871Z"
    }
   },
   "cell_type": "code",
   "source": "s = pd.Series([1,3,5,np.nan,6,8])",
   "id": "893babe39170282c",
   "outputs": [],
   "execution_count": 2
  },
  {
   "metadata": {
    "ExecuteTime": {
     "end_time": "2025-01-20T12:16:59.658662Z",
     "start_time": "2025-01-20T12:16:59.651474Z"
    }
   },
   "cell_type": "code",
   "source": "s",
   "id": "168bf5b5a6e29d7",
   "outputs": [
    {
     "data": {
      "text/plain": [
       "0    1.0\n",
       "1    3.0\n",
       "2    5.0\n",
       "3    NaN\n",
       "4    6.0\n",
       "5    8.0\n",
       "dtype: float64"
      ]
     },
     "execution_count": 3,
     "metadata": {},
     "output_type": "execute_result"
    }
   ],
   "execution_count": 3
  },
  {
   "metadata": {
    "ExecuteTime": {
     "end_time": "2025-01-20T12:17:39.624754Z",
     "start_time": "2025-01-20T12:17:39.620610Z"
    }
   },
   "cell_type": "code",
   "source": " dates = pd.date_range('20130101', periods=6)\n",
   "id": "45456d5d8f0266a6",
   "outputs": [],
   "execution_count": 4
  },
  {
   "metadata": {
    "ExecuteTime": {
     "end_time": "2025-01-20T12:17:47.176255Z",
     "start_time": "2025-01-20T12:17:47.171764Z"
    }
   },
   "cell_type": "code",
   "source": "dates",
   "id": "93390f621d1c1393",
   "outputs": [
    {
     "data": {
      "text/plain": [
       "DatetimeIndex(['2013-01-01', '2013-01-02', '2013-01-03', '2013-01-04',\n",
       "               '2013-01-05', '2013-01-06'],\n",
       "              dtype='datetime64[ns]', freq='D')"
      ]
     },
     "execution_count": 5,
     "metadata": {},
     "output_type": "execute_result"
    }
   ],
   "execution_count": 5
  },
  {
   "metadata": {
    "ExecuteTime": {
     "end_time": "2025-01-20T12:18:25.598665Z",
     "start_time": "2025-01-20T12:18:25.586708Z"
    }
   },
   "cell_type": "code",
   "source": [
    "df = pd.DataFrame(np.random.randn(6, 4),\n",
    "                  index=dates,\n",
    "                  columns=list('ABCD'))\n",
    "df"
   ],
   "id": "27a97e6a515a4859",
   "outputs": [
    {
     "data": {
      "text/plain": [
       "                   A         B         C         D\n",
       "2013-01-01  1.056701  0.000504  0.316622  0.346360\n",
       "2013-01-02 -0.877455 -0.406153 -0.655665  0.932711\n",
       "2013-01-03 -2.529039  0.147809  0.386269 -0.271775\n",
       "2013-01-04 -1.520457  1.042714 -1.024310  0.999146\n",
       "2013-01-05 -0.837138 -0.121203 -0.876267  1.884676\n",
       "2013-01-06  0.513802  0.284142  0.631426  0.924210"
      ],
      "text/html": [
       "<div>\n",
       "<style scoped>\n",
       "    .dataframe tbody tr th:only-of-type {\n",
       "        vertical-align: middle;\n",
       "    }\n",
       "\n",
       "    .dataframe tbody tr th {\n",
       "        vertical-align: top;\n",
       "    }\n",
       "\n",
       "    .dataframe thead th {\n",
       "        text-align: right;\n",
       "    }\n",
       "</style>\n",
       "<table border=\"1\" class=\"dataframe\">\n",
       "  <thead>\n",
       "    <tr style=\"text-align: right;\">\n",
       "      <th></th>\n",
       "      <th>A</th>\n",
       "      <th>B</th>\n",
       "      <th>C</th>\n",
       "      <th>D</th>\n",
       "    </tr>\n",
       "  </thead>\n",
       "  <tbody>\n",
       "    <tr>\n",
       "      <th>2013-01-01</th>\n",
       "      <td>1.056701</td>\n",
       "      <td>0.000504</td>\n",
       "      <td>0.316622</td>\n",
       "      <td>0.346360</td>\n",
       "    </tr>\n",
       "    <tr>\n",
       "      <th>2013-01-02</th>\n",
       "      <td>-0.877455</td>\n",
       "      <td>-0.406153</td>\n",
       "      <td>-0.655665</td>\n",
       "      <td>0.932711</td>\n",
       "    </tr>\n",
       "    <tr>\n",
       "      <th>2013-01-03</th>\n",
       "      <td>-2.529039</td>\n",
       "      <td>0.147809</td>\n",
       "      <td>0.386269</td>\n",
       "      <td>-0.271775</td>\n",
       "    </tr>\n",
       "    <tr>\n",
       "      <th>2013-01-04</th>\n",
       "      <td>-1.520457</td>\n",
       "      <td>1.042714</td>\n",
       "      <td>-1.024310</td>\n",
       "      <td>0.999146</td>\n",
       "    </tr>\n",
       "    <tr>\n",
       "      <th>2013-01-05</th>\n",
       "      <td>-0.837138</td>\n",
       "      <td>-0.121203</td>\n",
       "      <td>-0.876267</td>\n",
       "      <td>1.884676</td>\n",
       "    </tr>\n",
       "    <tr>\n",
       "      <th>2013-01-06</th>\n",
       "      <td>0.513802</td>\n",
       "      <td>0.284142</td>\n",
       "      <td>0.631426</td>\n",
       "      <td>0.924210</td>\n",
       "    </tr>\n",
       "  </tbody>\n",
       "</table>\n",
       "</div>"
      ]
     },
     "execution_count": 6,
     "metadata": {},
     "output_type": "execute_result"
    }
   ],
   "execution_count": 6
  },
  {
   "metadata": {
    "ExecuteTime": {
     "end_time": "2025-01-20T12:21:34.906563Z",
     "start_time": "2025-01-20T12:21:34.898602Z"
    }
   },
   "cell_type": "code",
   "source": [
    "import pandas as pd\n",
    "import numpy as np\n",
    "\n",
    "df2 = pd.DataFrame({\n",
    "    'A': 1.,\n",
    "    'B': pd.Timestamp('20130102'),\n",
    "    'C': pd.Series(1, index=list(range(4)), dtype='float32'),\n",
    "    'D': np.array([3] * 4, dtype='int32'),\n",
    "    'E': pd.Categorical([\"test\", \"train\", \"test\", \"train\"]),\n",
    "    'F': 'foo'\n",
    "})\n",
    "\n",
    "print(df2)"
   ],
   "id": "df42ae9ba5270d10",
   "outputs": [
    {
     "name": "stdout",
     "output_type": "stream",
     "text": [
      "     A          B    C  D      E    F\n",
      "0  1.0 2013-01-02  1.0  3   test  foo\n",
      "1  1.0 2013-01-02  1.0  3  train  foo\n",
      "2  1.0 2013-01-02  1.0  3   test  foo\n",
      "3  1.0 2013-01-02  1.0  3  train  foo\n"
     ]
    }
   ],
   "execution_count": 7
  },
  {
   "metadata": {
    "ExecuteTime": {
     "end_time": "2025-01-20T12:22:19.342754Z",
     "start_time": "2025-01-20T12:22:19.334427Z"
    }
   },
   "cell_type": "code",
   "source": "df.head()",
   "id": "f3e23cb5571c2f",
   "outputs": [
    {
     "data": {
      "text/plain": [
       "                   A         B         C         D\n",
       "2013-01-01  1.056701  0.000504  0.316622  0.346360\n",
       "2013-01-02 -0.877455 -0.406153 -0.655665  0.932711\n",
       "2013-01-03 -2.529039  0.147809  0.386269 -0.271775\n",
       "2013-01-04 -1.520457  1.042714 -1.024310  0.999146\n",
       "2013-01-05 -0.837138 -0.121203 -0.876267  1.884676"
      ],
      "text/html": [
       "<div>\n",
       "<style scoped>\n",
       "    .dataframe tbody tr th:only-of-type {\n",
       "        vertical-align: middle;\n",
       "    }\n",
       "\n",
       "    .dataframe tbody tr th {\n",
       "        vertical-align: top;\n",
       "    }\n",
       "\n",
       "    .dataframe thead th {\n",
       "        text-align: right;\n",
       "    }\n",
       "</style>\n",
       "<table border=\"1\" class=\"dataframe\">\n",
       "  <thead>\n",
       "    <tr style=\"text-align: right;\">\n",
       "      <th></th>\n",
       "      <th>A</th>\n",
       "      <th>B</th>\n",
       "      <th>C</th>\n",
       "      <th>D</th>\n",
       "    </tr>\n",
       "  </thead>\n",
       "  <tbody>\n",
       "    <tr>\n",
       "      <th>2013-01-01</th>\n",
       "      <td>1.056701</td>\n",
       "      <td>0.000504</td>\n",
       "      <td>0.316622</td>\n",
       "      <td>0.346360</td>\n",
       "    </tr>\n",
       "    <tr>\n",
       "      <th>2013-01-02</th>\n",
       "      <td>-0.877455</td>\n",
       "      <td>-0.406153</td>\n",
       "      <td>-0.655665</td>\n",
       "      <td>0.932711</td>\n",
       "    </tr>\n",
       "    <tr>\n",
       "      <th>2013-01-03</th>\n",
       "      <td>-2.529039</td>\n",
       "      <td>0.147809</td>\n",
       "      <td>0.386269</td>\n",
       "      <td>-0.271775</td>\n",
       "    </tr>\n",
       "    <tr>\n",
       "      <th>2013-01-04</th>\n",
       "      <td>-1.520457</td>\n",
       "      <td>1.042714</td>\n",
       "      <td>-1.024310</td>\n",
       "      <td>0.999146</td>\n",
       "    </tr>\n",
       "    <tr>\n",
       "      <th>2013-01-05</th>\n",
       "      <td>-0.837138</td>\n",
       "      <td>-0.121203</td>\n",
       "      <td>-0.876267</td>\n",
       "      <td>1.884676</td>\n",
       "    </tr>\n",
       "  </tbody>\n",
       "</table>\n",
       "</div>"
      ]
     },
     "execution_count": 9,
     "metadata": {},
     "output_type": "execute_result"
    }
   ],
   "execution_count": 9
  },
  {
   "metadata": {
    "ExecuteTime": {
     "end_time": "2025-01-20T12:22:24.800160Z",
     "start_time": "2025-01-20T12:22:24.794313Z"
    }
   },
   "cell_type": "code",
   "source": "df.tail(3)",
   "id": "d4e7ea76c719d7a8",
   "outputs": [
    {
     "data": {
      "text/plain": [
       "                   A         B         C         D\n",
       "2013-01-04 -1.520457  1.042714 -1.024310  0.999146\n",
       "2013-01-05 -0.837138 -0.121203 -0.876267  1.884676\n",
       "2013-01-06  0.513802  0.284142  0.631426  0.924210"
      ],
      "text/html": [
       "<div>\n",
       "<style scoped>\n",
       "    .dataframe tbody tr th:only-of-type {\n",
       "        vertical-align: middle;\n",
       "    }\n",
       "\n",
       "    .dataframe tbody tr th {\n",
       "        vertical-align: top;\n",
       "    }\n",
       "\n",
       "    .dataframe thead th {\n",
       "        text-align: right;\n",
       "    }\n",
       "</style>\n",
       "<table border=\"1\" class=\"dataframe\">\n",
       "  <thead>\n",
       "    <tr style=\"text-align: right;\">\n",
       "      <th></th>\n",
       "      <th>A</th>\n",
       "      <th>B</th>\n",
       "      <th>C</th>\n",
       "      <th>D</th>\n",
       "    </tr>\n",
       "  </thead>\n",
       "  <tbody>\n",
       "    <tr>\n",
       "      <th>2013-01-04</th>\n",
       "      <td>-1.520457</td>\n",
       "      <td>1.042714</td>\n",
       "      <td>-1.024310</td>\n",
       "      <td>0.999146</td>\n",
       "    </tr>\n",
       "    <tr>\n",
       "      <th>2013-01-05</th>\n",
       "      <td>-0.837138</td>\n",
       "      <td>-0.121203</td>\n",
       "      <td>-0.876267</td>\n",
       "      <td>1.884676</td>\n",
       "    </tr>\n",
       "    <tr>\n",
       "      <th>2013-01-06</th>\n",
       "      <td>0.513802</td>\n",
       "      <td>0.284142</td>\n",
       "      <td>0.631426</td>\n",
       "      <td>0.924210</td>\n",
       "    </tr>\n",
       "  </tbody>\n",
       "</table>\n",
       "</div>"
      ]
     },
     "execution_count": 10,
     "metadata": {},
     "output_type": "execute_result"
    }
   ],
   "execution_count": 10
  },
  {
   "metadata": {
    "ExecuteTime": {
     "end_time": "2025-01-20T12:22:33.497747Z",
     "start_time": "2025-01-20T12:22:33.493271Z"
    }
   },
   "cell_type": "code",
   "source": "df.index",
   "id": "a828d768fce1c087",
   "outputs": [
    {
     "data": {
      "text/plain": [
       "DatetimeIndex(['2013-01-01', '2013-01-02', '2013-01-03', '2013-01-04',\n",
       "               '2013-01-05', '2013-01-06'],\n",
       "              dtype='datetime64[ns]', freq='D')"
      ]
     },
     "execution_count": 11,
     "metadata": {},
     "output_type": "execute_result"
    }
   ],
   "execution_count": 11
  },
  {
   "metadata": {
    "ExecuteTime": {
     "end_time": "2025-01-20T12:22:45.890760Z",
     "start_time": "2025-01-20T12:22:45.886581Z"
    }
   },
   "cell_type": "code",
   "source": " df.columns",
   "id": "8b93c8ac54c1785c",
   "outputs": [
    {
     "data": {
      "text/plain": [
       "Index(['A', 'B', 'C', 'D'], dtype='object')"
      ]
     },
     "execution_count": 12,
     "metadata": {},
     "output_type": "execute_result"
    }
   ],
   "execution_count": 12
  },
  {
   "metadata": {
    "ExecuteTime": {
     "end_time": "2025-01-20T12:22:50.596796Z",
     "start_time": "2025-01-20T12:22:50.591443Z"
    }
   },
   "cell_type": "code",
   "source": "df.values",
   "id": "ee7de280a77f76f1",
   "outputs": [
    {
     "data": {
      "text/plain": [
       "array([[ 1.05670148e+00,  5.04305687e-04,  3.16621574e-01,\n",
       "         3.46359653e-01],\n",
       "       [-8.77454807e-01, -4.06153434e-01, -6.55665310e-01,\n",
       "         9.32710808e-01],\n",
       "       [-2.52903894e+00,  1.47808964e-01,  3.86268570e-01,\n",
       "        -2.71775181e-01],\n",
       "       [-1.52045675e+00,  1.04271411e+00, -1.02430981e+00,\n",
       "         9.99145539e-01],\n",
       "       [-8.37137558e-01, -1.21202917e-01, -8.76267124e-01,\n",
       "         1.88467572e+00],\n",
       "       [ 5.13801943e-01,  2.84142110e-01,  6.31426150e-01,\n",
       "         9.24210004e-01]])"
      ]
     },
     "execution_count": 13,
     "metadata": {},
     "output_type": "execute_result"
    }
   ],
   "execution_count": 13
  },
  {
   "metadata": {
    "ExecuteTime": {
     "end_time": "2025-01-20T12:22:56.114276Z",
     "start_time": "2025-01-20T12:22:56.103230Z"
    }
   },
   "cell_type": "code",
   "source": "df.describe()",
   "id": "cf05fa8850c417f9",
   "outputs": [
    {
     "data": {
      "text/plain": [
       "              A         B         C         D\n",
       "count  6.000000  6.000000  6.000000  6.000000\n",
       "mean  -0.698931  0.157969 -0.203654  0.802554\n",
       "std    1.313631  0.493916  0.727496  0.721619\n",
       "min   -2.529039 -0.406153 -1.024310 -0.271775\n",
       "25%   -1.359706 -0.090776 -0.821117  0.490822\n",
       "50%   -0.857296  0.074157 -0.169522  0.928460\n",
       "75%    0.176067  0.250059  0.368857  0.982537\n",
       "max    1.056701  1.042714  0.631426  1.884676"
      ],
      "text/html": [
       "<div>\n",
       "<style scoped>\n",
       "    .dataframe tbody tr th:only-of-type {\n",
       "        vertical-align: middle;\n",
       "    }\n",
       "\n",
       "    .dataframe tbody tr th {\n",
       "        vertical-align: top;\n",
       "    }\n",
       "\n",
       "    .dataframe thead th {\n",
       "        text-align: right;\n",
       "    }\n",
       "</style>\n",
       "<table border=\"1\" class=\"dataframe\">\n",
       "  <thead>\n",
       "    <tr style=\"text-align: right;\">\n",
       "      <th></th>\n",
       "      <th>A</th>\n",
       "      <th>B</th>\n",
       "      <th>C</th>\n",
       "      <th>D</th>\n",
       "    </tr>\n",
       "  </thead>\n",
       "  <tbody>\n",
       "    <tr>\n",
       "      <th>count</th>\n",
       "      <td>6.000000</td>\n",
       "      <td>6.000000</td>\n",
       "      <td>6.000000</td>\n",
       "      <td>6.000000</td>\n",
       "    </tr>\n",
       "    <tr>\n",
       "      <th>mean</th>\n",
       "      <td>-0.698931</td>\n",
       "      <td>0.157969</td>\n",
       "      <td>-0.203654</td>\n",
       "      <td>0.802554</td>\n",
       "    </tr>\n",
       "    <tr>\n",
       "      <th>std</th>\n",
       "      <td>1.313631</td>\n",
       "      <td>0.493916</td>\n",
       "      <td>0.727496</td>\n",
       "      <td>0.721619</td>\n",
       "    </tr>\n",
       "    <tr>\n",
       "      <th>min</th>\n",
       "      <td>-2.529039</td>\n",
       "      <td>-0.406153</td>\n",
       "      <td>-1.024310</td>\n",
       "      <td>-0.271775</td>\n",
       "    </tr>\n",
       "    <tr>\n",
       "      <th>25%</th>\n",
       "      <td>-1.359706</td>\n",
       "      <td>-0.090776</td>\n",
       "      <td>-0.821117</td>\n",
       "      <td>0.490822</td>\n",
       "    </tr>\n",
       "    <tr>\n",
       "      <th>50%</th>\n",
       "      <td>-0.857296</td>\n",
       "      <td>0.074157</td>\n",
       "      <td>-0.169522</td>\n",
       "      <td>0.928460</td>\n",
       "    </tr>\n",
       "    <tr>\n",
       "      <th>75%</th>\n",
       "      <td>0.176067</td>\n",
       "      <td>0.250059</td>\n",
       "      <td>0.368857</td>\n",
       "      <td>0.982537</td>\n",
       "    </tr>\n",
       "    <tr>\n",
       "      <th>max</th>\n",
       "      <td>1.056701</td>\n",
       "      <td>1.042714</td>\n",
       "      <td>0.631426</td>\n",
       "      <td>1.884676</td>\n",
       "    </tr>\n",
       "  </tbody>\n",
       "</table>\n",
       "</div>"
      ]
     },
     "execution_count": 14,
     "metadata": {},
     "output_type": "execute_result"
    }
   ],
   "execution_count": 14
  },
  {
   "metadata": {
    "ExecuteTime": {
     "end_time": "2025-01-20T12:23:02.976090Z",
     "start_time": "2025-01-20T12:23:02.969054Z"
    }
   },
   "cell_type": "code",
   "source": " df.T",
   "id": "df7464fa3499175e",
   "outputs": [
    {
     "data": {
      "text/plain": [
       "   2013-01-01  2013-01-02  2013-01-03  2013-01-04  2013-01-05  2013-01-06\n",
       "A    1.056701   -0.877455   -2.529039   -1.520457   -0.837138    0.513802\n",
       "B    0.000504   -0.406153    0.147809    1.042714   -0.121203    0.284142\n",
       "C    0.316622   -0.655665    0.386269   -1.024310   -0.876267    0.631426\n",
       "D    0.346360    0.932711   -0.271775    0.999146    1.884676    0.924210"
      ],
      "text/html": [
       "<div>\n",
       "<style scoped>\n",
       "    .dataframe tbody tr th:only-of-type {\n",
       "        vertical-align: middle;\n",
       "    }\n",
       "\n",
       "    .dataframe tbody tr th {\n",
       "        vertical-align: top;\n",
       "    }\n",
       "\n",
       "    .dataframe thead th {\n",
       "        text-align: right;\n",
       "    }\n",
       "</style>\n",
       "<table border=\"1\" class=\"dataframe\">\n",
       "  <thead>\n",
       "    <tr style=\"text-align: right;\">\n",
       "      <th></th>\n",
       "      <th>2013-01-01</th>\n",
       "      <th>2013-01-02</th>\n",
       "      <th>2013-01-03</th>\n",
       "      <th>2013-01-04</th>\n",
       "      <th>2013-01-05</th>\n",
       "      <th>2013-01-06</th>\n",
       "    </tr>\n",
       "  </thead>\n",
       "  <tbody>\n",
       "    <tr>\n",
       "      <th>A</th>\n",
       "      <td>1.056701</td>\n",
       "      <td>-0.877455</td>\n",
       "      <td>-2.529039</td>\n",
       "      <td>-1.520457</td>\n",
       "      <td>-0.837138</td>\n",
       "      <td>0.513802</td>\n",
       "    </tr>\n",
       "    <tr>\n",
       "      <th>B</th>\n",
       "      <td>0.000504</td>\n",
       "      <td>-0.406153</td>\n",
       "      <td>0.147809</td>\n",
       "      <td>1.042714</td>\n",
       "      <td>-0.121203</td>\n",
       "      <td>0.284142</td>\n",
       "    </tr>\n",
       "    <tr>\n",
       "      <th>C</th>\n",
       "      <td>0.316622</td>\n",
       "      <td>-0.655665</td>\n",
       "      <td>0.386269</td>\n",
       "      <td>-1.024310</td>\n",
       "      <td>-0.876267</td>\n",
       "      <td>0.631426</td>\n",
       "    </tr>\n",
       "    <tr>\n",
       "      <th>D</th>\n",
       "      <td>0.346360</td>\n",
       "      <td>0.932711</td>\n",
       "      <td>-0.271775</td>\n",
       "      <td>0.999146</td>\n",
       "      <td>1.884676</td>\n",
       "      <td>0.924210</td>\n",
       "    </tr>\n",
       "  </tbody>\n",
       "</table>\n",
       "</div>"
      ]
     },
     "execution_count": 15,
     "metadata": {},
     "output_type": "execute_result"
    }
   ],
   "execution_count": 15
  },
  {
   "metadata": {
    "ExecuteTime": {
     "end_time": "2025-01-20T12:23:10.937716Z",
     "start_time": "2025-01-20T12:23:10.930389Z"
    }
   },
   "cell_type": "code",
   "source": " df.sort_index(axis=1, ascending=False)",
   "id": "9cd1aa4d7de7d93b",
   "outputs": [
    {
     "data": {
      "text/plain": [
       "                   D         C         B         A\n",
       "2013-01-01  0.346360  0.316622  0.000504  1.056701\n",
       "2013-01-02  0.932711 -0.655665 -0.406153 -0.877455\n",
       "2013-01-03 -0.271775  0.386269  0.147809 -2.529039\n",
       "2013-01-04  0.999146 -1.024310  1.042714 -1.520457\n",
       "2013-01-05  1.884676 -0.876267 -0.121203 -0.837138\n",
       "2013-01-06  0.924210  0.631426  0.284142  0.513802"
      ],
      "text/html": [
       "<div>\n",
       "<style scoped>\n",
       "    .dataframe tbody tr th:only-of-type {\n",
       "        vertical-align: middle;\n",
       "    }\n",
       "\n",
       "    .dataframe tbody tr th {\n",
       "        vertical-align: top;\n",
       "    }\n",
       "\n",
       "    .dataframe thead th {\n",
       "        text-align: right;\n",
       "    }\n",
       "</style>\n",
       "<table border=\"1\" class=\"dataframe\">\n",
       "  <thead>\n",
       "    <tr style=\"text-align: right;\">\n",
       "      <th></th>\n",
       "      <th>D</th>\n",
       "      <th>C</th>\n",
       "      <th>B</th>\n",
       "      <th>A</th>\n",
       "    </tr>\n",
       "  </thead>\n",
       "  <tbody>\n",
       "    <tr>\n",
       "      <th>2013-01-01</th>\n",
       "      <td>0.346360</td>\n",
       "      <td>0.316622</td>\n",
       "      <td>0.000504</td>\n",
       "      <td>1.056701</td>\n",
       "    </tr>\n",
       "    <tr>\n",
       "      <th>2013-01-02</th>\n",
       "      <td>0.932711</td>\n",
       "      <td>-0.655665</td>\n",
       "      <td>-0.406153</td>\n",
       "      <td>-0.877455</td>\n",
       "    </tr>\n",
       "    <tr>\n",
       "      <th>2013-01-03</th>\n",
       "      <td>-0.271775</td>\n",
       "      <td>0.386269</td>\n",
       "      <td>0.147809</td>\n",
       "      <td>-2.529039</td>\n",
       "    </tr>\n",
       "    <tr>\n",
       "      <th>2013-01-04</th>\n",
       "      <td>0.999146</td>\n",
       "      <td>-1.024310</td>\n",
       "      <td>1.042714</td>\n",
       "      <td>-1.520457</td>\n",
       "    </tr>\n",
       "    <tr>\n",
       "      <th>2013-01-05</th>\n",
       "      <td>1.884676</td>\n",
       "      <td>-0.876267</td>\n",
       "      <td>-0.121203</td>\n",
       "      <td>-0.837138</td>\n",
       "    </tr>\n",
       "    <tr>\n",
       "      <th>2013-01-06</th>\n",
       "      <td>0.924210</td>\n",
       "      <td>0.631426</td>\n",
       "      <td>0.284142</td>\n",
       "      <td>0.513802</td>\n",
       "    </tr>\n",
       "  </tbody>\n",
       "</table>\n",
       "</div>"
      ]
     },
     "execution_count": 16,
     "metadata": {},
     "output_type": "execute_result"
    }
   ],
   "execution_count": 16
  },
  {
   "metadata": {
    "ExecuteTime": {
     "end_time": "2025-01-20T12:23:24.597457Z",
     "start_time": "2025-01-20T12:23:24.589451Z"
    }
   },
   "cell_type": "code",
   "source": "df.sort_values(by='B')",
   "id": "a49c971766c05116",
   "outputs": [
    {
     "data": {
      "text/plain": [
       "                   A         B         C         D\n",
       "2013-01-02 -0.877455 -0.406153 -0.655665  0.932711\n",
       "2013-01-05 -0.837138 -0.121203 -0.876267  1.884676\n",
       "2013-01-01  1.056701  0.000504  0.316622  0.346360\n",
       "2013-01-03 -2.529039  0.147809  0.386269 -0.271775\n",
       "2013-01-06  0.513802  0.284142  0.631426  0.924210\n",
       "2013-01-04 -1.520457  1.042714 -1.024310  0.999146"
      ],
      "text/html": [
       "<div>\n",
       "<style scoped>\n",
       "    .dataframe tbody tr th:only-of-type {\n",
       "        vertical-align: middle;\n",
       "    }\n",
       "\n",
       "    .dataframe tbody tr th {\n",
       "        vertical-align: top;\n",
       "    }\n",
       "\n",
       "    .dataframe thead th {\n",
       "        text-align: right;\n",
       "    }\n",
       "</style>\n",
       "<table border=\"1\" class=\"dataframe\">\n",
       "  <thead>\n",
       "    <tr style=\"text-align: right;\">\n",
       "      <th></th>\n",
       "      <th>A</th>\n",
       "      <th>B</th>\n",
       "      <th>C</th>\n",
       "      <th>D</th>\n",
       "    </tr>\n",
       "  </thead>\n",
       "  <tbody>\n",
       "    <tr>\n",
       "      <th>2013-01-02</th>\n",
       "      <td>-0.877455</td>\n",
       "      <td>-0.406153</td>\n",
       "      <td>-0.655665</td>\n",
       "      <td>0.932711</td>\n",
       "    </tr>\n",
       "    <tr>\n",
       "      <th>2013-01-05</th>\n",
       "      <td>-0.837138</td>\n",
       "      <td>-0.121203</td>\n",
       "      <td>-0.876267</td>\n",
       "      <td>1.884676</td>\n",
       "    </tr>\n",
       "    <tr>\n",
       "      <th>2013-01-01</th>\n",
       "      <td>1.056701</td>\n",
       "      <td>0.000504</td>\n",
       "      <td>0.316622</td>\n",
       "      <td>0.346360</td>\n",
       "    </tr>\n",
       "    <tr>\n",
       "      <th>2013-01-03</th>\n",
       "      <td>-2.529039</td>\n",
       "      <td>0.147809</td>\n",
       "      <td>0.386269</td>\n",
       "      <td>-0.271775</td>\n",
       "    </tr>\n",
       "    <tr>\n",
       "      <th>2013-01-06</th>\n",
       "      <td>0.513802</td>\n",
       "      <td>0.284142</td>\n",
       "      <td>0.631426</td>\n",
       "      <td>0.924210</td>\n",
       "    </tr>\n",
       "    <tr>\n",
       "      <th>2013-01-04</th>\n",
       "      <td>-1.520457</td>\n",
       "      <td>1.042714</td>\n",
       "      <td>-1.024310</td>\n",
       "      <td>0.999146</td>\n",
       "    </tr>\n",
       "  </tbody>\n",
       "</table>\n",
       "</div>"
      ]
     },
     "execution_count": 18,
     "metadata": {},
     "output_type": "execute_result"
    }
   ],
   "execution_count": 18
  },
  {
   "metadata": {
    "ExecuteTime": {
     "end_time": "2025-01-20T12:23:37.164986Z",
     "start_time": "2025-01-20T12:23:37.159568Z"
    }
   },
   "cell_type": "code",
   "source": "df['A']",
   "id": "f736f154a043c964",
   "outputs": [
    {
     "data": {
      "text/plain": [
       "2013-01-01    1.056701\n",
       "2013-01-02   -0.877455\n",
       "2013-01-03   -2.529039\n",
       "2013-01-04   -1.520457\n",
       "2013-01-05   -0.837138\n",
       "2013-01-06    0.513802\n",
       "Freq: D, Name: A, dtype: float64"
      ]
     },
     "execution_count": 19,
     "metadata": {},
     "output_type": "execute_result"
    }
   ],
   "execution_count": 19
  },
  {
   "metadata": {
    "ExecuteTime": {
     "end_time": "2025-01-20T12:23:43.035271Z",
     "start_time": "2025-01-20T12:23:43.027739Z"
    }
   },
   "cell_type": "code",
   "source": "df[0:3]",
   "id": "d9c4298964fd2543",
   "outputs": [
    {
     "data": {
      "text/plain": [
       "                   A         B         C         D\n",
       "2013-01-01  1.056701  0.000504  0.316622  0.346360\n",
       "2013-01-02 -0.877455 -0.406153 -0.655665  0.932711\n",
       "2013-01-03 -2.529039  0.147809  0.386269 -0.271775"
      ],
      "text/html": [
       "<div>\n",
       "<style scoped>\n",
       "    .dataframe tbody tr th:only-of-type {\n",
       "        vertical-align: middle;\n",
       "    }\n",
       "\n",
       "    .dataframe tbody tr th {\n",
       "        vertical-align: top;\n",
       "    }\n",
       "\n",
       "    .dataframe thead th {\n",
       "        text-align: right;\n",
       "    }\n",
       "</style>\n",
       "<table border=\"1\" class=\"dataframe\">\n",
       "  <thead>\n",
       "    <tr style=\"text-align: right;\">\n",
       "      <th></th>\n",
       "      <th>A</th>\n",
       "      <th>B</th>\n",
       "      <th>C</th>\n",
       "      <th>D</th>\n",
       "    </tr>\n",
       "  </thead>\n",
       "  <tbody>\n",
       "    <tr>\n",
       "      <th>2013-01-01</th>\n",
       "      <td>1.056701</td>\n",
       "      <td>0.000504</td>\n",
       "      <td>0.316622</td>\n",
       "      <td>0.346360</td>\n",
       "    </tr>\n",
       "    <tr>\n",
       "      <th>2013-01-02</th>\n",
       "      <td>-0.877455</td>\n",
       "      <td>-0.406153</td>\n",
       "      <td>-0.655665</td>\n",
       "      <td>0.932711</td>\n",
       "    </tr>\n",
       "    <tr>\n",
       "      <th>2013-01-03</th>\n",
       "      <td>-2.529039</td>\n",
       "      <td>0.147809</td>\n",
       "      <td>0.386269</td>\n",
       "      <td>-0.271775</td>\n",
       "    </tr>\n",
       "  </tbody>\n",
       "</table>\n",
       "</div>"
      ]
     },
     "execution_count": 20,
     "metadata": {},
     "output_type": "execute_result"
    }
   ],
   "execution_count": 20
  },
  {
   "metadata": {
    "ExecuteTime": {
     "end_time": "2025-01-20T12:23:59.811856Z",
     "start_time": "2025-01-20T12:23:59.803893Z"
    }
   },
   "cell_type": "code",
   "source": "df['20130102':'20130104']",
   "id": "72997045b6e199d5",
   "outputs": [
    {
     "data": {
      "text/plain": [
       "                   A         B         C         D\n",
       "2013-01-02 -0.877455 -0.406153 -0.655665  0.932711\n",
       "2013-01-03 -2.529039  0.147809  0.386269 -0.271775\n",
       "2013-01-04 -1.520457  1.042714 -1.024310  0.999146"
      ],
      "text/html": [
       "<div>\n",
       "<style scoped>\n",
       "    .dataframe tbody tr th:only-of-type {\n",
       "        vertical-align: middle;\n",
       "    }\n",
       "\n",
       "    .dataframe tbody tr th {\n",
       "        vertical-align: top;\n",
       "    }\n",
       "\n",
       "    .dataframe thead th {\n",
       "        text-align: right;\n",
       "    }\n",
       "</style>\n",
       "<table border=\"1\" class=\"dataframe\">\n",
       "  <thead>\n",
       "    <tr style=\"text-align: right;\">\n",
       "      <th></th>\n",
       "      <th>A</th>\n",
       "      <th>B</th>\n",
       "      <th>C</th>\n",
       "      <th>D</th>\n",
       "    </tr>\n",
       "  </thead>\n",
       "  <tbody>\n",
       "    <tr>\n",
       "      <th>2013-01-02</th>\n",
       "      <td>-0.877455</td>\n",
       "      <td>-0.406153</td>\n",
       "      <td>-0.655665</td>\n",
       "      <td>0.932711</td>\n",
       "    </tr>\n",
       "    <tr>\n",
       "      <th>2013-01-03</th>\n",
       "      <td>-2.529039</td>\n",
       "      <td>0.147809</td>\n",
       "      <td>0.386269</td>\n",
       "      <td>-0.271775</td>\n",
       "    </tr>\n",
       "    <tr>\n",
       "      <th>2013-01-04</th>\n",
       "      <td>-1.520457</td>\n",
       "      <td>1.042714</td>\n",
       "      <td>-1.024310</td>\n",
       "      <td>0.999146</td>\n",
       "    </tr>\n",
       "  </tbody>\n",
       "</table>\n",
       "</div>"
      ]
     },
     "execution_count": 21,
     "metadata": {},
     "output_type": "execute_result"
    }
   ],
   "execution_count": 21
  },
  {
   "metadata": {
    "ExecuteTime": {
     "end_time": "2025-01-20T12:24:21.958439Z",
     "start_time": "2025-01-20T12:24:21.951608Z"
    }
   },
   "cell_type": "code",
   "source": "df.loc[:,['A','B']]",
   "id": "df40f66ea6473a59",
   "outputs": [
    {
     "data": {
      "text/plain": [
       "                   A         B\n",
       "2013-01-01  1.056701  0.000504\n",
       "2013-01-02 -0.877455 -0.406153\n",
       "2013-01-03 -2.529039  0.147809\n",
       "2013-01-04 -1.520457  1.042714\n",
       "2013-01-05 -0.837138 -0.121203\n",
       "2013-01-06  0.513802  0.284142"
      ],
      "text/html": [
       "<div>\n",
       "<style scoped>\n",
       "    .dataframe tbody tr th:only-of-type {\n",
       "        vertical-align: middle;\n",
       "    }\n",
       "\n",
       "    .dataframe tbody tr th {\n",
       "        vertical-align: top;\n",
       "    }\n",
       "\n",
       "    .dataframe thead th {\n",
       "        text-align: right;\n",
       "    }\n",
       "</style>\n",
       "<table border=\"1\" class=\"dataframe\">\n",
       "  <thead>\n",
       "    <tr style=\"text-align: right;\">\n",
       "      <th></th>\n",
       "      <th>A</th>\n",
       "      <th>B</th>\n",
       "    </tr>\n",
       "  </thead>\n",
       "  <tbody>\n",
       "    <tr>\n",
       "      <th>2013-01-01</th>\n",
       "      <td>1.056701</td>\n",
       "      <td>0.000504</td>\n",
       "    </tr>\n",
       "    <tr>\n",
       "      <th>2013-01-02</th>\n",
       "      <td>-0.877455</td>\n",
       "      <td>-0.406153</td>\n",
       "    </tr>\n",
       "    <tr>\n",
       "      <th>2013-01-03</th>\n",
       "      <td>-2.529039</td>\n",
       "      <td>0.147809</td>\n",
       "    </tr>\n",
       "    <tr>\n",
       "      <th>2013-01-04</th>\n",
       "      <td>-1.520457</td>\n",
       "      <td>1.042714</td>\n",
       "    </tr>\n",
       "    <tr>\n",
       "      <th>2013-01-05</th>\n",
       "      <td>-0.837138</td>\n",
       "      <td>-0.121203</td>\n",
       "    </tr>\n",
       "    <tr>\n",
       "      <th>2013-01-06</th>\n",
       "      <td>0.513802</td>\n",
       "      <td>0.284142</td>\n",
       "    </tr>\n",
       "  </tbody>\n",
       "</table>\n",
       "</div>"
      ]
     },
     "execution_count": 22,
     "metadata": {},
     "output_type": "execute_result"
    }
   ],
   "execution_count": 22
  },
  {
   "metadata": {
    "ExecuteTime": {
     "end_time": "2025-01-20T12:24:47.316067Z",
     "start_time": "2025-01-20T12:24:47.308213Z"
    }
   },
   "cell_type": "code",
   "source": "df.loc['2013-01-02':'2013-01-04', ['A', 'B']]",
   "id": "5c8b921904f385f8",
   "outputs": [
    {
     "data": {
      "text/plain": [
       "                   A         B\n",
       "2013-01-02 -0.877455 -0.406153\n",
       "2013-01-03 -2.529039  0.147809\n",
       "2013-01-04 -1.520457  1.042714"
      ],
      "text/html": [
       "<div>\n",
       "<style scoped>\n",
       "    .dataframe tbody tr th:only-of-type {\n",
       "        vertical-align: middle;\n",
       "    }\n",
       "\n",
       "    .dataframe tbody tr th {\n",
       "        vertical-align: top;\n",
       "    }\n",
       "\n",
       "    .dataframe thead th {\n",
       "        text-align: right;\n",
       "    }\n",
       "</style>\n",
       "<table border=\"1\" class=\"dataframe\">\n",
       "  <thead>\n",
       "    <tr style=\"text-align: right;\">\n",
       "      <th></th>\n",
       "      <th>A</th>\n",
       "      <th>B</th>\n",
       "    </tr>\n",
       "  </thead>\n",
       "  <tbody>\n",
       "    <tr>\n",
       "      <th>2013-01-02</th>\n",
       "      <td>-0.877455</td>\n",
       "      <td>-0.406153</td>\n",
       "    </tr>\n",
       "    <tr>\n",
       "      <th>2013-01-03</th>\n",
       "      <td>-2.529039</td>\n",
       "      <td>0.147809</td>\n",
       "    </tr>\n",
       "    <tr>\n",
       "      <th>2013-01-04</th>\n",
       "      <td>-1.520457</td>\n",
       "      <td>1.042714</td>\n",
       "    </tr>\n",
       "  </tbody>\n",
       "</table>\n",
       "</div>"
      ]
     },
     "execution_count": 23,
     "metadata": {},
     "output_type": "execute_result"
    }
   ],
   "execution_count": 23
  },
  {
   "metadata": {
    "ExecuteTime": {
     "end_time": "2025-01-20T12:25:14.692939Z",
     "start_time": "2025-01-20T12:25:14.687171Z"
    }
   },
   "cell_type": "code",
   "source": "df.loc['20130102', ['A', 'B']]",
   "id": "77db41dd97a85ac9",
   "outputs": [
    {
     "data": {
      "text/plain": [
       "A   -0.877455\n",
       "B   -0.406153\n",
       "Name: 2013-01-02 00:00:00, dtype: float64"
      ]
     },
     "execution_count": 24,
     "metadata": {},
     "output_type": "execute_result"
    }
   ],
   "execution_count": 24
  },
  {
   "metadata": {
    "ExecuteTime": {
     "end_time": "2025-01-20T12:25:33.910634Z",
     "start_time": "2025-01-20T12:25:33.905805Z"
    }
   },
   "cell_type": "code",
   "source": "df.loc[dates[0], 'A']",
   "id": "53583c68924fa066",
   "outputs": [
    {
     "data": {
      "text/plain": [
       "np.float64(1.0567014800145211)"
      ]
     },
     "execution_count": 25,
     "metadata": {},
     "output_type": "execute_result"
    }
   ],
   "execution_count": 25
  },
  {
   "metadata": {
    "ExecuteTime": {
     "end_time": "2025-01-20T12:25:53.281940Z",
     "start_time": "2025-01-20T12:25:53.276943Z"
    }
   },
   "cell_type": "code",
   "source": "df.at[dates[0], 'A']",
   "id": "48cd0a7e382cc7c0",
   "outputs": [
    {
     "data": {
      "text/plain": [
       "np.float64(1.0567014800145211)"
      ]
     },
     "execution_count": 26,
     "metadata": {},
     "output_type": "execute_result"
    }
   ],
   "execution_count": 26
  },
  {
   "metadata": {
    "ExecuteTime": {
     "end_time": "2025-01-20T12:26:02.826850Z",
     "start_time": "2025-01-20T12:26:02.821598Z"
    }
   },
   "cell_type": "code",
   "source": "df.iloc[3]",
   "id": "90225b96361604ff",
   "outputs": [
    {
     "data": {
      "text/plain": [
       "A   -1.520457\n",
       "B    1.042714\n",
       "C   -1.024310\n",
       "D    0.999146\n",
       "Name: 2013-01-04 00:00:00, dtype: float64"
      ]
     },
     "execution_count": 27,
     "metadata": {},
     "output_type": "execute_result"
    }
   ],
   "execution_count": 27
  },
  {
   "metadata": {
    "ExecuteTime": {
     "end_time": "2025-01-20T12:26:13.221493Z",
     "start_time": "2025-01-20T12:26:13.215591Z"
    }
   },
   "cell_type": "code",
   "source": "df.iloc[3:5,0:2]",
   "id": "47aa7f8e90894d5f",
   "outputs": [
    {
     "data": {
      "text/plain": [
       "                   A         B\n",
       "2013-01-04 -1.520457  1.042714\n",
       "2013-01-05 -0.837138 -0.121203"
      ],
      "text/html": [
       "<div>\n",
       "<style scoped>\n",
       "    .dataframe tbody tr th:only-of-type {\n",
       "        vertical-align: middle;\n",
       "    }\n",
       "\n",
       "    .dataframe tbody tr th {\n",
       "        vertical-align: top;\n",
       "    }\n",
       "\n",
       "    .dataframe thead th {\n",
       "        text-align: right;\n",
       "    }\n",
       "</style>\n",
       "<table border=\"1\" class=\"dataframe\">\n",
       "  <thead>\n",
       "    <tr style=\"text-align: right;\">\n",
       "      <th></th>\n",
       "      <th>A</th>\n",
       "      <th>B</th>\n",
       "    </tr>\n",
       "  </thead>\n",
       "  <tbody>\n",
       "    <tr>\n",
       "      <th>2013-01-04</th>\n",
       "      <td>-1.520457</td>\n",
       "      <td>1.042714</td>\n",
       "    </tr>\n",
       "    <tr>\n",
       "      <th>2013-01-05</th>\n",
       "      <td>-0.837138</td>\n",
       "      <td>-0.121203</td>\n",
       "    </tr>\n",
       "  </tbody>\n",
       "</table>\n",
       "</div>"
      ]
     },
     "execution_count": 28,
     "metadata": {},
     "output_type": "execute_result"
    }
   ],
   "execution_count": 28
  },
  {
   "metadata": {
    "ExecuteTime": {
     "end_time": "2025-01-20T12:26:20.585843Z",
     "start_time": "2025-01-20T12:26:20.579365Z"
    }
   },
   "cell_type": "code",
   "source": "df.iloc[[1,2,4],[0,2]]",
   "id": "1f0dead51b34fe1c",
   "outputs": [
    {
     "data": {
      "text/plain": [
       "                   A         C\n",
       "2013-01-02 -0.877455 -0.655665\n",
       "2013-01-03 -2.529039  0.386269\n",
       "2013-01-05 -0.837138 -0.876267"
      ],
      "text/html": [
       "<div>\n",
       "<style scoped>\n",
       "    .dataframe tbody tr th:only-of-type {\n",
       "        vertical-align: middle;\n",
       "    }\n",
       "\n",
       "    .dataframe tbody tr th {\n",
       "        vertical-align: top;\n",
       "    }\n",
       "\n",
       "    .dataframe thead th {\n",
       "        text-align: right;\n",
       "    }\n",
       "</style>\n",
       "<table border=\"1\" class=\"dataframe\">\n",
       "  <thead>\n",
       "    <tr style=\"text-align: right;\">\n",
       "      <th></th>\n",
       "      <th>A</th>\n",
       "      <th>C</th>\n",
       "    </tr>\n",
       "  </thead>\n",
       "  <tbody>\n",
       "    <tr>\n",
       "      <th>2013-01-02</th>\n",
       "      <td>-0.877455</td>\n",
       "      <td>-0.655665</td>\n",
       "    </tr>\n",
       "    <tr>\n",
       "      <th>2013-01-03</th>\n",
       "      <td>-2.529039</td>\n",
       "      <td>0.386269</td>\n",
       "    </tr>\n",
       "    <tr>\n",
       "      <th>2013-01-05</th>\n",
       "      <td>-0.837138</td>\n",
       "      <td>-0.876267</td>\n",
       "    </tr>\n",
       "  </tbody>\n",
       "</table>\n",
       "</div>"
      ]
     },
     "execution_count": 29,
     "metadata": {},
     "output_type": "execute_result"
    }
   ],
   "execution_count": 29
  },
  {
   "metadata": {
    "ExecuteTime": {
     "end_time": "2025-01-20T12:26:27.989247Z",
     "start_time": "2025-01-20T12:26:27.982242Z"
    }
   },
   "cell_type": "code",
   "source": "df.iloc[1:3,:]",
   "id": "da8969cf925ad57a",
   "outputs": [
    {
     "data": {
      "text/plain": [
       "                   A         B         C         D\n",
       "2013-01-02 -0.877455 -0.406153 -0.655665  0.932711\n",
       "2013-01-03 -2.529039  0.147809  0.386269 -0.271775"
      ],
      "text/html": [
       "<div>\n",
       "<style scoped>\n",
       "    .dataframe tbody tr th:only-of-type {\n",
       "        vertical-align: middle;\n",
       "    }\n",
       "\n",
       "    .dataframe tbody tr th {\n",
       "        vertical-align: top;\n",
       "    }\n",
       "\n",
       "    .dataframe thead th {\n",
       "        text-align: right;\n",
       "    }\n",
       "</style>\n",
       "<table border=\"1\" class=\"dataframe\">\n",
       "  <thead>\n",
       "    <tr style=\"text-align: right;\">\n",
       "      <th></th>\n",
       "      <th>A</th>\n",
       "      <th>B</th>\n",
       "      <th>C</th>\n",
       "      <th>D</th>\n",
       "    </tr>\n",
       "  </thead>\n",
       "  <tbody>\n",
       "    <tr>\n",
       "      <th>2013-01-02</th>\n",
       "      <td>-0.877455</td>\n",
       "      <td>-0.406153</td>\n",
       "      <td>-0.655665</td>\n",
       "      <td>0.932711</td>\n",
       "    </tr>\n",
       "    <tr>\n",
       "      <th>2013-01-03</th>\n",
       "      <td>-2.529039</td>\n",
       "      <td>0.147809</td>\n",
       "      <td>0.386269</td>\n",
       "      <td>-0.271775</td>\n",
       "    </tr>\n",
       "  </tbody>\n",
       "</table>\n",
       "</div>"
      ]
     },
     "execution_count": 30,
     "metadata": {},
     "output_type": "execute_result"
    }
   ],
   "execution_count": 30
  },
  {
   "metadata": {
    "ExecuteTime": {
     "end_time": "2025-01-20T12:26:35.439196Z",
     "start_time": "2025-01-20T12:26:35.431320Z"
    }
   },
   "cell_type": "code",
   "source": "df.iloc[:,1:3]",
   "id": "3a86aca0468f4981",
   "outputs": [
    {
     "data": {
      "text/plain": [
       "                   B         C\n",
       "2013-01-01  0.000504  0.316622\n",
       "2013-01-02 -0.406153 -0.655665\n",
       "2013-01-03  0.147809  0.386269\n",
       "2013-01-04  1.042714 -1.024310\n",
       "2013-01-05 -0.121203 -0.876267\n",
       "2013-01-06  0.284142  0.631426"
      ],
      "text/html": [
       "<div>\n",
       "<style scoped>\n",
       "    .dataframe tbody tr th:only-of-type {\n",
       "        vertical-align: middle;\n",
       "    }\n",
       "\n",
       "    .dataframe tbody tr th {\n",
       "        vertical-align: top;\n",
       "    }\n",
       "\n",
       "    .dataframe thead th {\n",
       "        text-align: right;\n",
       "    }\n",
       "</style>\n",
       "<table border=\"1\" class=\"dataframe\">\n",
       "  <thead>\n",
       "    <tr style=\"text-align: right;\">\n",
       "      <th></th>\n",
       "      <th>B</th>\n",
       "      <th>C</th>\n",
       "    </tr>\n",
       "  </thead>\n",
       "  <tbody>\n",
       "    <tr>\n",
       "      <th>2013-01-01</th>\n",
       "      <td>0.000504</td>\n",
       "      <td>0.316622</td>\n",
       "    </tr>\n",
       "    <tr>\n",
       "      <th>2013-01-02</th>\n",
       "      <td>-0.406153</td>\n",
       "      <td>-0.655665</td>\n",
       "    </tr>\n",
       "    <tr>\n",
       "      <th>2013-01-03</th>\n",
       "      <td>0.147809</td>\n",
       "      <td>0.386269</td>\n",
       "    </tr>\n",
       "    <tr>\n",
       "      <th>2013-01-04</th>\n",
       "      <td>1.042714</td>\n",
       "      <td>-1.024310</td>\n",
       "    </tr>\n",
       "    <tr>\n",
       "      <th>2013-01-05</th>\n",
       "      <td>-0.121203</td>\n",
       "      <td>-0.876267</td>\n",
       "    </tr>\n",
       "    <tr>\n",
       "      <th>2013-01-06</th>\n",
       "      <td>0.284142</td>\n",
       "      <td>0.631426</td>\n",
       "    </tr>\n",
       "  </tbody>\n",
       "</table>\n",
       "</div>"
      ]
     },
     "execution_count": 31,
     "metadata": {},
     "output_type": "execute_result"
    }
   ],
   "execution_count": 31
  },
  {
   "metadata": {
    "ExecuteTime": {
     "end_time": "2025-01-20T12:26:46.332754Z",
     "start_time": "2025-01-20T12:26:46.327756Z"
    }
   },
   "cell_type": "code",
   "source": "df.iloc[1,1]",
   "id": "4965d27267a6bb65",
   "outputs": [
    {
     "data": {
      "text/plain": [
       "np.float64(-0.40615343404375626)"
      ]
     },
     "execution_count": 32,
     "metadata": {},
     "output_type": "execute_result"
    }
   ],
   "execution_count": 32
  },
  {
   "metadata": {
    "ExecuteTime": {
     "end_time": "2025-01-20T12:26:54.735158Z",
     "start_time": "2025-01-20T12:26:54.731002Z"
    }
   },
   "cell_type": "code",
   "source": "df.iat[1,1]",
   "id": "33f2eeb124b7ee06",
   "outputs": [
    {
     "data": {
      "text/plain": [
       "np.float64(-0.40615343404375626)"
      ]
     },
     "execution_count": 33,
     "metadata": {},
     "output_type": "execute_result"
    }
   ],
   "execution_count": 33
  },
  {
   "metadata": {
    "ExecuteTime": {
     "end_time": "2025-01-20T12:27:02.289545Z",
     "start_time": "2025-01-20T12:27:02.283037Z"
    }
   },
   "cell_type": "code",
   "source": "df[df.A > 0]",
   "id": "4adaa9e30748fa9a",
   "outputs": [
    {
     "data": {
      "text/plain": [
       "                   A         B         C        D\n",
       "2013-01-01  1.056701  0.000504  0.316622  0.34636\n",
       "2013-01-06  0.513802  0.284142  0.631426  0.92421"
      ],
      "text/html": [
       "<div>\n",
       "<style scoped>\n",
       "    .dataframe tbody tr th:only-of-type {\n",
       "        vertical-align: middle;\n",
       "    }\n",
       "\n",
       "    .dataframe tbody tr th {\n",
       "        vertical-align: top;\n",
       "    }\n",
       "\n",
       "    .dataframe thead th {\n",
       "        text-align: right;\n",
       "    }\n",
       "</style>\n",
       "<table border=\"1\" class=\"dataframe\">\n",
       "  <thead>\n",
       "    <tr style=\"text-align: right;\">\n",
       "      <th></th>\n",
       "      <th>A</th>\n",
       "      <th>B</th>\n",
       "      <th>C</th>\n",
       "      <th>D</th>\n",
       "    </tr>\n",
       "  </thead>\n",
       "  <tbody>\n",
       "    <tr>\n",
       "      <th>2013-01-01</th>\n",
       "      <td>1.056701</td>\n",
       "      <td>0.000504</td>\n",
       "      <td>0.316622</td>\n",
       "      <td>0.34636</td>\n",
       "    </tr>\n",
       "    <tr>\n",
       "      <th>2013-01-06</th>\n",
       "      <td>0.513802</td>\n",
       "      <td>0.284142</td>\n",
       "      <td>0.631426</td>\n",
       "      <td>0.92421</td>\n",
       "    </tr>\n",
       "  </tbody>\n",
       "</table>\n",
       "</div>"
      ]
     },
     "execution_count": 34,
     "metadata": {},
     "output_type": "execute_result"
    }
   ],
   "execution_count": 34
  },
  {
   "metadata": {
    "ExecuteTime": {
     "end_time": "2025-01-20T12:27:09.238737Z",
     "start_time": "2025-01-20T12:27:09.232087Z"
    }
   },
   "cell_type": "code",
   "source": " df[df > 0]",
   "id": "41b2519441e379b5",
   "outputs": [
    {
     "data": {
      "text/plain": [
       "                   A         B         C         D\n",
       "2013-01-01  1.056701  0.000504  0.316622  0.346360\n",
       "2013-01-02       NaN       NaN       NaN  0.932711\n",
       "2013-01-03       NaN  0.147809  0.386269       NaN\n",
       "2013-01-04       NaN  1.042714       NaN  0.999146\n",
       "2013-01-05       NaN       NaN       NaN  1.884676\n",
       "2013-01-06  0.513802  0.284142  0.631426  0.924210"
      ],
      "text/html": [
       "<div>\n",
       "<style scoped>\n",
       "    .dataframe tbody tr th:only-of-type {\n",
       "        vertical-align: middle;\n",
       "    }\n",
       "\n",
       "    .dataframe tbody tr th {\n",
       "        vertical-align: top;\n",
       "    }\n",
       "\n",
       "    .dataframe thead th {\n",
       "        text-align: right;\n",
       "    }\n",
       "</style>\n",
       "<table border=\"1\" class=\"dataframe\">\n",
       "  <thead>\n",
       "    <tr style=\"text-align: right;\">\n",
       "      <th></th>\n",
       "      <th>A</th>\n",
       "      <th>B</th>\n",
       "      <th>C</th>\n",
       "      <th>D</th>\n",
       "    </tr>\n",
       "  </thead>\n",
       "  <tbody>\n",
       "    <tr>\n",
       "      <th>2013-01-01</th>\n",
       "      <td>1.056701</td>\n",
       "      <td>0.000504</td>\n",
       "      <td>0.316622</td>\n",
       "      <td>0.346360</td>\n",
       "    </tr>\n",
       "    <tr>\n",
       "      <th>2013-01-02</th>\n",
       "      <td>NaN</td>\n",
       "      <td>NaN</td>\n",
       "      <td>NaN</td>\n",
       "      <td>0.932711</td>\n",
       "    </tr>\n",
       "    <tr>\n",
       "      <th>2013-01-03</th>\n",
       "      <td>NaN</td>\n",
       "      <td>0.147809</td>\n",
       "      <td>0.386269</td>\n",
       "      <td>NaN</td>\n",
       "    </tr>\n",
       "    <tr>\n",
       "      <th>2013-01-04</th>\n",
       "      <td>NaN</td>\n",
       "      <td>1.042714</td>\n",
       "      <td>NaN</td>\n",
       "      <td>0.999146</td>\n",
       "    </tr>\n",
       "    <tr>\n",
       "      <th>2013-01-05</th>\n",
       "      <td>NaN</td>\n",
       "      <td>NaN</td>\n",
       "      <td>NaN</td>\n",
       "      <td>1.884676</td>\n",
       "    </tr>\n",
       "    <tr>\n",
       "      <th>2013-01-06</th>\n",
       "      <td>0.513802</td>\n",
       "      <td>0.284142</td>\n",
       "      <td>0.631426</td>\n",
       "      <td>0.924210</td>\n",
       "    </tr>\n",
       "  </tbody>\n",
       "</table>\n",
       "</div>"
      ]
     },
     "execution_count": 35,
     "metadata": {},
     "output_type": "execute_result"
    }
   ],
   "execution_count": 35
  },
  {
   "metadata": {
    "ExecuteTime": {
     "end_time": "2025-01-20T12:27:45.927729Z",
     "start_time": "2025-01-20T12:27:45.918306Z"
    }
   },
   "cell_type": "code",
   "source": [
    "df2 = df.copy()\n",
    "df2['E'] = ['one', 'one', 'two', 'three', 'four', 'three']\n",
    "df2"
   ],
   "id": "8e919a3eea784232",
   "outputs": [
    {
     "data": {
      "text/plain": [
       "                   A         B         C         D      E\n",
       "2013-01-01  1.056701  0.000504  0.316622  0.346360    one\n",
       "2013-01-02 -0.877455 -0.406153 -0.655665  0.932711    one\n",
       "2013-01-03 -2.529039  0.147809  0.386269 -0.271775    two\n",
       "2013-01-04 -1.520457  1.042714 -1.024310  0.999146  three\n",
       "2013-01-05 -0.837138 -0.121203 -0.876267  1.884676   four\n",
       "2013-01-06  0.513802  0.284142  0.631426  0.924210  three"
      ],
      "text/html": [
       "<div>\n",
       "<style scoped>\n",
       "    .dataframe tbody tr th:only-of-type {\n",
       "        vertical-align: middle;\n",
       "    }\n",
       "\n",
       "    .dataframe tbody tr th {\n",
       "        vertical-align: top;\n",
       "    }\n",
       "\n",
       "    .dataframe thead th {\n",
       "        text-align: right;\n",
       "    }\n",
       "</style>\n",
       "<table border=\"1\" class=\"dataframe\">\n",
       "  <thead>\n",
       "    <tr style=\"text-align: right;\">\n",
       "      <th></th>\n",
       "      <th>A</th>\n",
       "      <th>B</th>\n",
       "      <th>C</th>\n",
       "      <th>D</th>\n",
       "      <th>E</th>\n",
       "    </tr>\n",
       "  </thead>\n",
       "  <tbody>\n",
       "    <tr>\n",
       "      <th>2013-01-01</th>\n",
       "      <td>1.056701</td>\n",
       "      <td>0.000504</td>\n",
       "      <td>0.316622</td>\n",
       "      <td>0.346360</td>\n",
       "      <td>one</td>\n",
       "    </tr>\n",
       "    <tr>\n",
       "      <th>2013-01-02</th>\n",
       "      <td>-0.877455</td>\n",
       "      <td>-0.406153</td>\n",
       "      <td>-0.655665</td>\n",
       "      <td>0.932711</td>\n",
       "      <td>one</td>\n",
       "    </tr>\n",
       "    <tr>\n",
       "      <th>2013-01-03</th>\n",
       "      <td>-2.529039</td>\n",
       "      <td>0.147809</td>\n",
       "      <td>0.386269</td>\n",
       "      <td>-0.271775</td>\n",
       "      <td>two</td>\n",
       "    </tr>\n",
       "    <tr>\n",
       "      <th>2013-01-04</th>\n",
       "      <td>-1.520457</td>\n",
       "      <td>1.042714</td>\n",
       "      <td>-1.024310</td>\n",
       "      <td>0.999146</td>\n",
       "      <td>three</td>\n",
       "    </tr>\n",
       "    <tr>\n",
       "      <th>2013-01-05</th>\n",
       "      <td>-0.837138</td>\n",
       "      <td>-0.121203</td>\n",
       "      <td>-0.876267</td>\n",
       "      <td>1.884676</td>\n",
       "      <td>four</td>\n",
       "    </tr>\n",
       "    <tr>\n",
       "      <th>2013-01-06</th>\n",
       "      <td>0.513802</td>\n",
       "      <td>0.284142</td>\n",
       "      <td>0.631426</td>\n",
       "      <td>0.924210</td>\n",
       "      <td>three</td>\n",
       "    </tr>\n",
       "  </tbody>\n",
       "</table>\n",
       "</div>"
      ]
     },
     "execution_count": 36,
     "metadata": {},
     "output_type": "execute_result"
    }
   ],
   "execution_count": 36
  },
  {
   "metadata": {
    "ExecuteTime": {
     "end_time": "2025-01-20T12:28:03.098476Z",
     "start_time": "2025-01-20T12:28:03.091479Z"
    }
   },
   "cell_type": "code",
   "source": "df2[df2['E'].isin(['two', 'four'])]",
   "id": "45bccbd579197019",
   "outputs": [
    {
     "data": {
      "text/plain": [
       "                   A         B         C         D     E\n",
       "2013-01-03 -2.529039  0.147809  0.386269 -0.271775   two\n",
       "2013-01-05 -0.837138 -0.121203 -0.876267  1.884676  four"
      ],
      "text/html": [
       "<div>\n",
       "<style scoped>\n",
       "    .dataframe tbody tr th:only-of-type {\n",
       "        vertical-align: middle;\n",
       "    }\n",
       "\n",
       "    .dataframe tbody tr th {\n",
       "        vertical-align: top;\n",
       "    }\n",
       "\n",
       "    .dataframe thead th {\n",
       "        text-align: right;\n",
       "    }\n",
       "</style>\n",
       "<table border=\"1\" class=\"dataframe\">\n",
       "  <thead>\n",
       "    <tr style=\"text-align: right;\">\n",
       "      <th></th>\n",
       "      <th>A</th>\n",
       "      <th>B</th>\n",
       "      <th>C</th>\n",
       "      <th>D</th>\n",
       "      <th>E</th>\n",
       "    </tr>\n",
       "  </thead>\n",
       "  <tbody>\n",
       "    <tr>\n",
       "      <th>2013-01-03</th>\n",
       "      <td>-2.529039</td>\n",
       "      <td>0.147809</td>\n",
       "      <td>0.386269</td>\n",
       "      <td>-0.271775</td>\n",
       "      <td>two</td>\n",
       "    </tr>\n",
       "    <tr>\n",
       "      <th>2013-01-05</th>\n",
       "      <td>-0.837138</td>\n",
       "      <td>-0.121203</td>\n",
       "      <td>-0.876267</td>\n",
       "      <td>1.884676</td>\n",
       "      <td>four</td>\n",
       "    </tr>\n",
       "  </tbody>\n",
       "</table>\n",
       "</div>"
      ]
     },
     "execution_count": 37,
     "metadata": {},
     "output_type": "execute_result"
    }
   ],
   "execution_count": 37
  },
  {
   "metadata": {
    "ExecuteTime": {
     "end_time": "2025-01-20T12:28:26.426706Z",
     "start_time": "2025-01-20T12:28:26.419708Z"
    }
   },
   "cell_type": "code",
   "source": [
    "s1 = pd.Series([1, 2, 3, 4, 5, 6], index=pd.date_range('20130102', periods=6))\n",
    "s1"
   ],
   "id": "e370d1f01fefe52e",
   "outputs": [
    {
     "data": {
      "text/plain": [
       "2013-01-02    1\n",
       "2013-01-03    2\n",
       "2013-01-04    3\n",
       "2013-01-05    4\n",
       "2013-01-06    5\n",
       "2013-01-07    6\n",
       "Freq: D, dtype: int64"
      ]
     },
     "execution_count": 38,
     "metadata": {},
     "output_type": "execute_result"
    }
   ],
   "execution_count": 38
  },
  {
   "metadata": {
    "ExecuteTime": {
     "end_time": "2025-01-20T12:29:29.563015Z",
     "start_time": "2025-01-20T12:29:29.554835Z"
    }
   },
   "cell_type": "code",
   "source": [
    "df.at[dates[0], 'A'] = 0\n",
    "df.iat[0,1] = 0\n",
    "df.loc[:, 'D'] = np.array([5] * len(df))\n",
    "df"
   ],
   "id": "a1581d5cd50799a1",
   "outputs": [
    {
     "data": {
      "text/plain": [
       "                   A         B         C    D\n",
       "2013-01-01  0.000000  0.000000  0.316622  5.0\n",
       "2013-01-02 -0.877455 -0.406153 -0.655665  5.0\n",
       "2013-01-03 -2.529039  0.147809  0.386269  5.0\n",
       "2013-01-04 -1.520457  1.042714 -1.024310  5.0\n",
       "2013-01-05 -0.837138 -0.121203 -0.876267  5.0\n",
       "2013-01-06  0.513802  0.284142  0.631426  5.0"
      ],
      "text/html": [
       "<div>\n",
       "<style scoped>\n",
       "    .dataframe tbody tr th:only-of-type {\n",
       "        vertical-align: middle;\n",
       "    }\n",
       "\n",
       "    .dataframe tbody tr th {\n",
       "        vertical-align: top;\n",
       "    }\n",
       "\n",
       "    .dataframe thead th {\n",
       "        text-align: right;\n",
       "    }\n",
       "</style>\n",
       "<table border=\"1\" class=\"dataframe\">\n",
       "  <thead>\n",
       "    <tr style=\"text-align: right;\">\n",
       "      <th></th>\n",
       "      <th>A</th>\n",
       "      <th>B</th>\n",
       "      <th>C</th>\n",
       "      <th>D</th>\n",
       "    </tr>\n",
       "  </thead>\n",
       "  <tbody>\n",
       "    <tr>\n",
       "      <th>2013-01-01</th>\n",
       "      <td>0.000000</td>\n",
       "      <td>0.000000</td>\n",
       "      <td>0.316622</td>\n",
       "      <td>5.0</td>\n",
       "    </tr>\n",
       "    <tr>\n",
       "      <th>2013-01-02</th>\n",
       "      <td>-0.877455</td>\n",
       "      <td>-0.406153</td>\n",
       "      <td>-0.655665</td>\n",
       "      <td>5.0</td>\n",
       "    </tr>\n",
       "    <tr>\n",
       "      <th>2013-01-03</th>\n",
       "      <td>-2.529039</td>\n",
       "      <td>0.147809</td>\n",
       "      <td>0.386269</td>\n",
       "      <td>5.0</td>\n",
       "    </tr>\n",
       "    <tr>\n",
       "      <th>2013-01-04</th>\n",
       "      <td>-1.520457</td>\n",
       "      <td>1.042714</td>\n",
       "      <td>-1.024310</td>\n",
       "      <td>5.0</td>\n",
       "    </tr>\n",
       "    <tr>\n",
       "      <th>2013-01-05</th>\n",
       "      <td>-0.837138</td>\n",
       "      <td>-0.121203</td>\n",
       "      <td>-0.876267</td>\n",
       "      <td>5.0</td>\n",
       "    </tr>\n",
       "    <tr>\n",
       "      <th>2013-01-06</th>\n",
       "      <td>0.513802</td>\n",
       "      <td>0.284142</td>\n",
       "      <td>0.631426</td>\n",
       "      <td>5.0</td>\n",
       "    </tr>\n",
       "  </tbody>\n",
       "</table>\n",
       "</div>"
      ]
     },
     "execution_count": 42,
     "metadata": {},
     "output_type": "execute_result"
    }
   ],
   "execution_count": 42
  },
  {
   "metadata": {
    "ExecuteTime": {
     "end_time": "2025-01-20T12:29:48.389822Z",
     "start_time": "2025-01-20T12:29:48.381905Z"
    }
   },
   "cell_type": "code",
   "source": [
    "df2 = df.copy()\n",
    "df2[df2 > 0] = -df2\n",
    "df2"
   ],
   "id": "294716abb184a34d",
   "outputs": [
    {
     "data": {
      "text/plain": [
       "                   A         B         C    D\n",
       "2013-01-01  0.000000  0.000000 -0.316622 -5.0\n",
       "2013-01-02 -0.877455 -0.406153 -0.655665 -5.0\n",
       "2013-01-03 -2.529039 -0.147809 -0.386269 -5.0\n",
       "2013-01-04 -1.520457 -1.042714 -1.024310 -5.0\n",
       "2013-01-05 -0.837138 -0.121203 -0.876267 -5.0\n",
       "2013-01-06 -0.513802 -0.284142 -0.631426 -5.0"
      ],
      "text/html": [
       "<div>\n",
       "<style scoped>\n",
       "    .dataframe tbody tr th:only-of-type {\n",
       "        vertical-align: middle;\n",
       "    }\n",
       "\n",
       "    .dataframe tbody tr th {\n",
       "        vertical-align: top;\n",
       "    }\n",
       "\n",
       "    .dataframe thead th {\n",
       "        text-align: right;\n",
       "    }\n",
       "</style>\n",
       "<table border=\"1\" class=\"dataframe\">\n",
       "  <thead>\n",
       "    <tr style=\"text-align: right;\">\n",
       "      <th></th>\n",
       "      <th>A</th>\n",
       "      <th>B</th>\n",
       "      <th>C</th>\n",
       "      <th>D</th>\n",
       "    </tr>\n",
       "  </thead>\n",
       "  <tbody>\n",
       "    <tr>\n",
       "      <th>2013-01-01</th>\n",
       "      <td>0.000000</td>\n",
       "      <td>0.000000</td>\n",
       "      <td>-0.316622</td>\n",
       "      <td>-5.0</td>\n",
       "    </tr>\n",
       "    <tr>\n",
       "      <th>2013-01-02</th>\n",
       "      <td>-0.877455</td>\n",
       "      <td>-0.406153</td>\n",
       "      <td>-0.655665</td>\n",
       "      <td>-5.0</td>\n",
       "    </tr>\n",
       "    <tr>\n",
       "      <th>2013-01-03</th>\n",
       "      <td>-2.529039</td>\n",
       "      <td>-0.147809</td>\n",
       "      <td>-0.386269</td>\n",
       "      <td>-5.0</td>\n",
       "    </tr>\n",
       "    <tr>\n",
       "      <th>2013-01-04</th>\n",
       "      <td>-1.520457</td>\n",
       "      <td>-1.042714</td>\n",
       "      <td>-1.024310</td>\n",
       "      <td>-5.0</td>\n",
       "    </tr>\n",
       "    <tr>\n",
       "      <th>2013-01-05</th>\n",
       "      <td>-0.837138</td>\n",
       "      <td>-0.121203</td>\n",
       "      <td>-0.876267</td>\n",
       "      <td>-5.0</td>\n",
       "    </tr>\n",
       "    <tr>\n",
       "      <th>2013-01-06</th>\n",
       "      <td>-0.513802</td>\n",
       "      <td>-0.284142</td>\n",
       "      <td>-0.631426</td>\n",
       "      <td>-5.0</td>\n",
       "    </tr>\n",
       "  </tbody>\n",
       "</table>\n",
       "</div>"
      ]
     },
     "execution_count": 43,
     "metadata": {},
     "output_type": "execute_result"
    }
   ],
   "execution_count": 43
  },
  {
   "metadata": {
    "ExecuteTime": {
     "end_time": "2025-01-20T12:30:12.256476Z",
     "start_time": "2025-01-20T12:30:12.249529Z"
    }
   },
   "cell_type": "code",
   "source": [
    "df1 = df.reindex(index=dates[0:4], columns=list(df.columns) + ['E'])\n",
    "df1.loc[dates[0]:dates[1], 'E'] = 1\n",
    "df1"
   ],
   "id": "5c0438fe5d764b28",
   "outputs": [
    {
     "data": {
      "text/plain": [
       "                   A         B         C    D    E\n",
       "2013-01-01  0.000000  0.000000  0.316622  5.0  1.0\n",
       "2013-01-02 -0.877455 -0.406153 -0.655665  5.0  1.0\n",
       "2013-01-03 -2.529039  0.147809  0.386269  5.0  NaN\n",
       "2013-01-04 -1.520457  1.042714 -1.024310  5.0  NaN"
      ],
      "text/html": [
       "<div>\n",
       "<style scoped>\n",
       "    .dataframe tbody tr th:only-of-type {\n",
       "        vertical-align: middle;\n",
       "    }\n",
       "\n",
       "    .dataframe tbody tr th {\n",
       "        vertical-align: top;\n",
       "    }\n",
       "\n",
       "    .dataframe thead th {\n",
       "        text-align: right;\n",
       "    }\n",
       "</style>\n",
       "<table border=\"1\" class=\"dataframe\">\n",
       "  <thead>\n",
       "    <tr style=\"text-align: right;\">\n",
       "      <th></th>\n",
       "      <th>A</th>\n",
       "      <th>B</th>\n",
       "      <th>C</th>\n",
       "      <th>D</th>\n",
       "      <th>E</th>\n",
       "    </tr>\n",
       "  </thead>\n",
       "  <tbody>\n",
       "    <tr>\n",
       "      <th>2013-01-01</th>\n",
       "      <td>0.000000</td>\n",
       "      <td>0.000000</td>\n",
       "      <td>0.316622</td>\n",
       "      <td>5.0</td>\n",
       "      <td>1.0</td>\n",
       "    </tr>\n",
       "    <tr>\n",
       "      <th>2013-01-02</th>\n",
       "      <td>-0.877455</td>\n",
       "      <td>-0.406153</td>\n",
       "      <td>-0.655665</td>\n",
       "      <td>5.0</td>\n",
       "      <td>1.0</td>\n",
       "    </tr>\n",
       "    <tr>\n",
       "      <th>2013-01-03</th>\n",
       "      <td>-2.529039</td>\n",
       "      <td>0.147809</td>\n",
       "      <td>0.386269</td>\n",
       "      <td>5.0</td>\n",
       "      <td>NaN</td>\n",
       "    </tr>\n",
       "    <tr>\n",
       "      <th>2013-01-04</th>\n",
       "      <td>-1.520457</td>\n",
       "      <td>1.042714</td>\n",
       "      <td>-1.024310</td>\n",
       "      <td>5.0</td>\n",
       "      <td>NaN</td>\n",
       "    </tr>\n",
       "  </tbody>\n",
       "</table>\n",
       "</div>"
      ]
     },
     "execution_count": 44,
     "metadata": {},
     "output_type": "execute_result"
    }
   ],
   "execution_count": 44
  },
  {
   "metadata": {
    "ExecuteTime": {
     "end_time": "2025-01-20T12:30:28.083782Z",
     "start_time": "2025-01-20T12:30:28.071598Z"
    }
   },
   "cell_type": "code",
   "source": "df1.dropna(how='any')",
   "id": "d0170562286fab38",
   "outputs": [
    {
     "data": {
      "text/plain": [
       "                   A         B         C    D    E\n",
       "2013-01-01  0.000000  0.000000  0.316622  5.0  1.0\n",
       "2013-01-02 -0.877455 -0.406153 -0.655665  5.0  1.0"
      ],
      "text/html": [
       "<div>\n",
       "<style scoped>\n",
       "    .dataframe tbody tr th:only-of-type {\n",
       "        vertical-align: middle;\n",
       "    }\n",
       "\n",
       "    .dataframe tbody tr th {\n",
       "        vertical-align: top;\n",
       "    }\n",
       "\n",
       "    .dataframe thead th {\n",
       "        text-align: right;\n",
       "    }\n",
       "</style>\n",
       "<table border=\"1\" class=\"dataframe\">\n",
       "  <thead>\n",
       "    <tr style=\"text-align: right;\">\n",
       "      <th></th>\n",
       "      <th>A</th>\n",
       "      <th>B</th>\n",
       "      <th>C</th>\n",
       "      <th>D</th>\n",
       "      <th>E</th>\n",
       "    </tr>\n",
       "  </thead>\n",
       "  <tbody>\n",
       "    <tr>\n",
       "      <th>2013-01-01</th>\n",
       "      <td>0.000000</td>\n",
       "      <td>0.000000</td>\n",
       "      <td>0.316622</td>\n",
       "      <td>5.0</td>\n",
       "      <td>1.0</td>\n",
       "    </tr>\n",
       "    <tr>\n",
       "      <th>2013-01-02</th>\n",
       "      <td>-0.877455</td>\n",
       "      <td>-0.406153</td>\n",
       "      <td>-0.655665</td>\n",
       "      <td>5.0</td>\n",
       "      <td>1.0</td>\n",
       "    </tr>\n",
       "  </tbody>\n",
       "</table>\n",
       "</div>"
      ]
     },
     "execution_count": 45,
     "metadata": {},
     "output_type": "execute_result"
    }
   ],
   "execution_count": 45
  },
  {
   "metadata": {
    "ExecuteTime": {
     "end_time": "2025-01-20T12:30:34.320818Z",
     "start_time": "2025-01-20T12:30:34.312689Z"
    }
   },
   "cell_type": "code",
   "source": "df1.fillna(value=5)",
   "id": "d57acc8d7f3217b6",
   "outputs": [
    {
     "data": {
      "text/plain": [
       "                   A         B         C    D    E\n",
       "2013-01-01  0.000000  0.000000  0.316622  5.0  1.0\n",
       "2013-01-02 -0.877455 -0.406153 -0.655665  5.0  1.0\n",
       "2013-01-03 -2.529039  0.147809  0.386269  5.0  5.0\n",
       "2013-01-04 -1.520457  1.042714 -1.024310  5.0  5.0"
      ],
      "text/html": [
       "<div>\n",
       "<style scoped>\n",
       "    .dataframe tbody tr th:only-of-type {\n",
       "        vertical-align: middle;\n",
       "    }\n",
       "\n",
       "    .dataframe tbody tr th {\n",
       "        vertical-align: top;\n",
       "    }\n",
       "\n",
       "    .dataframe thead th {\n",
       "        text-align: right;\n",
       "    }\n",
       "</style>\n",
       "<table border=\"1\" class=\"dataframe\">\n",
       "  <thead>\n",
       "    <tr style=\"text-align: right;\">\n",
       "      <th></th>\n",
       "      <th>A</th>\n",
       "      <th>B</th>\n",
       "      <th>C</th>\n",
       "      <th>D</th>\n",
       "      <th>E</th>\n",
       "    </tr>\n",
       "  </thead>\n",
       "  <tbody>\n",
       "    <tr>\n",
       "      <th>2013-01-01</th>\n",
       "      <td>0.000000</td>\n",
       "      <td>0.000000</td>\n",
       "      <td>0.316622</td>\n",
       "      <td>5.0</td>\n",
       "      <td>1.0</td>\n",
       "    </tr>\n",
       "    <tr>\n",
       "      <th>2013-01-02</th>\n",
       "      <td>-0.877455</td>\n",
       "      <td>-0.406153</td>\n",
       "      <td>-0.655665</td>\n",
       "      <td>5.0</td>\n",
       "      <td>1.0</td>\n",
       "    </tr>\n",
       "    <tr>\n",
       "      <th>2013-01-03</th>\n",
       "      <td>-2.529039</td>\n",
       "      <td>0.147809</td>\n",
       "      <td>0.386269</td>\n",
       "      <td>5.0</td>\n",
       "      <td>5.0</td>\n",
       "    </tr>\n",
       "    <tr>\n",
       "      <th>2013-01-04</th>\n",
       "      <td>-1.520457</td>\n",
       "      <td>1.042714</td>\n",
       "      <td>-1.024310</td>\n",
       "      <td>5.0</td>\n",
       "      <td>5.0</td>\n",
       "    </tr>\n",
       "  </tbody>\n",
       "</table>\n",
       "</div>"
      ]
     },
     "execution_count": 46,
     "metadata": {},
     "output_type": "execute_result"
    }
   ],
   "execution_count": 46
  },
  {
   "metadata": {
    "ExecuteTime": {
     "end_time": "2025-01-20T12:30:41.110418Z",
     "start_time": "2025-01-20T12:30:41.105341Z"
    }
   },
   "cell_type": "code",
   "source": "pd.isna(df1)",
   "id": "ee492b0a77add14",
   "outputs": [
    {
     "data": {
      "text/plain": [
       "                A      B      C      D      E\n",
       "2013-01-01  False  False  False  False  False\n",
       "2013-01-02  False  False  False  False  False\n",
       "2013-01-03  False  False  False  False   True\n",
       "2013-01-04  False  False  False  False   True"
      ],
      "text/html": [
       "<div>\n",
       "<style scoped>\n",
       "    .dataframe tbody tr th:only-of-type {\n",
       "        vertical-align: middle;\n",
       "    }\n",
       "\n",
       "    .dataframe tbody tr th {\n",
       "        vertical-align: top;\n",
       "    }\n",
       "\n",
       "    .dataframe thead th {\n",
       "        text-align: right;\n",
       "    }\n",
       "</style>\n",
       "<table border=\"1\" class=\"dataframe\">\n",
       "  <thead>\n",
       "    <tr style=\"text-align: right;\">\n",
       "      <th></th>\n",
       "      <th>A</th>\n",
       "      <th>B</th>\n",
       "      <th>C</th>\n",
       "      <th>D</th>\n",
       "      <th>E</th>\n",
       "    </tr>\n",
       "  </thead>\n",
       "  <tbody>\n",
       "    <tr>\n",
       "      <th>2013-01-01</th>\n",
       "      <td>False</td>\n",
       "      <td>False</td>\n",
       "      <td>False</td>\n",
       "      <td>False</td>\n",
       "      <td>False</td>\n",
       "    </tr>\n",
       "    <tr>\n",
       "      <th>2013-01-02</th>\n",
       "      <td>False</td>\n",
       "      <td>False</td>\n",
       "      <td>False</td>\n",
       "      <td>False</td>\n",
       "      <td>False</td>\n",
       "    </tr>\n",
       "    <tr>\n",
       "      <th>2013-01-03</th>\n",
       "      <td>False</td>\n",
       "      <td>False</td>\n",
       "      <td>False</td>\n",
       "      <td>False</td>\n",
       "      <td>True</td>\n",
       "    </tr>\n",
       "    <tr>\n",
       "      <th>2013-01-04</th>\n",
       "      <td>False</td>\n",
       "      <td>False</td>\n",
       "      <td>False</td>\n",
       "      <td>False</td>\n",
       "      <td>True</td>\n",
       "    </tr>\n",
       "  </tbody>\n",
       "</table>\n",
       "</div>"
      ]
     },
     "execution_count": 47,
     "metadata": {},
     "output_type": "execute_result"
    }
   ],
   "execution_count": 47
  },
  {
   "metadata": {
    "ExecuteTime": {
     "end_time": "2025-01-20T12:30:51.074963Z",
     "start_time": "2025-01-20T12:30:51.070294Z"
    }
   },
   "cell_type": "code",
   "source": " df.mean()",
   "id": "3aa50ac706725407",
   "outputs": [
    {
     "data": {
      "text/plain": [
       "A   -0.875048\n",
       "B    0.157885\n",
       "C   -0.203654\n",
       "D    5.000000\n",
       "dtype: float64"
      ]
     },
     "execution_count": 48,
     "metadata": {},
     "output_type": "execute_result"
    }
   ],
   "execution_count": 48
  },
  {
   "metadata": {
    "ExecuteTime": {
     "end_time": "2025-01-20T12:31:00.391522Z",
     "start_time": "2025-01-20T12:31:00.386510Z"
    }
   },
   "cell_type": "code",
   "source": "df.mean(1)",
   "id": "7b1dfb69b2c381d2",
   "outputs": [
    {
     "data": {
      "text/plain": [
       "2013-01-01    1.329155\n",
       "2013-01-02    0.765182\n",
       "2013-01-03    0.751260\n",
       "2013-01-04    0.874487\n",
       "2013-01-05    0.791348\n",
       "2013-01-06    1.607343\n",
       "Freq: D, dtype: float64"
      ]
     },
     "execution_count": 49,
     "metadata": {},
     "output_type": "execute_result"
    }
   ],
   "execution_count": 49
  },
  {
   "metadata": {
    "ExecuteTime": {
     "end_time": "2025-01-20T12:31:09.413162Z",
     "start_time": "2025-01-20T12:31:09.406325Z"
    }
   },
   "cell_type": "code",
   "source": [
    " s = pd.Series(np.random.randint(0, 7, size=10))\n",
    " s"
   ],
   "id": "4e6fdebca38725ce",
   "outputs": [
    {
     "data": {
      "text/plain": [
       "0    6\n",
       "1    0\n",
       "2    0\n",
       "3    2\n",
       "4    4\n",
       "5    3\n",
       "6    2\n",
       "7    1\n",
       "8    1\n",
       "9    1\n",
       "dtype: int32"
      ]
     },
     "execution_count": 50,
     "metadata": {},
     "output_type": "execute_result"
    }
   ],
   "execution_count": 50
  },
  {
   "metadata": {
    "ExecuteTime": {
     "end_time": "2025-01-20T12:31:18.022033Z",
     "start_time": "2025-01-20T12:31:18.016518Z"
    }
   },
   "cell_type": "code",
   "source": "s.value_counts()",
   "id": "e4660c316e99afc5",
   "outputs": [
    {
     "data": {
      "text/plain": [
       "1    3\n",
       "0    2\n",
       "2    2\n",
       "6    1\n",
       "4    1\n",
       "3    1\n",
       "Name: count, dtype: int64"
      ]
     },
     "execution_count": 51,
     "metadata": {},
     "output_type": "execute_result"
    }
   ],
   "execution_count": 51
  },
  {
   "metadata": {
    "ExecuteTime": {
     "end_time": "2025-01-20T12:31:51.090728Z",
     "start_time": "2025-01-20T12:31:51.082806Z"
    }
   },
   "cell_type": "code",
   "source": [
    "s = pd.Series(['A', 'B', 'C', 'Aaba', 'Baca', np.nan, 'CABA', 'dog', 'cat'])\n",
    "s.str.lower()"
   ],
   "id": "6ea020a6f9f4e930",
   "outputs": [
    {
     "data": {
      "text/plain": [
       "0       a\n",
       "1       b\n",
       "2       c\n",
       "3    aaba\n",
       "4    baca\n",
       "5     NaN\n",
       "6    caba\n",
       "7     dog\n",
       "8     cat\n",
       "dtype: object"
      ]
     },
     "execution_count": 52,
     "metadata": {},
     "output_type": "execute_result"
    }
   ],
   "execution_count": 52
  },
  {
   "metadata": {
    "ExecuteTime": {
     "end_time": "2025-01-20T12:32:00.491498Z",
     "start_time": "2025-01-20T12:32:00.483500Z"
    }
   },
   "cell_type": "code",
   "source": [
    "df = pd.DataFrame(np.random.randn(10, 4))\n",
    "df"
   ],
   "id": "fa81e80a74574aa9",
   "outputs": [
    {
     "data": {
      "text/plain": [
       "          0         1         2         3\n",
       "0  0.838425 -1.148677 -1.927696  1.685917\n",
       "1  0.554280 -0.098255  0.394713 -0.026725\n",
       "2  0.063935  0.162125  0.906455 -1.236624\n",
       "3 -0.697383 -0.227299  0.112195 -0.549486\n",
       "4 -0.290396 -2.273276 -1.048366 -0.342789\n",
       "5 -1.220251 -0.559206  0.177913 -1.964223\n",
       "6 -1.288213  1.286388 -0.028374  1.480172\n",
       "7  0.358443 -0.920679  0.551505 -0.397641\n",
       "8  0.992039 -0.210220 -0.228586 -0.254060\n",
       "9  0.076999  1.116741 -0.506751 -1.689897"
      ],
      "text/html": [
       "<div>\n",
       "<style scoped>\n",
       "    .dataframe tbody tr th:only-of-type {\n",
       "        vertical-align: middle;\n",
       "    }\n",
       "\n",
       "    .dataframe tbody tr th {\n",
       "        vertical-align: top;\n",
       "    }\n",
       "\n",
       "    .dataframe thead th {\n",
       "        text-align: right;\n",
       "    }\n",
       "</style>\n",
       "<table border=\"1\" class=\"dataframe\">\n",
       "  <thead>\n",
       "    <tr style=\"text-align: right;\">\n",
       "      <th></th>\n",
       "      <th>0</th>\n",
       "      <th>1</th>\n",
       "      <th>2</th>\n",
       "      <th>3</th>\n",
       "    </tr>\n",
       "  </thead>\n",
       "  <tbody>\n",
       "    <tr>\n",
       "      <th>0</th>\n",
       "      <td>0.838425</td>\n",
       "      <td>-1.148677</td>\n",
       "      <td>-1.927696</td>\n",
       "      <td>1.685917</td>\n",
       "    </tr>\n",
       "    <tr>\n",
       "      <th>1</th>\n",
       "      <td>0.554280</td>\n",
       "      <td>-0.098255</td>\n",
       "      <td>0.394713</td>\n",
       "      <td>-0.026725</td>\n",
       "    </tr>\n",
       "    <tr>\n",
       "      <th>2</th>\n",
       "      <td>0.063935</td>\n",
       "      <td>0.162125</td>\n",
       "      <td>0.906455</td>\n",
       "      <td>-1.236624</td>\n",
       "    </tr>\n",
       "    <tr>\n",
       "      <th>3</th>\n",
       "      <td>-0.697383</td>\n",
       "      <td>-0.227299</td>\n",
       "      <td>0.112195</td>\n",
       "      <td>-0.549486</td>\n",
       "    </tr>\n",
       "    <tr>\n",
       "      <th>4</th>\n",
       "      <td>-0.290396</td>\n",
       "      <td>-2.273276</td>\n",
       "      <td>-1.048366</td>\n",
       "      <td>-0.342789</td>\n",
       "    </tr>\n",
       "    <tr>\n",
       "      <th>5</th>\n",
       "      <td>-1.220251</td>\n",
       "      <td>-0.559206</td>\n",
       "      <td>0.177913</td>\n",
       "      <td>-1.964223</td>\n",
       "    </tr>\n",
       "    <tr>\n",
       "      <th>6</th>\n",
       "      <td>-1.288213</td>\n",
       "      <td>1.286388</td>\n",
       "      <td>-0.028374</td>\n",
       "      <td>1.480172</td>\n",
       "    </tr>\n",
       "    <tr>\n",
       "      <th>7</th>\n",
       "      <td>0.358443</td>\n",
       "      <td>-0.920679</td>\n",
       "      <td>0.551505</td>\n",
       "      <td>-0.397641</td>\n",
       "    </tr>\n",
       "    <tr>\n",
       "      <th>8</th>\n",
       "      <td>0.992039</td>\n",
       "      <td>-0.210220</td>\n",
       "      <td>-0.228586</td>\n",
       "      <td>-0.254060</td>\n",
       "    </tr>\n",
       "    <tr>\n",
       "      <th>9</th>\n",
       "      <td>0.076999</td>\n",
       "      <td>1.116741</td>\n",
       "      <td>-0.506751</td>\n",
       "      <td>-1.689897</td>\n",
       "    </tr>\n",
       "  </tbody>\n",
       "</table>\n",
       "</div>"
      ]
     },
     "execution_count": 53,
     "metadata": {},
     "output_type": "execute_result"
    }
   ],
   "execution_count": 53
  },
  {
   "metadata": {
    "ExecuteTime": {
     "end_time": "2025-01-20T12:32:15.474844Z",
     "start_time": "2025-01-20T12:32:15.464945Z"
    }
   },
   "cell_type": "code",
   "source": [
    " pieces = [df[:3], df[3:7], df[7:]]\n",
    " pd.concat(pieces)"
   ],
   "id": "9663fc14c451256c",
   "outputs": [
    {
     "data": {
      "text/plain": [
       "          0         1         2         3\n",
       "0  0.838425 -1.148677 -1.927696  1.685917\n",
       "1  0.554280 -0.098255  0.394713 -0.026725\n",
       "2  0.063935  0.162125  0.906455 -1.236624\n",
       "3 -0.697383 -0.227299  0.112195 -0.549486\n",
       "4 -0.290396 -2.273276 -1.048366 -0.342789\n",
       "5 -1.220251 -0.559206  0.177913 -1.964223\n",
       "6 -1.288213  1.286388 -0.028374  1.480172\n",
       "7  0.358443 -0.920679  0.551505 -0.397641\n",
       "8  0.992039 -0.210220 -0.228586 -0.254060\n",
       "9  0.076999  1.116741 -0.506751 -1.689897"
      ],
      "text/html": [
       "<div>\n",
       "<style scoped>\n",
       "    .dataframe tbody tr th:only-of-type {\n",
       "        vertical-align: middle;\n",
       "    }\n",
       "\n",
       "    .dataframe tbody tr th {\n",
       "        vertical-align: top;\n",
       "    }\n",
       "\n",
       "    .dataframe thead th {\n",
       "        text-align: right;\n",
       "    }\n",
       "</style>\n",
       "<table border=\"1\" class=\"dataframe\">\n",
       "  <thead>\n",
       "    <tr style=\"text-align: right;\">\n",
       "      <th></th>\n",
       "      <th>0</th>\n",
       "      <th>1</th>\n",
       "      <th>2</th>\n",
       "      <th>3</th>\n",
       "    </tr>\n",
       "  </thead>\n",
       "  <tbody>\n",
       "    <tr>\n",
       "      <th>0</th>\n",
       "      <td>0.838425</td>\n",
       "      <td>-1.148677</td>\n",
       "      <td>-1.927696</td>\n",
       "      <td>1.685917</td>\n",
       "    </tr>\n",
       "    <tr>\n",
       "      <th>1</th>\n",
       "      <td>0.554280</td>\n",
       "      <td>-0.098255</td>\n",
       "      <td>0.394713</td>\n",
       "      <td>-0.026725</td>\n",
       "    </tr>\n",
       "    <tr>\n",
       "      <th>2</th>\n",
       "      <td>0.063935</td>\n",
       "      <td>0.162125</td>\n",
       "      <td>0.906455</td>\n",
       "      <td>-1.236624</td>\n",
       "    </tr>\n",
       "    <tr>\n",
       "      <th>3</th>\n",
       "      <td>-0.697383</td>\n",
       "      <td>-0.227299</td>\n",
       "      <td>0.112195</td>\n",
       "      <td>-0.549486</td>\n",
       "    </tr>\n",
       "    <tr>\n",
       "      <th>4</th>\n",
       "      <td>-0.290396</td>\n",
       "      <td>-2.273276</td>\n",
       "      <td>-1.048366</td>\n",
       "      <td>-0.342789</td>\n",
       "    </tr>\n",
       "    <tr>\n",
       "      <th>5</th>\n",
       "      <td>-1.220251</td>\n",
       "      <td>-0.559206</td>\n",
       "      <td>0.177913</td>\n",
       "      <td>-1.964223</td>\n",
       "    </tr>\n",
       "    <tr>\n",
       "      <th>6</th>\n",
       "      <td>-1.288213</td>\n",
       "      <td>1.286388</td>\n",
       "      <td>-0.028374</td>\n",
       "      <td>1.480172</td>\n",
       "    </tr>\n",
       "    <tr>\n",
       "      <th>7</th>\n",
       "      <td>0.358443</td>\n",
       "      <td>-0.920679</td>\n",
       "      <td>0.551505</td>\n",
       "      <td>-0.397641</td>\n",
       "    </tr>\n",
       "    <tr>\n",
       "      <th>8</th>\n",
       "      <td>0.992039</td>\n",
       "      <td>-0.210220</td>\n",
       "      <td>-0.228586</td>\n",
       "      <td>-0.254060</td>\n",
       "    </tr>\n",
       "    <tr>\n",
       "      <th>9</th>\n",
       "      <td>0.076999</td>\n",
       "      <td>1.116741</td>\n",
       "      <td>-0.506751</td>\n",
       "      <td>-1.689897</td>\n",
       "    </tr>\n",
       "  </tbody>\n",
       "</table>\n",
       "</div>"
      ]
     },
     "execution_count": 54,
     "metadata": {},
     "output_type": "execute_result"
    }
   ],
   "execution_count": 54
  },
  {
   "metadata": {
    "ExecuteTime": {
     "end_time": "2025-01-20T12:32:48.998555Z",
     "start_time": "2025-01-20T12:32:48.991556Z"
    }
   },
   "cell_type": "code",
   "source": [
    "left = pd.DataFrame({'key': ['foo', 'foo'], 'lval': [1, 2]})\n",
    "right = pd.DataFrame({'key': ['foo', 'foo'], 'rval': [4, 5]})\n",
    "left"
   ],
   "id": "1b825d1a54d11647",
   "outputs": [
    {
     "data": {
      "text/plain": [
       "   key  lval\n",
       "0  foo     1\n",
       "1  foo     2"
      ],
      "text/html": [
       "<div>\n",
       "<style scoped>\n",
       "    .dataframe tbody tr th:only-of-type {\n",
       "        vertical-align: middle;\n",
       "    }\n",
       "\n",
       "    .dataframe tbody tr th {\n",
       "        vertical-align: top;\n",
       "    }\n",
       "\n",
       "    .dataframe thead th {\n",
       "        text-align: right;\n",
       "    }\n",
       "</style>\n",
       "<table border=\"1\" class=\"dataframe\">\n",
       "  <thead>\n",
       "    <tr style=\"text-align: right;\">\n",
       "      <th></th>\n",
       "      <th>key</th>\n",
       "      <th>lval</th>\n",
       "    </tr>\n",
       "  </thead>\n",
       "  <tbody>\n",
       "    <tr>\n",
       "      <th>0</th>\n",
       "      <td>foo</td>\n",
       "      <td>1</td>\n",
       "    </tr>\n",
       "    <tr>\n",
       "      <th>1</th>\n",
       "      <td>foo</td>\n",
       "      <td>2</td>\n",
       "    </tr>\n",
       "  </tbody>\n",
       "</table>\n",
       "</div>"
      ]
     },
     "execution_count": 55,
     "metadata": {},
     "output_type": "execute_result"
    }
   ],
   "execution_count": 55
  },
  {
   "metadata": {
    "ExecuteTime": {
     "end_time": "2025-01-20T12:32:56.132317Z",
     "start_time": "2025-01-20T12:32:56.126847Z"
    }
   },
   "cell_type": "code",
   "source": "right",
   "id": "46520082a75ab63a",
   "outputs": [
    {
     "data": {
      "text/plain": [
       "   key  rval\n",
       "0  foo     4\n",
       "1  foo     5"
      ],
      "text/html": [
       "<div>\n",
       "<style scoped>\n",
       "    .dataframe tbody tr th:only-of-type {\n",
       "        vertical-align: middle;\n",
       "    }\n",
       "\n",
       "    .dataframe tbody tr th {\n",
       "        vertical-align: top;\n",
       "    }\n",
       "\n",
       "    .dataframe thead th {\n",
       "        text-align: right;\n",
       "    }\n",
       "</style>\n",
       "<table border=\"1\" class=\"dataframe\">\n",
       "  <thead>\n",
       "    <tr style=\"text-align: right;\">\n",
       "      <th></th>\n",
       "      <th>key</th>\n",
       "      <th>rval</th>\n",
       "    </tr>\n",
       "  </thead>\n",
       "  <tbody>\n",
       "    <tr>\n",
       "      <th>0</th>\n",
       "      <td>foo</td>\n",
       "      <td>4</td>\n",
       "    </tr>\n",
       "    <tr>\n",
       "      <th>1</th>\n",
       "      <td>foo</td>\n",
       "      <td>5</td>\n",
       "    </tr>\n",
       "  </tbody>\n",
       "</table>\n",
       "</div>"
      ]
     },
     "execution_count": 56,
     "metadata": {},
     "output_type": "execute_result"
    }
   ],
   "execution_count": 56
  },
  {
   "metadata": {
    "ExecuteTime": {
     "end_time": "2025-01-20T12:33:07.838127Z",
     "start_time": "2025-01-20T12:33:07.830126Z"
    }
   },
   "cell_type": "code",
   "source": "pd.merge(left, right, on='key')",
   "id": "862f322e66bc9c20",
   "outputs": [
    {
     "data": {
      "text/plain": [
       "   key  lval  rval\n",
       "0  foo     1     4\n",
       "1  foo     1     5\n",
       "2  foo     2     4\n",
       "3  foo     2     5"
      ],
      "text/html": [
       "<div>\n",
       "<style scoped>\n",
       "    .dataframe tbody tr th:only-of-type {\n",
       "        vertical-align: middle;\n",
       "    }\n",
       "\n",
       "    .dataframe tbody tr th {\n",
       "        vertical-align: top;\n",
       "    }\n",
       "\n",
       "    .dataframe thead th {\n",
       "        text-align: right;\n",
       "    }\n",
       "</style>\n",
       "<table border=\"1\" class=\"dataframe\">\n",
       "  <thead>\n",
       "    <tr style=\"text-align: right;\">\n",
       "      <th></th>\n",
       "      <th>key</th>\n",
       "      <th>lval</th>\n",
       "      <th>rval</th>\n",
       "    </tr>\n",
       "  </thead>\n",
       "  <tbody>\n",
       "    <tr>\n",
       "      <th>0</th>\n",
       "      <td>foo</td>\n",
       "      <td>1</td>\n",
       "      <td>4</td>\n",
       "    </tr>\n",
       "    <tr>\n",
       "      <th>1</th>\n",
       "      <td>foo</td>\n",
       "      <td>1</td>\n",
       "      <td>5</td>\n",
       "    </tr>\n",
       "    <tr>\n",
       "      <th>2</th>\n",
       "      <td>foo</td>\n",
       "      <td>2</td>\n",
       "      <td>4</td>\n",
       "    </tr>\n",
       "    <tr>\n",
       "      <th>3</th>\n",
       "      <td>foo</td>\n",
       "      <td>2</td>\n",
       "      <td>5</td>\n",
       "    </tr>\n",
       "  </tbody>\n",
       "</table>\n",
       "</div>"
      ]
     },
     "execution_count": 57,
     "metadata": {},
     "output_type": "execute_result"
    }
   ],
   "execution_count": 57
  },
  {
   "metadata": {
    "ExecuteTime": {
     "end_time": "2025-01-20T12:33:42.482519Z",
     "start_time": "2025-01-20T12:33:42.474831Z"
    }
   },
   "cell_type": "code",
   "source": [
    "left = pd.DataFrame({'key': ['foo', 'bar'], 'lval': [1, 2]})\n",
    "right = pd.DataFrame({'key': ['foo', 'bar'], 'rval': [4, 5]})\n",
    "left"
   ],
   "id": "1da5949c39677922",
   "outputs": [
    {
     "data": {
      "text/plain": [
       "   key  lval\n",
       "0  foo     1\n",
       "1  bar     2"
      ],
      "text/html": [
       "<div>\n",
       "<style scoped>\n",
       "    .dataframe tbody tr th:only-of-type {\n",
       "        vertical-align: middle;\n",
       "    }\n",
       "\n",
       "    .dataframe tbody tr th {\n",
       "        vertical-align: top;\n",
       "    }\n",
       "\n",
       "    .dataframe thead th {\n",
       "        text-align: right;\n",
       "    }\n",
       "</style>\n",
       "<table border=\"1\" class=\"dataframe\">\n",
       "  <thead>\n",
       "    <tr style=\"text-align: right;\">\n",
       "      <th></th>\n",
       "      <th>key</th>\n",
       "      <th>lval</th>\n",
       "    </tr>\n",
       "  </thead>\n",
       "  <tbody>\n",
       "    <tr>\n",
       "      <th>0</th>\n",
       "      <td>foo</td>\n",
       "      <td>1</td>\n",
       "    </tr>\n",
       "    <tr>\n",
       "      <th>1</th>\n",
       "      <td>bar</td>\n",
       "      <td>2</td>\n",
       "    </tr>\n",
       "  </tbody>\n",
       "</table>\n",
       "</div>"
      ]
     },
     "execution_count": 58,
     "metadata": {},
     "output_type": "execute_result"
    }
   ],
   "execution_count": 58
  },
  {
   "metadata": {
    "ExecuteTime": {
     "end_time": "2025-01-20T12:33:47.599966Z",
     "start_time": "2025-01-20T12:33:47.593599Z"
    }
   },
   "cell_type": "code",
   "source": "right",
   "id": "87a9ca12c53d1eb2",
   "outputs": [
    {
     "data": {
      "text/plain": [
       "   key  rval\n",
       "0  foo     4\n",
       "1  bar     5"
      ],
      "text/html": [
       "<div>\n",
       "<style scoped>\n",
       "    .dataframe tbody tr th:only-of-type {\n",
       "        vertical-align: middle;\n",
       "    }\n",
       "\n",
       "    .dataframe tbody tr th {\n",
       "        vertical-align: top;\n",
       "    }\n",
       "\n",
       "    .dataframe thead th {\n",
       "        text-align: right;\n",
       "    }\n",
       "</style>\n",
       "<table border=\"1\" class=\"dataframe\">\n",
       "  <thead>\n",
       "    <tr style=\"text-align: right;\">\n",
       "      <th></th>\n",
       "      <th>key</th>\n",
       "      <th>rval</th>\n",
       "    </tr>\n",
       "  </thead>\n",
       "  <tbody>\n",
       "    <tr>\n",
       "      <th>0</th>\n",
       "      <td>foo</td>\n",
       "      <td>4</td>\n",
       "    </tr>\n",
       "    <tr>\n",
       "      <th>1</th>\n",
       "      <td>bar</td>\n",
       "      <td>5</td>\n",
       "    </tr>\n",
       "  </tbody>\n",
       "</table>\n",
       "</div>"
      ]
     },
     "execution_count": 59,
     "metadata": {},
     "output_type": "execute_result"
    }
   ],
   "execution_count": 59
  },
  {
   "metadata": {
    "ExecuteTime": {
     "end_time": "2025-01-20T12:33:55.080090Z",
     "start_time": "2025-01-20T12:33:55.072819Z"
    }
   },
   "cell_type": "code",
   "source": "pd.merge(left, right, on='key')",
   "id": "ec7ed1f4af27991b",
   "outputs": [
    {
     "data": {
      "text/plain": [
       "   key  lval  rval\n",
       "0  foo     1     4\n",
       "1  bar     2     5"
      ],
      "text/html": [
       "<div>\n",
       "<style scoped>\n",
       "    .dataframe tbody tr th:only-of-type {\n",
       "        vertical-align: middle;\n",
       "    }\n",
       "\n",
       "    .dataframe tbody tr th {\n",
       "        vertical-align: top;\n",
       "    }\n",
       "\n",
       "    .dataframe thead th {\n",
       "        text-align: right;\n",
       "    }\n",
       "</style>\n",
       "<table border=\"1\" class=\"dataframe\">\n",
       "  <thead>\n",
       "    <tr style=\"text-align: right;\">\n",
       "      <th></th>\n",
       "      <th>key</th>\n",
       "      <th>lval</th>\n",
       "      <th>rval</th>\n",
       "    </tr>\n",
       "  </thead>\n",
       "  <tbody>\n",
       "    <tr>\n",
       "      <th>0</th>\n",
       "      <td>foo</td>\n",
       "      <td>1</td>\n",
       "      <td>4</td>\n",
       "    </tr>\n",
       "    <tr>\n",
       "      <th>1</th>\n",
       "      <td>bar</td>\n",
       "      <td>2</td>\n",
       "      <td>5</td>\n",
       "    </tr>\n",
       "  </tbody>\n",
       "</table>\n",
       "</div>"
      ]
     },
     "execution_count": 60,
     "metadata": {},
     "output_type": "execute_result"
    }
   ],
   "execution_count": 60
  },
  {
   "metadata": {
    "ExecuteTime": {
     "end_time": "2025-01-20T12:34:22.994870Z",
     "start_time": "2025-01-20T12:34:22.986873Z"
    }
   },
   "cell_type": "code",
   "source": [
    "df = pd.DataFrame(np.random.randn(8, 4), columns=['A', 'B', 'C', 'D'])\n",
    "df"
   ],
   "id": "17eed044a94811cf",
   "outputs": [
    {
     "data": {
      "text/plain": [
       "          A         B         C         D\n",
       "0 -0.623079 -0.719301 -1.863467 -0.052599\n",
       "1 -0.040973 -1.415026  1.498685  0.065187\n",
       "2 -0.870107  0.948595  0.324057  0.788553\n",
       "3 -0.003672 -0.306396 -0.878491 -1.541506\n",
       "4 -1.860276 -1.863650  1.245565  0.193598\n",
       "5  0.968059  0.407605  1.515779  1.673047\n",
       "6  0.633224 -0.576477 -0.033763 -0.741448\n",
       "7  2.960853 -0.535460  0.797021 -0.385222"
      ],
      "text/html": [
       "<div>\n",
       "<style scoped>\n",
       "    .dataframe tbody tr th:only-of-type {\n",
       "        vertical-align: middle;\n",
       "    }\n",
       "\n",
       "    .dataframe tbody tr th {\n",
       "        vertical-align: top;\n",
       "    }\n",
       "\n",
       "    .dataframe thead th {\n",
       "        text-align: right;\n",
       "    }\n",
       "</style>\n",
       "<table border=\"1\" class=\"dataframe\">\n",
       "  <thead>\n",
       "    <tr style=\"text-align: right;\">\n",
       "      <th></th>\n",
       "      <th>A</th>\n",
       "      <th>B</th>\n",
       "      <th>C</th>\n",
       "      <th>D</th>\n",
       "    </tr>\n",
       "  </thead>\n",
       "  <tbody>\n",
       "    <tr>\n",
       "      <th>0</th>\n",
       "      <td>-0.623079</td>\n",
       "      <td>-0.719301</td>\n",
       "      <td>-1.863467</td>\n",
       "      <td>-0.052599</td>\n",
       "    </tr>\n",
       "    <tr>\n",
       "      <th>1</th>\n",
       "      <td>-0.040973</td>\n",
       "      <td>-1.415026</td>\n",
       "      <td>1.498685</td>\n",
       "      <td>0.065187</td>\n",
       "    </tr>\n",
       "    <tr>\n",
       "      <th>2</th>\n",
       "      <td>-0.870107</td>\n",
       "      <td>0.948595</td>\n",
       "      <td>0.324057</td>\n",
       "      <td>0.788553</td>\n",
       "    </tr>\n",
       "    <tr>\n",
       "      <th>3</th>\n",
       "      <td>-0.003672</td>\n",
       "      <td>-0.306396</td>\n",
       "      <td>-0.878491</td>\n",
       "      <td>-1.541506</td>\n",
       "    </tr>\n",
       "    <tr>\n",
       "      <th>4</th>\n",
       "      <td>-1.860276</td>\n",
       "      <td>-1.863650</td>\n",
       "      <td>1.245565</td>\n",
       "      <td>0.193598</td>\n",
       "    </tr>\n",
       "    <tr>\n",
       "      <th>5</th>\n",
       "      <td>0.968059</td>\n",
       "      <td>0.407605</td>\n",
       "      <td>1.515779</td>\n",
       "      <td>1.673047</td>\n",
       "    </tr>\n",
       "    <tr>\n",
       "      <th>6</th>\n",
       "      <td>0.633224</td>\n",
       "      <td>-0.576477</td>\n",
       "      <td>-0.033763</td>\n",
       "      <td>-0.741448</td>\n",
       "    </tr>\n",
       "    <tr>\n",
       "      <th>7</th>\n",
       "      <td>2.960853</td>\n",
       "      <td>-0.535460</td>\n",
       "      <td>0.797021</td>\n",
       "      <td>-0.385222</td>\n",
       "    </tr>\n",
       "  </tbody>\n",
       "</table>\n",
       "</div>"
      ]
     },
     "execution_count": 61,
     "metadata": {},
     "output_type": "execute_result"
    }
   ],
   "execution_count": 61
  },
  {
   "metadata": {
    "ExecuteTime": {
     "end_time": "2025-01-20T12:34:31.301536Z",
     "start_time": "2025-01-20T12:34:31.298562Z"
    }
   },
   "cell_type": "code",
   "source": "s = df.iloc[3]",
   "id": "ef26604b592cc17c",
   "outputs": [],
   "execution_count": 62
  },
  {
   "metadata": {
    "ExecuteTime": {
     "end_time": "2025-01-20T12:36:18.939112Z",
     "start_time": "2025-01-20T12:36:18.932522Z"
    }
   },
   "cell_type": "code",
   "source": [
    "df = pd.concat([df, s.to_frame().T], ignore_index=True)\n",
    "df"
   ],
   "id": "1fd348a3428f46a6",
   "outputs": [
    {
     "data": {
      "text/plain": [
       "          A         B         C         D\n",
       "0 -0.623079 -0.719301 -1.863467 -0.052599\n",
       "1 -0.040973 -1.415026  1.498685  0.065187\n",
       "2 -0.870107  0.948595  0.324057  0.788553\n",
       "3 -0.003672 -0.306396 -0.878491 -1.541506\n",
       "4 -1.860276 -1.863650  1.245565  0.193598\n",
       "5  0.968059  0.407605  1.515779  1.673047\n",
       "6  0.633224 -0.576477 -0.033763 -0.741448\n",
       "7  2.960853 -0.535460  0.797021 -0.385222\n",
       "8 -0.003672 -0.306396 -0.878491 -1.541506\n",
       "9 -0.003672 -0.306396 -0.878491 -1.541506"
      ],
      "text/html": [
       "<div>\n",
       "<style scoped>\n",
       "    .dataframe tbody tr th:only-of-type {\n",
       "        vertical-align: middle;\n",
       "    }\n",
       "\n",
       "    .dataframe tbody tr th {\n",
       "        vertical-align: top;\n",
       "    }\n",
       "\n",
       "    .dataframe thead th {\n",
       "        text-align: right;\n",
       "    }\n",
       "</style>\n",
       "<table border=\"1\" class=\"dataframe\">\n",
       "  <thead>\n",
       "    <tr style=\"text-align: right;\">\n",
       "      <th></th>\n",
       "      <th>A</th>\n",
       "      <th>B</th>\n",
       "      <th>C</th>\n",
       "      <th>D</th>\n",
       "    </tr>\n",
       "  </thead>\n",
       "  <tbody>\n",
       "    <tr>\n",
       "      <th>0</th>\n",
       "      <td>-0.623079</td>\n",
       "      <td>-0.719301</td>\n",
       "      <td>-1.863467</td>\n",
       "      <td>-0.052599</td>\n",
       "    </tr>\n",
       "    <tr>\n",
       "      <th>1</th>\n",
       "      <td>-0.040973</td>\n",
       "      <td>-1.415026</td>\n",
       "      <td>1.498685</td>\n",
       "      <td>0.065187</td>\n",
       "    </tr>\n",
       "    <tr>\n",
       "      <th>2</th>\n",
       "      <td>-0.870107</td>\n",
       "      <td>0.948595</td>\n",
       "      <td>0.324057</td>\n",
       "      <td>0.788553</td>\n",
       "    </tr>\n",
       "    <tr>\n",
       "      <th>3</th>\n",
       "      <td>-0.003672</td>\n",
       "      <td>-0.306396</td>\n",
       "      <td>-0.878491</td>\n",
       "      <td>-1.541506</td>\n",
       "    </tr>\n",
       "    <tr>\n",
       "      <th>4</th>\n",
       "      <td>-1.860276</td>\n",
       "      <td>-1.863650</td>\n",
       "      <td>1.245565</td>\n",
       "      <td>0.193598</td>\n",
       "    </tr>\n",
       "    <tr>\n",
       "      <th>5</th>\n",
       "      <td>0.968059</td>\n",
       "      <td>0.407605</td>\n",
       "      <td>1.515779</td>\n",
       "      <td>1.673047</td>\n",
       "    </tr>\n",
       "    <tr>\n",
       "      <th>6</th>\n",
       "      <td>0.633224</td>\n",
       "      <td>-0.576477</td>\n",
       "      <td>-0.033763</td>\n",
       "      <td>-0.741448</td>\n",
       "    </tr>\n",
       "    <tr>\n",
       "      <th>7</th>\n",
       "      <td>2.960853</td>\n",
       "      <td>-0.535460</td>\n",
       "      <td>0.797021</td>\n",
       "      <td>-0.385222</td>\n",
       "    </tr>\n",
       "    <tr>\n",
       "      <th>8</th>\n",
       "      <td>-0.003672</td>\n",
       "      <td>-0.306396</td>\n",
       "      <td>-0.878491</td>\n",
       "      <td>-1.541506</td>\n",
       "    </tr>\n",
       "    <tr>\n",
       "      <th>9</th>\n",
       "      <td>-0.003672</td>\n",
       "      <td>-0.306396</td>\n",
       "      <td>-0.878491</td>\n",
       "      <td>-1.541506</td>\n",
       "    </tr>\n",
       "  </tbody>\n",
       "</table>\n",
       "</div>"
      ]
     },
     "execution_count": 66,
     "metadata": {},
     "output_type": "execute_result"
    }
   ],
   "execution_count": 66
  },
  {
   "metadata": {
    "ExecuteTime": {
     "end_time": "2025-01-20T12:36:43.032534Z",
     "start_time": "2025-01-20T12:36:43.023607Z"
    }
   },
   "cell_type": "code",
   "source": [
    "df = pd.DataFrame({\n",
    "    'A': ['foo', 'bar', 'foo', 'bar', 'foo', 'bar', 'foo', 'foo'],\n",
    "    'B': ['one', 'one', 'two', 'three', 'two', 'two', 'one', 'three'],\n",
    "    'C': np.random.randn(8),\n",
    "    'D': np.random.randn(8)\n",
    "})\n",
    "df"
   ],
   "id": "90f341c64cdba36e",
   "outputs": [
    {
     "data": {
      "text/plain": [
       "     A      B         C         D\n",
       "0  foo    one -0.401682  0.164025\n",
       "1  bar    one  0.910922 -0.320618\n",
       "2  foo    two -0.523854  0.029850\n",
       "3  bar  three  0.071358 -0.310567\n",
       "4  foo    two  0.654827  2.185576\n",
       "5  bar    two  0.226694  0.092224\n",
       "6  foo    one -1.919387  1.782168\n",
       "7  foo  three -0.133919 -0.134126"
      ],
      "text/html": [
       "<div>\n",
       "<style scoped>\n",
       "    .dataframe tbody tr th:only-of-type {\n",
       "        vertical-align: middle;\n",
       "    }\n",
       "\n",
       "    .dataframe tbody tr th {\n",
       "        vertical-align: top;\n",
       "    }\n",
       "\n",
       "    .dataframe thead th {\n",
       "        text-align: right;\n",
       "    }\n",
       "</style>\n",
       "<table border=\"1\" class=\"dataframe\">\n",
       "  <thead>\n",
       "    <tr style=\"text-align: right;\">\n",
       "      <th></th>\n",
       "      <th>A</th>\n",
       "      <th>B</th>\n",
       "      <th>C</th>\n",
       "      <th>D</th>\n",
       "    </tr>\n",
       "  </thead>\n",
       "  <tbody>\n",
       "    <tr>\n",
       "      <th>0</th>\n",
       "      <td>foo</td>\n",
       "      <td>one</td>\n",
       "      <td>-0.401682</td>\n",
       "      <td>0.164025</td>\n",
       "    </tr>\n",
       "    <tr>\n",
       "      <th>1</th>\n",
       "      <td>bar</td>\n",
       "      <td>one</td>\n",
       "      <td>0.910922</td>\n",
       "      <td>-0.320618</td>\n",
       "    </tr>\n",
       "    <tr>\n",
       "      <th>2</th>\n",
       "      <td>foo</td>\n",
       "      <td>two</td>\n",
       "      <td>-0.523854</td>\n",
       "      <td>0.029850</td>\n",
       "    </tr>\n",
       "    <tr>\n",
       "      <th>3</th>\n",
       "      <td>bar</td>\n",
       "      <td>three</td>\n",
       "      <td>0.071358</td>\n",
       "      <td>-0.310567</td>\n",
       "    </tr>\n",
       "    <tr>\n",
       "      <th>4</th>\n",
       "      <td>foo</td>\n",
       "      <td>two</td>\n",
       "      <td>0.654827</td>\n",
       "      <td>2.185576</td>\n",
       "    </tr>\n",
       "    <tr>\n",
       "      <th>5</th>\n",
       "      <td>bar</td>\n",
       "      <td>two</td>\n",
       "      <td>0.226694</td>\n",
       "      <td>0.092224</td>\n",
       "    </tr>\n",
       "    <tr>\n",
       "      <th>6</th>\n",
       "      <td>foo</td>\n",
       "      <td>one</td>\n",
       "      <td>-1.919387</td>\n",
       "      <td>1.782168</td>\n",
       "    </tr>\n",
       "    <tr>\n",
       "      <th>7</th>\n",
       "      <td>foo</td>\n",
       "      <td>three</td>\n",
       "      <td>-0.133919</td>\n",
       "      <td>-0.134126</td>\n",
       "    </tr>\n",
       "  </tbody>\n",
       "</table>\n",
       "</div>"
      ]
     },
     "execution_count": 68,
     "metadata": {},
     "output_type": "execute_result"
    }
   ],
   "execution_count": 68
  },
  {
   "metadata": {
    "ExecuteTime": {
     "end_time": "2025-01-20T12:36:59.659706Z",
     "start_time": "2025-01-20T12:36:59.653784Z"
    }
   },
   "cell_type": "code",
   "source": "df.groupby('A').sum()",
   "id": "1ee71c31bdd65843",
   "outputs": [
    {
     "data": {
      "text/plain": [
       "                     B         C         D\n",
       "A                                         \n",
       "bar        onethreetwo  1.208974 -0.538961\n",
       "foo  onetwotwoonethree -2.324014  4.027493"
      ],
      "text/html": [
       "<div>\n",
       "<style scoped>\n",
       "    .dataframe tbody tr th:only-of-type {\n",
       "        vertical-align: middle;\n",
       "    }\n",
       "\n",
       "    .dataframe tbody tr th {\n",
       "        vertical-align: top;\n",
       "    }\n",
       "\n",
       "    .dataframe thead th {\n",
       "        text-align: right;\n",
       "    }\n",
       "</style>\n",
       "<table border=\"1\" class=\"dataframe\">\n",
       "  <thead>\n",
       "    <tr style=\"text-align: right;\">\n",
       "      <th></th>\n",
       "      <th>B</th>\n",
       "      <th>C</th>\n",
       "      <th>D</th>\n",
       "    </tr>\n",
       "    <tr>\n",
       "      <th>A</th>\n",
       "      <th></th>\n",
       "      <th></th>\n",
       "      <th></th>\n",
       "    </tr>\n",
       "  </thead>\n",
       "  <tbody>\n",
       "    <tr>\n",
       "      <th>bar</th>\n",
       "      <td>onethreetwo</td>\n",
       "      <td>1.208974</td>\n",
       "      <td>-0.538961</td>\n",
       "    </tr>\n",
       "    <tr>\n",
       "      <th>foo</th>\n",
       "      <td>onetwotwoonethree</td>\n",
       "      <td>-2.324014</td>\n",
       "      <td>4.027493</td>\n",
       "    </tr>\n",
       "  </tbody>\n",
       "</table>\n",
       "</div>"
      ]
     },
     "execution_count": 69,
     "metadata": {},
     "output_type": "execute_result"
    }
   ],
   "execution_count": 69
  },
  {
   "metadata": {
    "ExecuteTime": {
     "end_time": "2025-01-20T12:37:31.591432Z",
     "start_time": "2025-01-20T12:37:31.583343Z"
    }
   },
   "cell_type": "code",
   "source": "df.groupby(['A','B']).sum()",
   "id": "fd7a6ce1422cf067",
   "outputs": [
    {
     "data": {
      "text/plain": [
       "                  C         D\n",
       "A   B                        \n",
       "bar one    0.910922 -0.320618\n",
       "    three  0.071358 -0.310567\n",
       "    two    0.226694  0.092224\n",
       "foo one   -2.321069  1.946193\n",
       "    three -0.133919 -0.134126\n",
       "    two    0.130973  2.215426"
      ],
      "text/html": [
       "<div>\n",
       "<style scoped>\n",
       "    .dataframe tbody tr th:only-of-type {\n",
       "        vertical-align: middle;\n",
       "    }\n",
       "\n",
       "    .dataframe tbody tr th {\n",
       "        vertical-align: top;\n",
       "    }\n",
       "\n",
       "    .dataframe thead th {\n",
       "        text-align: right;\n",
       "    }\n",
       "</style>\n",
       "<table border=\"1\" class=\"dataframe\">\n",
       "  <thead>\n",
       "    <tr style=\"text-align: right;\">\n",
       "      <th></th>\n",
       "      <th></th>\n",
       "      <th>C</th>\n",
       "      <th>D</th>\n",
       "    </tr>\n",
       "    <tr>\n",
       "      <th>A</th>\n",
       "      <th>B</th>\n",
       "      <th></th>\n",
       "      <th></th>\n",
       "    </tr>\n",
       "  </thead>\n",
       "  <tbody>\n",
       "    <tr>\n",
       "      <th rowspan=\"3\" valign=\"top\">bar</th>\n",
       "      <th>one</th>\n",
       "      <td>0.910922</td>\n",
       "      <td>-0.320618</td>\n",
       "    </tr>\n",
       "    <tr>\n",
       "      <th>three</th>\n",
       "      <td>0.071358</td>\n",
       "      <td>-0.310567</td>\n",
       "    </tr>\n",
       "    <tr>\n",
       "      <th>two</th>\n",
       "      <td>0.226694</td>\n",
       "      <td>0.092224</td>\n",
       "    </tr>\n",
       "    <tr>\n",
       "      <th rowspan=\"3\" valign=\"top\">foo</th>\n",
       "      <th>one</th>\n",
       "      <td>-2.321069</td>\n",
       "      <td>1.946193</td>\n",
       "    </tr>\n",
       "    <tr>\n",
       "      <th>three</th>\n",
       "      <td>-0.133919</td>\n",
       "      <td>-0.134126</td>\n",
       "    </tr>\n",
       "    <tr>\n",
       "      <th>two</th>\n",
       "      <td>0.130973</td>\n",
       "      <td>2.215426</td>\n",
       "    </tr>\n",
       "  </tbody>\n",
       "</table>\n",
       "</div>"
      ]
     },
     "execution_count": 71,
     "metadata": {},
     "output_type": "execute_result"
    }
   ],
   "execution_count": 71
  },
  {
   "metadata": {
    "ExecuteTime": {
     "end_time": "2025-01-20T12:38:50.366135Z",
     "start_time": "2025-01-20T12:38:50.359397Z"
    }
   },
   "cell_type": "code",
   "source": [
    "rng = pd.date_range('1/1/2012', periods=100, freq='s')\n",
    "ts = pd.Series(np.random.randint(0, 500, len(rng)), index=rng)\n",
    "ts.resample('5Min').sum()"
   ],
   "id": "dd2a1dfd7e360a1f",
   "outputs": [
    {
     "data": {
      "text/plain": [
       "2012-01-01    26509\n",
       "Freq: 5min, dtype: int32"
      ]
     },
     "execution_count": 75,
     "metadata": {},
     "output_type": "execute_result"
    }
   ],
   "execution_count": 75
  },
  {
   "metadata": {
    "ExecuteTime": {
     "end_time": "2025-01-20T12:39:35.349362Z",
     "start_time": "2025-01-20T12:39:35.344163Z"
    }
   },
   "cell_type": "code",
   "source": [
    "rng = pd.date_range('3/6/2012 00:00', periods=5, freq='D')\n",
    "ts = pd.Series(np.random.randn(len(rng)), index=rng)\n",
    "ts"
   ],
   "id": "add9cfaacb367a1",
   "outputs": [
    {
     "data": {
      "text/plain": [
       "2012-03-06    0.192122\n",
       "2012-03-07    0.475020\n",
       "2012-03-08   -0.363844\n",
       "2012-03-09   -0.831323\n",
       "2012-03-10   -0.392130\n",
       "Freq: D, dtype: float64"
      ]
     },
     "execution_count": 77,
     "metadata": {},
     "output_type": "execute_result"
    }
   ],
   "execution_count": 77
  },
  {
   "metadata": {
    "ExecuteTime": {
     "end_time": "2025-01-20T12:39:52.475219Z",
     "start_time": "2025-01-20T12:39:52.469871Z"
    }
   },
   "cell_type": "code",
   "source": [
    "ts_utc = ts.tz_localize('UTC')\n",
    "ts_utc"
   ],
   "id": "acc5a04ca402b00d",
   "outputs": [
    {
     "data": {
      "text/plain": [
       "2012-03-06 00:00:00+00:00    0.192122\n",
       "2012-03-07 00:00:00+00:00    0.475020\n",
       "2012-03-08 00:00:00+00:00   -0.363844\n",
       "2012-03-09 00:00:00+00:00   -0.831323\n",
       "2012-03-10 00:00:00+00:00   -0.392130\n",
       "Freq: D, dtype: float64"
      ]
     },
     "execution_count": 78,
     "metadata": {},
     "output_type": "execute_result"
    }
   ],
   "execution_count": 78
  },
  {
   "metadata": {
    "ExecuteTime": {
     "end_time": "2025-01-20T12:40:11.289203Z",
     "start_time": "2025-01-20T12:40:11.234190Z"
    }
   },
   "cell_type": "code",
   "source": " ts_utc.tz_convert('US/Eastern')",
   "id": "3e71897b642f1c16",
   "outputs": [
    {
     "data": {
      "text/plain": [
       "2012-03-05 19:00:00-05:00    0.192122\n",
       "2012-03-06 19:00:00-05:00    0.475020\n",
       "2012-03-07 19:00:00-05:00   -0.363844\n",
       "2012-03-08 19:00:00-05:00   -0.831323\n",
       "2012-03-09 19:00:00-05:00   -0.392130\n",
       "Freq: D, dtype: float64"
      ]
     },
     "execution_count": 79,
     "metadata": {},
     "output_type": "execute_result"
    }
   ],
   "execution_count": 79
  },
  {
   "metadata": {
    "ExecuteTime": {
     "end_time": "2025-01-20T12:40:47.977259Z",
     "start_time": "2025-01-20T12:40:47.972262Z"
    }
   },
   "cell_type": "code",
   "source": [
    "rng = pd.date_range('1/1/2012', periods=5, freq='ME')\n",
    "ts = pd.Series(np.random.randn(len(rng)), index=rng)\n",
    "ts"
   ],
   "id": "476b66cac2dd5ffd",
   "outputs": [
    {
     "data": {
      "text/plain": [
       "2012-01-31   -0.105097\n",
       "2012-02-29    0.383405\n",
       "2012-03-31    1.737938\n",
       "2012-04-30   -1.041223\n",
       "2012-05-31    0.490728\n",
       "Freq: ME, dtype: float64"
      ]
     },
     "execution_count": 81,
     "metadata": {},
     "output_type": "execute_result"
    }
   ],
   "execution_count": 81
  },
  {
   "metadata": {
    "ExecuteTime": {
     "end_time": "2025-01-20T12:40:58.805659Z",
     "start_time": "2025-01-20T12:40:58.799473Z"
    }
   },
   "cell_type": "code",
   "source": [
    " ps = ts.to_period()\n",
    " ps"
   ],
   "id": "2c00b0b20c1b0cd6",
   "outputs": [
    {
     "data": {
      "text/plain": [
       "2012-01   -0.105097\n",
       "2012-02    0.383405\n",
       "2012-03    1.737938\n",
       "2012-04   -1.041223\n",
       "2012-05    0.490728\n",
       "Freq: M, dtype: float64"
      ]
     },
     "execution_count": 82,
     "metadata": {},
     "output_type": "execute_result"
    }
   ],
   "execution_count": 82
  },
  {
   "metadata": {
    "ExecuteTime": {
     "end_time": "2025-01-20T12:41:48.100203Z",
     "start_time": "2025-01-20T12:41:48.095168Z"
    }
   },
   "cell_type": "code",
   "source": [
    "prng = pd.period_range('1990Q1', '2000Q4', freq='Q-NOV')\n",
    "ts = pd.Series(np.random.randn(len(prng)), prng)\n",
    "ts.index = (prng.asfreq('M', 'e') + 1).asfreq('h', 's') + 9\n",
    "ts.head()"
   ],
   "id": "af6be681080b9269",
   "outputs": [
    {
     "data": {
      "text/plain": [
       "1990-03-01 09:00    0.774055\n",
       "1990-06-01 09:00    0.913695\n",
       "1990-09-01 09:00   -0.731739\n",
       "1990-12-01 09:00   -0.859503\n",
       "1991-03-01 09:00   -0.016239\n",
       "Freq: h, dtype: float64"
      ]
     },
     "execution_count": 84,
     "metadata": {},
     "output_type": "execute_result"
    }
   ],
   "execution_count": 84
  },
  {
   "metadata": {
    "ExecuteTime": {
     "end_time": "2025-01-20T12:42:12.767201Z",
     "start_time": "2025-01-20T12:42:12.758752Z"
    }
   },
   "cell_type": "code",
   "source": [
    "df = pd.DataFrame({\"id\": [1, 2, 3, 4, 5, 6], \"raw_grade\": ['a', 'b', 'b', 'a', 'a', 'e']})\n",
    "df"
   ],
   "id": "abdebae94956367d",
   "outputs": [
    {
     "data": {
      "text/plain": [
       "   id raw_grade\n",
       "0   1         a\n",
       "1   2         b\n",
       "2   3         b\n",
       "3   4         a\n",
       "4   5         a\n",
       "5   6         e"
      ],
      "text/html": [
       "<div>\n",
       "<style scoped>\n",
       "    .dataframe tbody tr th:only-of-type {\n",
       "        vertical-align: middle;\n",
       "    }\n",
       "\n",
       "    .dataframe tbody tr th {\n",
       "        vertical-align: top;\n",
       "    }\n",
       "\n",
       "    .dataframe thead th {\n",
       "        text-align: right;\n",
       "    }\n",
       "</style>\n",
       "<table border=\"1\" class=\"dataframe\">\n",
       "  <thead>\n",
       "    <tr style=\"text-align: right;\">\n",
       "      <th></th>\n",
       "      <th>id</th>\n",
       "      <th>raw_grade</th>\n",
       "    </tr>\n",
       "  </thead>\n",
       "  <tbody>\n",
       "    <tr>\n",
       "      <th>0</th>\n",
       "      <td>1</td>\n",
       "      <td>a</td>\n",
       "    </tr>\n",
       "    <tr>\n",
       "      <th>1</th>\n",
       "      <td>2</td>\n",
       "      <td>b</td>\n",
       "    </tr>\n",
       "    <tr>\n",
       "      <th>2</th>\n",
       "      <td>3</td>\n",
       "      <td>b</td>\n",
       "    </tr>\n",
       "    <tr>\n",
       "      <th>3</th>\n",
       "      <td>4</td>\n",
       "      <td>a</td>\n",
       "    </tr>\n",
       "    <tr>\n",
       "      <th>4</th>\n",
       "      <td>5</td>\n",
       "      <td>a</td>\n",
       "    </tr>\n",
       "    <tr>\n",
       "      <th>5</th>\n",
       "      <td>6</td>\n",
       "      <td>e</td>\n",
       "    </tr>\n",
       "  </tbody>\n",
       "</table>\n",
       "</div>"
      ]
     },
     "execution_count": 85,
     "metadata": {},
     "output_type": "execute_result"
    }
   ],
   "execution_count": 85
  },
  {
   "metadata": {
    "ExecuteTime": {
     "end_time": "2025-01-20T12:42:27.486684Z",
     "start_time": "2025-01-20T12:42:27.481229Z"
    }
   },
   "cell_type": "code",
   "source": [
    "df[\"grade\"] = df[\"raw_grade\"].astype(\"category\")\n",
    "df[\"grade\"]"
   ],
   "id": "4a4d052312beb587",
   "outputs": [
    {
     "data": {
      "text/plain": [
       "0    a\n",
       "1    b\n",
       "2    b\n",
       "3    a\n",
       "4    a\n",
       "5    e\n",
       "Name: grade, dtype: category\n",
       "Categories (3, object): ['a', 'b', 'e']"
      ]
     },
     "execution_count": 86,
     "metadata": {},
     "output_type": "execute_result"
    }
   ],
   "execution_count": 86
  },
  {
   "metadata": {
    "ExecuteTime": {
     "end_time": "2025-01-20T12:43:55.058242Z",
     "start_time": "2025-01-20T12:43:55.050840Z"
    }
   },
   "cell_type": "code",
   "source": [
    "df[\"grade\"] = pd.Categorical(df[\"raw_grade\"])\n",
    "df[\"grade\"] = df[\"grade\"].cat.set_categories([\"very good\", \"good\", \"very bad\"])\n",
    "df[\"grade\"]"
   ],
   "id": "a35301f4bdda1c02",
   "outputs": [
    {
     "data": {
      "text/plain": [
       "0    NaN\n",
       "1    NaN\n",
       "2    NaN\n",
       "3    NaN\n",
       "4    NaN\n",
       "5    NaN\n",
       "Name: grade, dtype: category\n",
       "Categories (3, object): ['very good', 'good', 'very bad']"
      ]
     },
     "execution_count": 89,
     "metadata": {},
     "output_type": "execute_result"
    }
   ],
   "execution_count": 89
  },
  {
   "metadata": {
    "ExecuteTime": {
     "end_time": "2025-01-20T12:44:29.402593Z",
     "start_time": "2025-01-20T12:44:29.182540Z"
    }
   },
   "cell_type": "code",
   "source": [
    "ts = pd.Series(np.random.randn(1000), index=pd.date_range('1/1/2000', periods=1000))\n",
    "ts = ts.cumsum()\n",
    "ts.plot()"
   ],
   "id": "d31d6cc43e6cbddd",
   "outputs": [
    {
     "data": {
      "text/plain": [
       "<Axes: >"
      ]
     },
     "execution_count": 90,
     "metadata": {},
     "output_type": "execute_result"
    },
    {
     "data": {
      "text/plain": [
       "<Figure size 640x480 with 1 Axes>"
      ],
      "image/png": "[encoded data removed]"
     },
     "metadata": {},
     "output_type": "display_data"
    }
   ],
   "execution_count": 90
  },
  {
   "metadata": {
    "ExecuteTime": {
     "end_time": "2025-01-20T12:45:01.602821Z",
     "start_time": "2025-01-20T12:45:01.450058Z"
    }
   },
   "cell_type": "code",
   "source": [
    "df = pd.DataFrame(np.random.randn(1000, 4), index=ts.index, columns=['A', 'B', 'C', 'D'])\n",
    "df = df.cumsum()\n",
    "\n",
    "plt.figure()\n",
    "df.plot()\n",
    "plt.legend(loc='best')"
   ],
   "id": "c5f767420617ab59",
   "outputs": [
    {
     "data": {
      "text/plain": [
       "<matplotlib.legend.Legend at 0x1b88493a890>"
      ]
     },
     "execution_count": 91,
     "metadata": {},
     "output_type": "execute_result"
    },
    {
     "data": {
      "text/plain": [
       "<Figure size 640x480 with 0 Axes>"
      ]
     },
     "metadata": {},
     "output_type": "display_data"
    },
    {
     "data": {
      "text/plain": [
       "<Figure size 640x480 with 1 Axes>"
      ],
      "image/png": "[encoded data removed]"
     },
     "metadata": {},
     "output_type": "display_data"
    }
   ],
   "execution_count": 91
  },
  {
   "metadata": {
    "ExecuteTime": {
     "end_time": "2025-01-20T12:45:49.655354Z",
     "start_time": "2025-01-20T12:45:49.640786Z"
    }
   },
   "cell_type": "code",
   "source": [
    "df.to_csv('foo.csv')\n",
    "pd.read_csv('foo.csv')"
   ],
   "id": "5b366a650979a3ec",
   "outputs": [
    {
     "data": {
      "text/plain": [
       "     Unnamed: 0         A          B          C          D\n",
       "0    2000-01-01 -1.202499  -1.871964  -1.093343   0.331813\n",
       "1    2000-01-02 -1.228739  -1.538617  -0.033940   1.540762\n",
       "2    2000-01-03 -1.356279  -1.253220   0.829046   3.559854\n",
       "3    2000-01-04 -2.121031  -0.912977   1.456900   3.330486\n",
       "4    2000-01-05 -1.969022  -0.274123   3.260043   3.738190\n",
       "..          ...       ...        ...        ...        ...\n",
       "995  2002-09-22 -0.663215 -25.342396   8.322481  25.266258\n",
       "996  2002-09-23 -0.013862 -25.644708   7.692282  25.013093\n",
       "997  2002-09-24  0.871175 -26.441435   9.891936  25.541685\n",
       "998  2002-09-25  0.854306 -25.523915  10.179693  26.089109\n",
       "999  2002-09-26 -0.595351 -27.093995   9.253858  26.281710\n",
       "\n",
       "[1000 rows x 5 columns]"
      ],
      "text/html": [
       "<div>\n",
       "<style scoped>\n",
       "    .dataframe tbody tr th:only-of-type {\n",
       "        vertical-align: middle;\n",
       "    }\n",
       "\n",
       "    .dataframe tbody tr th {\n",
       "        vertical-align: top;\n",
       "    }\n",
       "\n",
       "    .dataframe thead th {\n",
       "        text-align: right;\n",
       "    }\n",
       "</style>\n",
       "<table border=\"1\" class=\"dataframe\">\n",
       "  <thead>\n",
       "    <tr style=\"text-align: right;\">\n",
       "      <th></th>\n",
       "      <th>Unnamed: 0</th>\n",
       "      <th>A</th>\n",
       "      <th>B</th>\n",
       "      <th>C</th>\n",
       "      <th>D</th>\n",
       "    </tr>\n",
       "  </thead>\n",
       "  <tbody>\n",
       "    <tr>\n",
       "      <th>0</th>\n",
       "      <td>2000-01-01</td>\n",
       "      <td>-1.202499</td>\n",
       "      <td>-1.871964</td>\n",
       "      <td>-1.093343</td>\n",
       "      <td>0.331813</td>\n",
       "    </tr>\n",
       "    <tr>\n",
       "      <th>1</th>\n",
       "      <td>2000-01-02</td>\n",
       "      <td>-1.228739</td>\n",
       "      <td>-1.538617</td>\n",
       "      <td>-0.033940</td>\n",
       "      <td>1.540762</td>\n",
       "    </tr>\n",
       "    <tr>\n",
       "      <th>2</th>\n",
       "      <td>2000-01-03</td>\n",
       "      <td>-1.356279</td>\n",
       "      <td>-1.253220</td>\n",
       "      <td>0.829046</td>\n",
       "      <td>3.559854</td>\n",
       "    </tr>\n",
       "    <tr>\n",
       "      <th>3</th>\n",
       "      <td>2000-01-04</td>\n",
       "      <td>-2.121031</td>\n",
       "      <td>-0.912977</td>\n",
       "      <td>1.456900</td>\n",
       "      <td>3.330486</td>\n",
       "    </tr>\n",
       "    <tr>\n",
       "      <th>4</th>\n",
       "      <td>2000-01-05</td>\n",
       "      <td>-1.969022</td>\n",
       "      <td>-0.274123</td>\n",
       "      <td>3.260043</td>\n",
       "      <td>3.738190</td>\n",
       "    </tr>\n",
       "    <tr>\n",
       "      <th>...</th>\n",
       "      <td>...</td>\n",
       "      <td>...</td>\n",
       "      <td>...</td>\n",
       "      <td>...</td>\n",
       "      <td>...</td>\n",
       "    </tr>\n",
       "    <tr>\n",
       "      <th>995</th>\n",
       "      <td>2002-09-22</td>\n",
       "      <td>-0.663215</td>\n",
       "      <td>-25.342396</td>\n",
       "      <td>8.322481</td>\n",
       "      <td>25.266258</td>\n",
       "    </tr>\n",
       "    <tr>\n",
       "      <th>996</th>\n",
       "      <td>2002-09-23</td>\n",
       "      <td>-0.013862</td>\n",
       "      <td>-25.644708</td>\n",
       "      <td>7.692282</td>\n",
       "      <td>25.013093</td>\n",
       "    </tr>\n",
       "    <tr>\n",
       "      <th>997</th>\n",
       "      <td>2002-09-24</td>\n",
       "      <td>0.871175</td>\n",
       "      <td>-26.441435</td>\n",
       "      <td>9.891936</td>\n",
       "      <td>25.541685</td>\n",
       "    </tr>\n",
       "    <tr>\n",
       "      <th>998</th>\n",
       "      <td>2002-09-25</td>\n",
       "      <td>0.854306</td>\n",
       "      <td>-25.523915</td>\n",
       "      <td>10.179693</td>\n",
       "      <td>26.089109</td>\n",
       "    </tr>\n",
       "    <tr>\n",
       "      <th>999</th>\n",
       "      <td>2002-09-26</td>\n",
       "      <td>-0.595351</td>\n",
       "      <td>-27.093995</td>\n",
       "      <td>9.253858</td>\n",
       "      <td>26.281710</td>\n",
       "    </tr>\n",
       "  </tbody>\n",
       "</table>\n",
       "<p>1000 rows × 5 columns</p>\n",
       "</div>"
      ]
     },
     "execution_count": 95,
     "metadata": {},
     "output_type": "execute_result"
    }
   ],
   "execution_count": 95
  }
 ],
 "metadata": {
  "kernelspec": {
   "display_name": "Python 3",
   "language": "python",
   "name": "python3"
  },
  "language_info": {
   "codemirror_mode": {
    "name": "ipython",
    "version": 2
   },
   "file_extension": ".py",
   "mimetype": "text/x-python",
   "name": "python",
   "nbconvert_exporter": "python",
   "pygments_lexer": "ipython2",
   "version": "2.7.6"
  }
 },
 "nbformat": 4,
 "nbformat_minor": 5
}
