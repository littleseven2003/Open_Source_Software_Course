{
 "cells": [
  {
   "cell_type": "code",
   "id": "initial_id",
   "metadata": {
    "collapsed": true,
    "ExecuteTime": {
     "end_time": "2025-01-20T09:20:27.492125Z",
     "start_time": "2025-01-20T09:20:27.485127Z"
    }
   },
   "source": [
    "html_doc = \"\"\"\n",
    "<html><head><title>The Dormouse’s story</title></head>\n",
    "<body>\n",
    "<p class=\"title\"><b>The Dormouse’s story</b></p>\n",
    "<p class=\"story\">Once upon a time there were three little sisters; and their names were\n",
    "<a href=\"http://example.com/elsie\" class=\"sister\" id=\"link1\">Elsie</a>,\n",
    "<a href=\"http://example.com/lacie\" class=\"sister\" id=\"link2\">Lacie</a> and\n",
    "<a href=\"http://example.com/tillie\" class=\"sister\" id=\"link3\">Tillie</a>;\n",
    "and they lived at the bottom of a well.</p>\n",
    "<p class=\"story\">...</p>\n",
    "\"\"\""
   ],
   "outputs": [],
   "execution_count": 1
  },
  {
   "metadata": {
    "ExecuteTime": {
     "end_time": "2025-01-20T09:20:56.590640Z",
     "start_time": "2025-01-20T09:20:56.526989Z"
    }
   },
   "cell_type": "code",
   "source": [
    "from bs4 import BeautifulSoup\n",
    "soup = BeautifulSoup(html_doc, 'html.parser')\n",
    "print(soup.prettify())"
   ],
   "id": "2ee1f5dd5611f880",
   "outputs": [
    {
     "name": "stdout",
     "output_type": "stream",
     "text": [
      "<html>\n",
      " <head>\n",
      "  <title>\n",
      "   The Dormouse’s story\n",
      "  </title>\n",
      " </head>\n",
      " <body>\n",
      "  <p class=\"title\">\n",
      "   <b>\n",
      "    The Dormouse’s story\n",
      "   </b>\n",
      "  </p>\n",
      "  <p class=\"story\">\n",
      "   Once upon a time there were three little sisters; and their names were\n",
      "   <a class=\"sister\" href=\"http://example.com/elsie\" id=\"link1\">\n",
      "    Elsie\n",
      "   </a>\n",
      "   ,\n",
      "   <a class=\"sister\" href=\"http://example.com/lacie\" id=\"link2\">\n",
      "    Lacie\n",
      "   </a>\n",
      "   and\n",
      "   <a class=\"sister\" href=\"http://example.com/tillie\" id=\"link3\">\n",
      "    Tillie\n",
      "   </a>\n",
      "   ;\n",
      "and they lived at the bottom of a well.\n",
      "  </p>\n",
      "  <p class=\"story\">\n",
      "   ...\n",
      "  </p>\n",
      " </body>\n",
      "</html>\n",
      "\n"
     ]
    }
   ],
   "execution_count": 2
  },
  {
   "metadata": {
    "ExecuteTime": {
     "end_time": "2025-01-20T09:23:08.409008Z",
     "start_time": "2025-01-20T09:23:08.402280Z"
    }
   },
   "cell_type": "code",
   "source": [
    "print(soup.title)  # 获取标题\n",
    "print(soup.title.name)  # 获取标题的标签名\n",
    "print(soup.title.string)  # 获取标题的文本内容\n",
    "print(soup.title.parent.name)  # 获取标题的父级标签名\n",
    "print(soup.p)  # 获取第一个 <p> 标签\n",
    "print(soup.p['class'])  # 获取第一个 <p> 标签的 'class' 属性\n",
    "print(soup.a)  # 获取第一个 <a> 标签\n",
    "print(soup.find_all('a'))  # 获取所有 <a> 标签\n",
    "print(soup.find(id=\"link3\"))  # 通过 ID 查找特定标签"
   ],
   "id": "277e4808e7f76de8",
   "outputs": [
    {
     "name": "stdout",
     "output_type": "stream",
     "text": [
      "<title>The Dormouse’s story</title>\n",
      "title\n",
      "The Dormouse’s story\n",
      "head\n",
      "<p class=\"title\"><b>The Dormouse’s story</b></p>\n",
      "['title']\n",
      "<a class=\"sister\" href=\"http://example.com/elsie\" id=\"link1\">Elsie</a>\n",
      "[<a class=\"sister\" href=\"http://example.com/elsie\" id=\"link1\">Elsie</a>, <a class=\"sister\" href=\"http://example.com/lacie\" id=\"link2\">Lacie</a>, <a class=\"sister\" href=\"http://example.com/tillie\" id=\"link3\">Tillie</a>]\n",
      "<a class=\"sister\" href=\"http://example.com/tillie\" id=\"link3\">Tillie</a>\n"
     ]
    }
   ],
   "execution_count": 3
  },
  {
   "metadata": {
    "ExecuteTime": {
     "end_time": "2025-01-20T09:23:52.623113Z",
     "start_time": "2025-01-20T09:23:52.617484Z"
    }
   },
   "cell_type": "code",
   "source": [
    "# 从文档中找到所有 <a> 标签的链接\n",
    "for link in soup.find_all('a'):  # 遍历所有 <a> 标签\n",
    "    print(link.get('href'))  # 打印每个链接的 href 属性"
   ],
   "id": "1b6d916e2d8dbe9b",
   "outputs": [
    {
     "name": "stdout",
     "output_type": "stream",
     "text": [
      "http://example.com/elsie\n",
      "http://example.com/lacie\n",
      "http://example.com/tillie\n"
     ]
    }
   ],
   "execution_count": 5
  },
  {
   "metadata": {
    "ExecuteTime": {
     "end_time": "2025-01-20T09:24:03.480620Z",
     "start_time": "2025-01-20T09:24:03.476644Z"
    }
   },
   "cell_type": "code",
   "source": [
    "# 从文档中获取所有文字内容\n",
    "print(soup.get_text())"
   ],
   "id": "6f76ebe612d2ea4c",
   "outputs": [
    {
     "name": "stdout",
     "output_type": "stream",
     "text": [
      "\n",
      "The Dormouse’s story\n",
      "\n",
      "The Dormouse’s story\n",
      "Once upon a time there were three little sisters; and their names were\n",
      "Elsie,\n",
      "Lacie and\n",
      "Tillie;\n",
      "and they lived at the bottom of a well.\n",
      "...\n",
      "\n"
     ]
    }
   ],
   "execution_count": 6
  },
  {
   "metadata": {
    "ExecuteTime": {
     "end_time": "2025-01-20T09:27:23.636803Z",
     "start_time": "2025-01-20T09:27:23.629963Z"
    }
   },
   "cell_type": "code",
   "source": [
    "html_doc = \"\"\"\n",
    "<html><head><title>The Dormouse’s story</title></head>\n",
    "<body>\n",
    "<p class=\"title\"><b>The Dormouse’s story</b></p>\n",
    "<p class=\"story\">Once upon a time there were three little sisters; and their names were\n",
    "<a href=\"http://example.com/elsie\" class=\"sister\" id=\"link1\">Elsie</a>,\n",
    "<a href=\"http://example.com/lacie\" class=\"sister\" id=\"link2\">Lacie</a> and\n",
    "<a href=\"http://example.com/tillie\" class=\"sister\" id=\"link3\">Tillie</a>;\n",
    "and they lived at the bottom of a well.</p>\n",
    "<p class=\"story\">...</p>\n",
    "</body>\n",
    "</html>\n",
    "\"\"\"\n",
    "\n",
    "from bs4 import BeautifulSoup\n",
    "soup = BeautifulSoup(html_doc, 'html.parser')"
   ],
   "id": "47799dc0807ed70f",
   "outputs": [],
   "execution_count": 18
  },
  {
   "metadata": {
    "ExecuteTime": {
     "end_time": "2025-01-20T09:25:09.618514Z",
     "start_time": "2025-01-20T09:25:09.613381Z"
    }
   },
   "cell_type": "code",
   "source": "soup.head",
   "id": "57bf1bcbc17a4b74",
   "outputs": [
    {
     "data": {
      "text/plain": [
       "<head><title>The Dormouse’s story</title></head>"
      ]
     },
     "execution_count": 8,
     "metadata": {},
     "output_type": "execute_result"
    }
   ],
   "execution_count": 8
  },
  {
   "metadata": {
    "ExecuteTime": {
     "end_time": "2025-01-20T09:25:16.454191Z",
     "start_time": "2025-01-20T09:25:16.449190Z"
    }
   },
   "cell_type": "code",
   "source": "soup.title",
   "id": "e96a4fb5e7dd6b28",
   "outputs": [
    {
     "data": {
      "text/plain": [
       "<title>The Dormouse’s story</title>"
      ]
     },
     "execution_count": 9,
     "metadata": {},
     "output_type": "execute_result"
    }
   ],
   "execution_count": 9
  },
  {
   "metadata": {
    "ExecuteTime": {
     "end_time": "2025-01-20T09:25:27.761077Z",
     "start_time": "2025-01-20T09:25:27.755193Z"
    }
   },
   "cell_type": "code",
   "source": "soup.a",
   "id": "1cb51b3d59fd5d2f",
   "outputs": [
    {
     "data": {
      "text/plain": [
       "<a class=\"sister\" href=\"http://example.com/elsie\" id=\"link1\">Elsie</a>"
      ]
     },
     "execution_count": 10,
     "metadata": {},
     "output_type": "execute_result"
    }
   ],
   "execution_count": 10
  },
  {
   "metadata": {
    "ExecuteTime": {
     "end_time": "2025-01-20T09:25:43.059908Z",
     "start_time": "2025-01-20T09:25:43.056045Z"
    }
   },
   "cell_type": "code",
   "source": "soup.find_all('a')",
   "id": "72a289d1566e1b62",
   "outputs": [
    {
     "data": {
      "text/plain": [
       "[<a class=\"sister\" href=\"http://example.com/elsie\" id=\"link1\">Elsie</a>,\n",
       " <a class=\"sister\" href=\"http://example.com/lacie\" id=\"link2\">Lacie</a>,\n",
       " <a class=\"sister\" href=\"http://example.com/tillie\" id=\"link3\">Tillie</a>]"
      ]
     },
     "execution_count": 12,
     "metadata": {},
     "output_type": "execute_result"
    }
   ],
   "execution_count": 12
  },
  {
   "metadata": {
    "ExecuteTime": {
     "end_time": "2025-01-20T09:26:53.078685Z",
     "start_time": "2025-01-20T09:26:53.074272Z"
    }
   },
   "cell_type": "code",
   "source": [
    "head_tag = soup.head\n",
    "print(head_tag)\n",
    "print(head_tag.contents)\n",
    "title_tag = head_tag.contents[0]\n",
    "print(title_tag)\n",
    "print(title_tag.contents)"
   ],
   "id": "dc9306d457a429ef",
   "outputs": [
    {
     "name": "stdout",
     "output_type": "stream",
     "text": [
      "<head><title>The Dormouse’s story</title></head>\n",
      "[<title>The Dormouse’s story</title>]\n",
      "<title>The Dormouse’s story</title>\n",
      "['The Dormouse’s story']\n"
     ]
    }
   ],
   "execution_count": 13
  },
  {
   "metadata": {
    "ExecuteTime": {
     "end_time": "2025-01-20T09:27:27.168836Z",
     "start_time": "2025-01-20T09:27:27.162852Z"
    }
   },
   "cell_type": "code",
   "source": "len(soup.contents)",
   "id": "383fba6b22cc8a1a",
   "outputs": [
    {
     "data": {
      "text/plain": [
       "3"
      ]
     },
     "execution_count": 19,
     "metadata": {},
     "output_type": "execute_result"
    }
   ],
   "execution_count": 19
  },
  {
   "metadata": {
    "ExecuteTime": {
     "end_time": "2025-01-20T09:27:28.678906Z",
     "start_time": "2025-01-20T09:27:28.674704Z"
    }
   },
   "cell_type": "code",
   "source": "soup.contents[0].name",
   "id": "3b2a72ee3bb05195",
   "outputs": [],
   "execution_count": 20
  },
  {
   "metadata": {
    "ExecuteTime": {
     "end_time": "2025-01-20T09:27:43.476040Z",
     "start_time": "2025-01-20T09:27:43.472067Z"
    }
   },
   "cell_type": "code",
   "source": [
    "for child in title_tag.children:\n",
    "    print(child)"
   ],
   "id": "e325fd49e3753eff",
   "outputs": [
    {
     "name": "stdout",
     "output_type": "stream",
     "text": [
      "The Dormouse’s story\n"
     ]
    }
   ],
   "execution_count": 21
  },
  {
   "metadata": {
    "ExecuteTime": {
     "end_time": "2025-01-20T09:28:02.802293Z",
     "start_time": "2025-01-20T09:28:02.797746Z"
    }
   },
   "cell_type": "code",
   "source": [
    "title_tag = soup.title\n",
    "print(title_tag)\n",
    "print(title_tag.parent)"
   ],
   "id": "8d5777f079a18b74",
   "outputs": [
    {
     "name": "stdout",
     "output_type": "stream",
     "text": [
      "<title>The Dormouse’s story</title>\n",
      "<head><title>The Dormouse’s story</title></head>\n"
     ]
    }
   ],
   "execution_count": 22
  },
  {
   "metadata": {
    "ExecuteTime": {
     "end_time": "2025-01-20T09:28:15.063476Z",
     "start_time": "2025-01-20T09:28:15.058897Z"
    }
   },
   "cell_type": "code",
   "source": "title_tag.string.parent",
   "id": "8e4af33b775cdb3c",
   "outputs": [
    {
     "data": {
      "text/plain": [
       "<title>The Dormouse’s story</title>"
      ]
     },
     "execution_count": 23,
     "metadata": {},
     "output_type": "execute_result"
    }
   ],
   "execution_count": 23
  },
  {
   "metadata": {
    "ExecuteTime": {
     "end_time": "2025-01-20T09:28:21.800792Z",
     "start_time": "2025-01-20T09:28:21.796812Z"
    }
   },
   "cell_type": "code",
   "source": [
    "html_tag = soup.html\n",
    "type(html_tag.parent)"
   ],
   "id": "3009a0bf3d94e9b8",
   "outputs": [
    {
     "data": {
      "text/plain": [
       "bs4.BeautifulSoup"
      ]
     },
     "execution_count": 24,
     "metadata": {},
     "output_type": "execute_result"
    }
   ],
   "execution_count": 24
  },
  {
   "metadata": {
    "ExecuteTime": {
     "end_time": "2025-01-20T09:28:32.489721Z",
     "start_time": "2025-01-20T09:28:32.485725Z"
    }
   },
   "cell_type": "code",
   "source": "print(soup.parent)",
   "id": "1f423502699cde11",
   "outputs": [
    {
     "name": "stdout",
     "output_type": "stream",
     "text": [
      "None\n"
     ]
    }
   ],
   "execution_count": 25
  },
  {
   "metadata": {
    "ExecuteTime": {
     "end_time": "2025-01-20T09:29:24.250846Z",
     "start_time": "2025-01-20T09:29:24.246849Z"
    }
   },
   "cell_type": "code",
   "source": [
    "link = soup.a\n",
    "\n",
    "for parent in link.parents:\n",
    "    if parent is None:\n",
    "        print(parent)\n",
    "    else:\n",
    "        print(parent.name)"
   ],
   "id": "552276a931d1c1c0",
   "outputs": [
    {
     "name": "stdout",
     "output_type": "stream",
     "text": [
      "p\n",
      "body\n",
      "html\n",
      "[document]\n"
     ]
    }
   ],
   "execution_count": 26
  },
  {
   "metadata": {
    "ExecuteTime": {
     "end_time": "2025-01-20T09:29:34.334171Z",
     "start_time": "2025-01-20T09:29:34.329247Z"
    }
   },
   "cell_type": "code",
   "source": [
    "sibling_soup = BeautifulSoup(\"<a><b>text1</b><c>text2</c></b></a>\")\n",
    "print(sibling_soup.prettify())"
   ],
   "id": "5d6bff18790a2b98",
   "outputs": [
    {
     "name": "stdout",
     "output_type": "stream",
     "text": [
      "<a>\n",
      " <b>\n",
      "  text1\n",
      " </b>\n",
      " <c>\n",
      "  text2\n",
      " </c>\n",
      "</a>\n",
      "\n"
     ]
    }
   ],
   "execution_count": 27
  },
  {
   "metadata": {
    "ExecuteTime": {
     "end_time": "2025-01-20T09:30:08.815268Z",
     "start_time": "2025-01-20T09:30:08.811277Z"
    }
   },
   "cell_type": "code",
   "source": [
    "last_a_tag = soup.find(\"a\", id=\"link3\")\n",
    "print(last_a_tag)\n",
    "print(last_a_tag.next_sibling)"
   ],
   "id": "503a343bf010e33b",
   "outputs": [
    {
     "name": "stdout",
     "output_type": "stream",
     "text": [
      "<a class=\"sister\" href=\"http://example.com/tillie\" id=\"link3\">Tillie</a>\n",
      ";\n",
      "and they lived at the bottom of a well.\n"
     ]
    }
   ],
   "execution_count": 28
  },
  {
   "metadata": {
    "ExecuteTime": {
     "end_time": "2025-01-20T09:30:22.831529Z",
     "start_time": "2025-01-20T09:30:22.827503Z"
    }
   },
   "cell_type": "code",
   "source": "soup.find_all('b')",
   "id": "d6fac6ebcd7d4e6f",
   "outputs": [
    {
     "data": {
      "text/plain": [
       "[<b>The Dormouse’s story</b>]"
      ]
     },
     "execution_count": 29,
     "metadata": {},
     "output_type": "execute_result"
    }
   ],
   "execution_count": 29
  },
  {
   "metadata": {
    "ExecuteTime": {
     "end_time": "2025-01-20T09:30:34.814018Z",
     "start_time": "2025-01-20T09:30:34.810019Z"
    }
   },
   "cell_type": "code",
   "source": [
    "import re\n",
    "for tag in soup.find_all(re.compile(\"^b\")):\n",
    "    print(tag.name)"
   ],
   "id": "899ecc6d196b9073",
   "outputs": [
    {
     "name": "stdout",
     "output_type": "stream",
     "text": [
      "body\n",
      "b\n"
     ]
    }
   ],
   "execution_count": 30
  },
  {
   "metadata": {
    "ExecuteTime": {
     "end_time": "2025-01-20T09:30:43.478496Z",
     "start_time": "2025-01-20T09:30:43.474676Z"
    }
   },
   "cell_type": "code",
   "source": [
    "for tag in soup.find_all(re.compile(\"t\")):\n",
    "    print(tag.name)"
   ],
   "id": "a2926afa26efdf3e",
   "outputs": [
    {
     "name": "stdout",
     "output_type": "stream",
     "text": [
      "html\n",
      "title\n"
     ]
    }
   ],
   "execution_count": 31
  },
  {
   "metadata": {
    "ExecuteTime": {
     "end_time": "2025-01-20T09:30:50.881102Z",
     "start_time": "2025-01-20T09:30:50.876125Z"
    }
   },
   "cell_type": "code",
   "source": "soup.find_all([\"a\", \"b\"])",
   "id": "af40e00ee2db5562",
   "outputs": [
    {
     "data": {
      "text/plain": [
       "[<b>The Dormouse’s story</b>,\n",
       " <a class=\"sister\" href=\"http://example.com/elsie\" id=\"link1\">Elsie</a>,\n",
       " <a class=\"sister\" href=\"http://example.com/lacie\" id=\"link2\">Lacie</a>,\n",
       " <a class=\"sister\" href=\"http://example.com/tillie\" id=\"link3\">Tillie</a>]"
      ]
     },
     "execution_count": 32,
     "metadata": {},
     "output_type": "execute_result"
    }
   ],
   "execution_count": 32
  },
  {
   "metadata": {
    "ExecuteTime": {
     "end_time": "2025-01-20T09:30:59.563485Z",
     "start_time": "2025-01-20T09:30:59.559546Z"
    }
   },
   "cell_type": "code",
   "source": [
    "for tag in soup.find_all(True):\n",
    "    print(tag.name)"
   ],
   "id": "f8ab3e592dac5682",
   "outputs": [
    {
     "name": "stdout",
     "output_type": "stream",
     "text": [
      "html\n",
      "head\n",
      "title\n",
      "body\n",
      "p\n",
      "b\n",
      "p\n",
      "a\n",
      "a\n",
      "a\n",
      "p\n"
     ]
    }
   ],
   "execution_count": 33
  },
  {
   "metadata": {
    "ExecuteTime": {
     "end_time": "2025-01-20T09:32:31.302334Z",
     "start_time": "2025-01-20T09:32:31.298509Z"
    }
   },
   "cell_type": "code",
   "source": "soup.find_all(\"title\")",
   "id": "fa058497f15d2cbb",
   "outputs": [
    {
     "data": {
      "text/plain": [
       "[<title>The Dormouse’s story</title>]"
      ]
     },
     "execution_count": 35,
     "metadata": {},
     "output_type": "execute_result"
    }
   ],
   "execution_count": 35
  },
  {
   "metadata": {
    "ExecuteTime": {
     "end_time": "2025-01-20T09:32:36.565207Z",
     "start_time": "2025-01-20T09:32:36.560776Z"
    }
   },
   "cell_type": "code",
   "source": "soup.find_all(\"p\", \"title\")",
   "id": "c1ea5210bd6544d1",
   "outputs": [
    {
     "data": {
      "text/plain": [
       "[<p class=\"title\"><b>The Dormouse’s story</b></p>]"
      ]
     },
     "execution_count": 36,
     "metadata": {},
     "output_type": "execute_result"
    }
   ],
   "execution_count": 36
  },
  {
   "metadata": {
    "ExecuteTime": {
     "end_time": "2025-01-20T09:32:41.948506Z",
     "start_time": "2025-01-20T09:32:41.944635Z"
    }
   },
   "cell_type": "code",
   "source": "soup.find_all(\"a\")",
   "id": "2ce41ca7e5e5c1c1",
   "outputs": [
    {
     "data": {
      "text/plain": [
       "[<a class=\"sister\" href=\"http://example.com/elsie\" id=\"link1\">Elsie</a>,\n",
       " <a class=\"sister\" href=\"http://example.com/lacie\" id=\"link2\">Lacie</a>,\n",
       " <a class=\"sister\" href=\"http://example.com/tillie\" id=\"link3\">Tillie</a>]"
      ]
     },
     "execution_count": 37,
     "metadata": {},
     "output_type": "execute_result"
    }
   ],
   "execution_count": 37
  },
  {
   "metadata": {
    "ExecuteTime": {
     "end_time": "2025-01-20T09:32:48.476950Z",
     "start_time": "2025-01-20T09:32:48.472952Z"
    }
   },
   "cell_type": "code",
   "source": "soup.find_all(id=\"link2\")",
   "id": "4f45728c8f13a629",
   "outputs": [
    {
     "data": {
      "text/plain": [
       "[<a class=\"sister\" href=\"http://example.com/lacie\" id=\"link2\">Lacie</a>]"
      ]
     },
     "execution_count": 38,
     "metadata": {},
     "output_type": "execute_result"
    }
   ],
   "execution_count": 38
  },
  {
   "metadata": {
    "ExecuteTime": {
     "end_time": "2025-01-20T09:33:12.457783Z",
     "start_time": "2025-01-20T09:33:12.453359Z"
    }
   },
   "cell_type": "code",
   "source": [
    "import re\n",
    "soup.find(string=re.compile(\"sisters\"))"
   ],
   "id": "e163f71cf36aaf4e",
   "outputs": [
    {
     "data": {
      "text/plain": [
       "'Once upon a time there were three little sisters; and their names were\\n'"
      ]
     },
     "execution_count": 40,
     "metadata": {},
     "output_type": "execute_result"
    }
   ],
   "execution_count": 40
  },
  {
   "metadata": {
    "ExecuteTime": {
     "end_time": "2025-01-20T09:33:24.298401Z",
     "start_time": "2025-01-20T09:33:24.293168Z"
    }
   },
   "cell_type": "code",
   "source": "soup.find_all(\"title\")",
   "id": "ca98e6cea13194f1",
   "outputs": [
    {
     "data": {
      "text/plain": [
       "[<title>The Dormouse’s story</title>]"
      ]
     },
     "execution_count": 41,
     "metadata": {},
     "output_type": "execute_result"
    }
   ],
   "execution_count": 41
  },
  {
   "metadata": {
    "ExecuteTime": {
     "end_time": "2025-01-20T09:33:39.521816Z",
     "start_time": "2025-01-20T09:33:39.517949Z"
    }
   },
   "cell_type": "code",
   "source": "soup.find_all(id='link2')",
   "id": "ef0e39a214ed29c",
   "outputs": [
    {
     "data": {
      "text/plain": [
       "[<a class=\"sister\" href=\"http://example.com/lacie\" id=\"link2\">Lacie</a>]"
      ]
     },
     "execution_count": 43,
     "metadata": {},
     "output_type": "execute_result"
    }
   ],
   "execution_count": 43
  },
  {
   "metadata": {
    "ExecuteTime": {
     "end_time": "2025-01-20T09:33:47.638163Z",
     "start_time": "2025-01-20T09:33:47.632751Z"
    }
   },
   "cell_type": "code",
   "source": "soup.find_all(href=re.compile(\"elsie\"))",
   "id": "2fb2574d2e0a5e1e",
   "outputs": [
    {
     "data": {
      "text/plain": [
       "[<a class=\"sister\" href=\"http://example.com/elsie\" id=\"link1\">Elsie</a>]"
      ]
     },
     "execution_count": 44,
     "metadata": {},
     "output_type": "execute_result"
    }
   ],
   "execution_count": 44
  },
  {
   "metadata": {
    "ExecuteTime": {
     "end_time": "2025-01-20T09:34:05.490984Z",
     "start_time": "2025-01-20T09:34:05.485701Z"
    }
   },
   "cell_type": "code",
   "source": "soup.find_all(href=re.compile(\"elsie\"), id='link1')",
   "id": "b7333400c2cbea28",
   "outputs": [
    {
     "data": {
      "text/plain": [
       "[<a class=\"sister\" href=\"http://example.com/elsie\" id=\"link1\">Elsie</a>]"
      ]
     },
     "execution_count": 45,
     "metadata": {},
     "output_type": "execute_result"
    }
   ],
   "execution_count": 45
  },
  {
   "metadata": {
    "ExecuteTime": {
     "end_time": "2025-01-20T09:34:35.757819Z",
     "start_time": "2025-01-20T09:34:35.752340Z"
    }
   },
   "cell_type": "code",
   "source": "soup.find_all(\"a\", class_=\"sister\")",
   "id": "ef80da1a009d73da",
   "outputs": [
    {
     "data": {
      "text/plain": [
       "[<a class=\"sister\" href=\"http://example.com/elsie\" id=\"link1\">Elsie</a>,\n",
       " <a class=\"sister\" href=\"http://example.com/lacie\" id=\"link2\">Lacie</a>,\n",
       " <a class=\"sister\" href=\"http://example.com/tillie\" id=\"link3\">Tillie</a>]"
      ]
     },
     "execution_count": 47,
     "metadata": {},
     "output_type": "execute_result"
    }
   ],
   "execution_count": 47
  },
  {
   "metadata": {
    "ExecuteTime": {
     "end_time": "2025-01-20T09:34:55.689164Z",
     "start_time": "2025-01-20T09:34:55.683663Z"
    }
   },
   "cell_type": "code",
   "source": [
    "css_soup = BeautifulSoup('<p class=\"body strikeout\"></p>')\n",
    "css_soup.find_all(\"p\", class_=\"strikeout\")"
   ],
   "id": "b03bfc03421cd4d4",
   "outputs": [
    {
     "data": {
      "text/plain": [
       "[<p class=\"body strikeout\"></p>]"
      ]
     },
     "execution_count": 48,
     "metadata": {},
     "output_type": "execute_result"
    }
   ],
   "execution_count": 48
  },
  {
   "metadata": {
    "ExecuteTime": {
     "end_time": "2025-01-20T09:35:01.862420Z",
     "start_time": "2025-01-20T09:35:01.858422Z"
    }
   },
   "cell_type": "code",
   "source": "css_soup.find_all(\"p\", class_=\"body\")",
   "id": "9cb44e9d14b0e5c0",
   "outputs": [
    {
     "data": {
      "text/plain": [
       "[<p class=\"body strikeout\"></p>]"
      ]
     },
     "execution_count": 49,
     "metadata": {},
     "output_type": "execute_result"
    }
   ],
   "execution_count": 49
  },
  {
   "metadata": {
    "ExecuteTime": {
     "end_time": "2025-01-20T09:35:11.048381Z",
     "start_time": "2025-01-20T09:35:11.042579Z"
    }
   },
   "cell_type": "code",
   "source": "soup.find_all(text=\"Elsie\")",
   "id": "db4d2f7b646a8c55",
   "outputs": [
    {
     "name": "stderr",
     "output_type": "stream",
     "text": [
      "C:\\Users\\littleseven\\AppData\\Local\\Temp\\ipykernel_29652\\4081904613.py:1: DeprecationWarning: The 'text' argument to find()-type methods is deprecated. Use 'string' instead.\n",
      "  soup.find_all(text=\"Elsie\")\n"
     ]
    },
    {
     "data": {
      "text/plain": [
       "['Elsie']"
      ]
     },
     "execution_count": 50,
     "metadata": {},
     "output_type": "execute_result"
    }
   ],
   "execution_count": 50
  },
  {
   "metadata": {
    "ExecuteTime": {
     "end_time": "2025-01-20T09:35:22.720691Z",
     "start_time": "2025-01-20T09:35:22.715244Z"
    }
   },
   "cell_type": "code",
   "source": "soup.find_all(text=[\"Tillie\", \"Elsie\", \"Lacie\"])",
   "id": "4c97217ead3b5a82",
   "outputs": [
    {
     "name": "stderr",
     "output_type": "stream",
     "text": [
      "C:\\Users\\littleseven\\AppData\\Local\\Temp\\ipykernel_29652\\673107037.py:1: DeprecationWarning: The 'text' argument to find()-type methods is deprecated. Use 'string' instead.\n",
      "  soup.find_all(text=[\"Tillie\", \"Elsie\", \"Lacie\"])\n"
     ]
    },
    {
     "data": {
      "text/plain": [
       "['Elsie', 'Lacie', 'Tillie']"
      ]
     },
     "execution_count": 51,
     "metadata": {},
     "output_type": "execute_result"
    }
   ],
   "execution_count": 51
  },
  {
   "metadata": {
    "ExecuteTime": {
     "end_time": "2025-01-20T09:35:35.972989Z",
     "start_time": "2025-01-20T09:35:35.966943Z"
    }
   },
   "cell_type": "code",
   "source": "soup.find_all(string=re.compile(\"Dormouse\"))",
   "id": "33824d8e9389cd59",
   "outputs": [
    {
     "data": {
      "text/plain": [
       "['The Dormouse’s story', 'The Dormouse’s story']"
      ]
     },
     "execution_count": 52,
     "metadata": {},
     "output_type": "execute_result"
    }
   ],
   "execution_count": 52
  },
  {
   "metadata": {
    "ExecuteTime": {
     "end_time": "2025-01-20T09:35:44.335219Z",
     "start_time": "2025-01-20T09:35:44.330854Z"
    }
   },
   "cell_type": "code",
   "source": "soup.find_all(\"a\", text=\"Elsie\")",
   "id": "ff10bd69946c89e6",
   "outputs": [
    {
     "name": "stderr",
     "output_type": "stream",
     "text": [
      "C:\\Users\\littleseven\\AppData\\Local\\Temp\\ipykernel_29652\\899868730.py:1: DeprecationWarning: The 'text' argument to find()-type methods is deprecated. Use 'string' instead.\n",
      "  soup.find_all(\"a\", text=\"Elsie\")\n"
     ]
    },
    {
     "data": {
      "text/plain": [
       "[<a class=\"sister\" href=\"http://example.com/elsie\" id=\"link1\">Elsie</a>]"
      ]
     },
     "execution_count": 53,
     "metadata": {},
     "output_type": "execute_result"
    }
   ],
   "execution_count": 53
  },
  {
   "metadata": {
    "ExecuteTime": {
     "end_time": "2025-01-20T09:35:58.434574Z",
     "start_time": "2025-01-20T09:35:58.430575Z"
    }
   },
   "cell_type": "code",
   "source": [
    "a_string = soup.find(text=\"Lacie\")\n",
    "print(a_string)"
   ],
   "id": "cc7eb27a1854e4c9",
   "outputs": [
    {
     "name": "stdout",
     "output_type": "stream",
     "text": [
      "Lacie\n"
     ]
    },
    {
     "name": "stderr",
     "output_type": "stream",
     "text": [
      "C:\\Users\\littleseven\\AppData\\Local\\Temp\\ipykernel_29652\\33636622.py:1: DeprecationWarning: The 'text' argument to find()-type methods is deprecated. Use 'string' instead.\n",
      "  a_string = soup.find(text=\"Lacie\")\n"
     ]
    }
   ],
   "execution_count": 54
  },
  {
   "metadata": {
    "ExecuteTime": {
     "end_time": "2025-01-20T09:36:08.905204Z",
     "start_time": "2025-01-20T09:36:08.901188Z"
    }
   },
   "cell_type": "code",
   "source": "a_string.find_parents(\"a\")",
   "id": "bb7a7119804ffe2b",
   "outputs": [
    {
     "data": {
      "text/plain": [
       "[<a class=\"sister\" href=\"http://example.com/lacie\" id=\"link2\">Lacie</a>]"
      ]
     },
     "execution_count": 55,
     "metadata": {},
     "output_type": "execute_result"
    }
   ],
   "execution_count": 55
  },
  {
   "metadata": {
    "ExecuteTime": {
     "end_time": "2025-01-20T09:36:13.227018Z",
     "start_time": "2025-01-20T09:36:13.222820Z"
    }
   },
   "cell_type": "code",
   "source": "a_string.find_parent(\"p\")",
   "id": "fac6670c0843474e",
   "outputs": [
    {
     "data": {
      "text/plain": [
       "<p class=\"story\">Once upon a time there were three little sisters; and their names were\n",
       "<a class=\"sister\" href=\"http://example.com/elsie\" id=\"link1\">Elsie</a>,\n",
       "<a class=\"sister\" href=\"http://example.com/lacie\" id=\"link2\">Lacie</a> and\n",
       "<a class=\"sister\" href=\"http://example.com/tillie\" id=\"link3\">Tillie</a>;\n",
       "and they lived at the bottom of a well.</p>"
      ]
     },
     "execution_count": 56,
     "metadata": {},
     "output_type": "execute_result"
    }
   ],
   "execution_count": 56
  },
  {
   "metadata": {
    "ExecuteTime": {
     "end_time": "2025-01-20T09:36:20.735589Z",
     "start_time": "2025-01-20T09:36:20.730189Z"
    }
   },
   "cell_type": "code",
   "source": "soup.select(\"title\")",
   "id": "af6e57c75ed739d1",
   "outputs": [
    {
     "data": {
      "text/plain": [
       "[<title>The Dormouse’s story</title>]"
      ]
     },
     "execution_count": 58,
     "metadata": {},
     "output_type": "execute_result"
    }
   ],
   "execution_count": 58
  },
  {
   "metadata": {
    "ExecuteTime": {
     "end_time": "2025-01-20T09:37:29.065374Z",
     "start_time": "2025-01-20T09:37:29.060931Z"
    }
   },
   "cell_type": "code",
   "source": "soup.select(\"body a\")",
   "id": "52b8d022f5c36fa3",
   "outputs": [
    {
     "data": {
      "text/plain": [
       "[<a class=\"sister\" href=\"http://example.com/elsie\" id=\"link1\">Elsie</a>,\n",
       " <a class=\"sister\" href=\"http://example.com/lacie\" id=\"link2\">Lacie</a>,\n",
       " <a class=\"sister\" href=\"http://example.com/tillie\" id=\"link3\">Tillie</a>]"
      ]
     },
     "execution_count": 63,
     "metadata": {},
     "output_type": "execute_result"
    }
   ],
   "execution_count": 63
  },
  {
   "metadata": {
    "ExecuteTime": {
     "end_time": "2025-01-20T09:37:34.845798Z",
     "start_time": "2025-01-20T09:37:34.840954Z"
    }
   },
   "cell_type": "code",
   "source": "soup.select(\"html head title\")",
   "id": "ad19e3a28f901917",
   "outputs": [
    {
     "data": {
      "text/plain": [
       "[<title>The Dormouse’s story</title>]"
      ]
     },
     "execution_count": 64,
     "metadata": {},
     "output_type": "execute_result"
    }
   ],
   "execution_count": 64
  },
  {
   "metadata": {
    "ExecuteTime": {
     "end_time": "2025-01-20T09:37:42.756477Z",
     "start_time": "2025-01-20T09:37:42.752091Z"
    }
   },
   "cell_type": "code",
   "source": "soup.select(\".sister\")",
   "id": "306de9e16121d4c5",
   "outputs": [
    {
     "data": {
      "text/plain": [
       "[<a class=\"sister\" href=\"http://example.com/elsie\" id=\"link1\">Elsie</a>,\n",
       " <a class=\"sister\" href=\"http://example.com/lacie\" id=\"link2\">Lacie</a>,\n",
       " <a class=\"sister\" href=\"http://example.com/tillie\" id=\"link3\">Tillie</a>]"
      ]
     },
     "execution_count": 65,
     "metadata": {},
     "output_type": "execute_result"
    }
   ],
   "execution_count": 65
  },
  {
   "metadata": {
    "ExecuteTime": {
     "end_time": "2025-01-20T09:37:48.856463Z",
     "start_time": "2025-01-20T09:37:48.849464Z"
    }
   },
   "cell_type": "code",
   "source": "soup.select(\"[class~=sister]\")",
   "id": "80b98fc06328144c",
   "outputs": [
    {
     "data": {
      "text/plain": [
       "[<a class=\"sister\" href=\"http://example.com/elsie\" id=\"link1\">Elsie</a>,\n",
       " <a class=\"sister\" href=\"http://example.com/lacie\" id=\"link2\">Lacie</a>,\n",
       " <a class=\"sister\" href=\"http://example.com/tillie\" id=\"link3\">Tillie</a>]"
      ]
     },
     "execution_count": 66,
     "metadata": {},
     "output_type": "execute_result"
    }
   ],
   "execution_count": 66
  },
  {
   "metadata": {
    "ExecuteTime": {
     "end_time": "2025-01-20T09:37:55.415123Z",
     "start_time": "2025-01-20T09:37:55.410480Z"
    }
   },
   "cell_type": "code",
   "source": "soup.select(\"#link1\")",
   "id": "8435b3a9290f007e",
   "outputs": [
    {
     "data": {
      "text/plain": [
       "[<a class=\"sister\" href=\"http://example.com/elsie\" id=\"link1\">Elsie</a>]"
      ]
     },
     "execution_count": 67,
     "metadata": {},
     "output_type": "execute_result"
    }
   ],
   "execution_count": 67
  },
  {
   "metadata": {
    "ExecuteTime": {
     "end_time": "2025-01-20T09:38:07.501039Z",
     "start_time": "2025-01-20T09:38:07.496041Z"
    }
   },
   "cell_type": "code",
   "source": "soup.select(\"a#link2\")",
   "id": "ff8df6b683e04482",
   "outputs": [
    {
     "data": {
      "text/plain": [
       "[<a class=\"sister\" href=\"http://example.com/lacie\" id=\"link2\">Lacie</a>]"
      ]
     },
     "execution_count": 68,
     "metadata": {},
     "output_type": "execute_result"
    }
   ],
   "execution_count": 68
  },
  {
   "metadata": {
    "ExecuteTime": {
     "end_time": "2025-01-20T09:38:27.393937Z",
     "start_time": "2025-01-20T09:38:27.389392Z"
    }
   },
   "cell_type": "code",
   "source": "soup.select('a[href]')",
   "id": "15408815ae0e34ba",
   "outputs": [
    {
     "data": {
      "text/plain": [
       "[<a class=\"sister\" href=\"http://example.com/elsie\" id=\"link1\">Elsie</a>,\n",
       " <a class=\"sister\" href=\"http://example.com/lacie\" id=\"link2\">Lacie</a>,\n",
       " <a class=\"sister\" href=\"http://example.com/tillie\" id=\"link3\">Tillie</a>]"
      ]
     },
     "execution_count": 69,
     "metadata": {},
     "output_type": "execute_result"
    }
   ],
   "execution_count": 69
  },
  {
   "metadata": {
    "ExecuteTime": {
     "end_time": "2025-01-20T09:39:51.938453Z",
     "start_time": "2025-01-20T09:39:51.934053Z"
    }
   },
   "cell_type": "code",
   "source": "soup.select('a[href=\"http://example.com/elsie\"]')",
   "id": "51de753d8003095b",
   "outputs": [
    {
     "data": {
      "text/plain": [
       "[<a class=\"sister\" href=\"http://example.com/elsie\" id=\"link1\">Elsie</a>]"
      ]
     },
     "execution_count": 70,
     "metadata": {},
     "output_type": "execute_result"
    }
   ],
   "execution_count": 70
  },
  {
   "metadata": {
    "ExecuteTime": {
     "end_time": "2025-01-20T09:39:58.928545Z",
     "start_time": "2025-01-20T09:39:58.923613Z"
    }
   },
   "cell_type": "code",
   "source": "soup.select('a[href^=\"http://example.com/\"]')",
   "id": "d02164d7ead6b26c",
   "outputs": [
    {
     "data": {
      "text/plain": [
       "[<a class=\"sister\" href=\"http://example.com/elsie\" id=\"link1\">Elsie</a>,\n",
       " <a class=\"sister\" href=\"http://example.com/lacie\" id=\"link2\">Lacie</a>,\n",
       " <a class=\"sister\" href=\"http://example.com/tillie\" id=\"link3\">Tillie</a>]"
      ]
     },
     "execution_count": 71,
     "metadata": {},
     "output_type": "execute_result"
    }
   ],
   "execution_count": 71
  },
  {
   "metadata": {
    "ExecuteTime": {
     "end_time": "2025-01-20T09:40:05.410537Z",
     "start_time": "2025-01-20T09:40:05.405604Z"
    }
   },
   "cell_type": "code",
   "source": "soup.select('a[href$=\"tillie\"]')",
   "id": "7fed8168dbd8a5ac",
   "outputs": [
    {
     "data": {
      "text/plain": [
       "[<a class=\"sister\" href=\"http://example.com/tillie\" id=\"link3\">Tillie</a>]"
      ]
     },
     "execution_count": 72,
     "metadata": {},
     "output_type": "execute_result"
    }
   ],
   "execution_count": 72
  },
  {
   "metadata": {
    "ExecuteTime": {
     "end_time": "2025-01-20T09:40:11.346063Z",
     "start_time": "2025-01-20T09:40:11.340702Z"
    }
   },
   "cell_type": "code",
   "source": "soup.select('a[href*=\".com/el\"]')",
   "id": "ba4f89e49be3a76c",
   "outputs": [
    {
     "data": {
      "text/plain": [
       "[<a class=\"sister\" href=\"http://example.com/elsie\" id=\"link1\">Elsie</a>]"
      ]
     },
     "execution_count": 73,
     "metadata": {},
     "output_type": "execute_result"
    }
   ],
   "execution_count": 73
  }
 ],
 "metadata": {
  "kernelspec": {
   "display_name": "Python 3",
   "language": "python",
   "name": "python3"
  },
  "language_info": {
   "codemirror_mode": {
    "name": "ipython",
    "version": 2
   },
   "file_extension": ".py",
   "mimetype": "text/x-python",
   "name": "python",
   "nbconvert_exporter": "python",
   "pygments_lexer": "ipython2",
   "version": "2.7.6"
  }
 },
 "nbformat": 4,
 "nbformat_minor": 5
}
