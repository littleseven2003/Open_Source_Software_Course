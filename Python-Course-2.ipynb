{
 "cells": [
  {
   "cell_type": "code",
   "execution_count": 1,
   "id": "1b50937f-16f3-4bde-aced-205659bfb1c9",
   "metadata": {},
   "outputs": [],
   "source": [
    "class MyClass:\n",
    "    def __init__(self, a):\n",
    "        self.a = a\n"
   ]
  },
  {
   "cell_type": "code",
   "execution_count": 2,
   "id": "8a4e0c2e-293a-4743-a622-068ec603f3fb",
   "metadata": {},
   "outputs": [],
   "source": [
    "my_object = MyClass(10)"
   ]
  },
  {
   "cell_type": "code",
   "execution_count": 3,
   "id": "a4575615-982b-4056-8547-c0cd1521d73f",
   "metadata": {},
   "outputs": [
    {
     "data": {
      "text/plain": [
       "10"
      ]
     },
     "execution_count": 3,
     "metadata": {},
     "output_type": "execute_result"
    }
   ],
   "source": [
    "my_object.a"
   ]
  },
  {
   "cell_type": "code",
   "execution_count": 4,
   "id": "56005f90-789c-4818-a58f-34e7bae4b967",
   "metadata": {},
   "outputs": [],
   "source": [
    "my_object.b = 20"
   ]
  },
  {
   "cell_type": "code",
   "execution_count": 5,
   "id": "4823eeef-deac-42ce-b19d-500c18ccce5f",
   "metadata": {},
   "outputs": [
    {
     "data": {
      "text/plain": [
       "20"
      ]
     },
     "execution_count": 5,
     "metadata": {},
     "output_type": "execute_result"
    }
   ],
   "source": [
    "my_object.b"
   ]
  },
  {
   "cell_type": "code",
   "execution_count": 6,
   "id": "de74b868-e291-4996-ac7f-323c8a0fff10",
   "metadata": {},
   "outputs": [
    {
     "data": {
      "text/plain": [
       "True"
      ]
     },
     "execution_count": 6,
     "metadata": {},
     "output_type": "execute_result"
    }
   ],
   "source": [
    "hasattr(my_object, \"b\")"
   ]
  },
  {
   "cell_type": "code",
   "execution_count": 7,
   "id": "2ffbb461-5dbd-41a9-abbb-87287eaad81c",
   "metadata": {},
   "outputs": [
    {
     "data": {
      "text/plain": [
       "False"
      ]
     },
     "execution_count": 7,
     "metadata": {},
     "output_type": "execute_result"
    }
   ],
   "source": [
    "hasattr(my_object, \"c\")"
   ]
  },
  {
   "cell_type": "code",
   "execution_count": 9,
   "id": "901acf10-6747-41a0-bb6d-5547a6ff4f66",
   "metadata": {},
   "outputs": [
    {
     "data": {
      "text/plain": [
       "20"
      ]
     },
     "execution_count": 9,
     "metadata": {},
     "output_type": "execute_result"
    }
   ],
   "source": [
    "getattr(my_object, \"b\")"
   ]
  },
  {
   "cell_type": "code",
   "execution_count": 10,
   "id": "8a129a3e-985e-4cb9-9b6a-4caf61ebb6d3",
   "metadata": {},
   "outputs": [],
   "source": [
    "delattr(my_object, \"b\")"
   ]
  },
  {
   "cell_type": "code",
   "execution_count": 11,
   "id": "6f198055-901f-4a3a-9d72-0e03e470442b",
   "metadata": {},
   "outputs": [
    {
     "data": {
      "text/plain": [
       "False"
      ]
     },
     "execution_count": 11,
     "metadata": {},
     "output_type": "execute_result"
    }
   ],
   "source": [
    "hasattr(my_object, \"b\")"
   ]
  },
  {
   "cell_type": "code",
   "execution_count": 15,
   "id": "75942d5a-43fb-4feb-aea5-88e1ef408cab",
   "metadata": {},
   "outputs": [
    {
     "name": "stdout",
     "output_type": "stream",
     "text": [
      "10\n"
     ]
    }
   ],
   "source": [
    "if hasattr(my_object, \"a\"):\n",
    "    print(getattr(my_object, \"a\"))\n",
    "else:\n",
    "    print(\"no attribute a in my_object\")"
   ]
  },
  {
   "cell_type": "code",
   "execution_count": 16,
   "id": "905ba4d3-7db8-43db-8912-18afb295198e",
   "metadata": {},
   "outputs": [
    {
     "name": "stdout",
     "output_type": "stream",
     "text": [
      "no attribute a in my_object\n"
     ]
    }
   ],
   "source": [
    "if hasattr(my_object, \"b\"):\n",
    "    print(getattr(my_object, \"b\"))\n",
    "else:\n",
    "    print(\"no attribute a in my_object\")"
   ]
  },
  {
   "cell_type": "code",
   "execution_count": 24,
   "id": "f5cb5fc7-af0a-4fd4-b05d-bc95337a0e4c",
   "metadata": {},
   "outputs": [],
   "source": [
    "class A:\n",
    "    def foo(self):\n",
    "        print(\"in A::foo\")"
   ]
  },
  {
   "cell_type": "code",
   "execution_count": 25,
   "id": "bf45da63-86f9-499a-9f70-c2ecf14be8b4",
   "metadata": {},
   "outputs": [],
   "source": [
    "class B(A):\n",
    "    def foo(self):\n",
    "        print(\"in B::foo\")"
   ]
  },
  {
   "cell_type": "code",
   "execution_count": 26,
   "id": "78d9288a-d2a6-4418-af73-787f3ed2631e",
   "metadata": {},
   "outputs": [],
   "source": [
    "b = B()"
   ]
  },
  {
   "cell_type": "code",
   "execution_count": 27,
   "id": "2a6674b7-8142-4bd3-8d63-ed40c0808b03",
   "metadata": {},
   "outputs": [
    {
     "name": "stdout",
     "output_type": "stream",
     "text": [
      "in B::foo\n"
     ]
    }
   ],
   "source": [
    "b.foo()"
   ]
  },
  {
   "cell_type": "code",
   "execution_count": 34,
   "id": "ed4eec9b-19c8-4035-9b64-d1feeaca4757",
   "metadata": {},
   "outputs": [
    {
     "data": {
      "text/plain": [
       "True"
      ]
     },
     "execution_count": 34,
     "metadata": {},
     "output_type": "execute_result"
    }
   ],
   "source": [
    "isinstance(b, A)"
   ]
  },
  {
   "cell_type": "code",
   "execution_count": 35,
   "id": "16f1503c-1d24-4eba-8834-57f31b8674cb",
   "metadata": {},
   "outputs": [
    {
     "data": {
      "text/plain": [
       "True"
      ]
     },
     "execution_count": 35,
     "metadata": {},
     "output_type": "execute_result"
    }
   ],
   "source": [
    "isinstance(b, B)"
   ]
  },
  {
   "cell_type": "code",
   "execution_count": 36,
   "id": "be7951ae-124b-4618-8c13-7ee01ce71ab6",
   "metadata": {},
   "outputs": [],
   "source": [
    "def add(x, y):\n",
    "    return x + y"
   ]
  },
  {
   "cell_type": "code",
   "execution_count": 37,
   "id": "80065b07-b629-4c00-b118-f7dff0700b6e",
   "metadata": {},
   "outputs": [
    {
     "data": {
      "text/plain": [
       "7"
      ]
     },
     "execution_count": 37,
     "metadata": {},
     "output_type": "execute_result"
    }
   ],
   "source": [
    "add(3, 4)"
   ]
  },
  {
   "cell_type": "code",
   "execution_count": 38,
   "id": "292ac257-3d1d-4cfd-b05f-be3e49895454",
   "metadata": {},
   "outputs": [
    {
     "data": {
      "text/plain": [
       "'Hello World'"
      ]
     },
     "execution_count": 38,
     "metadata": {},
     "output_type": "execute_result"
    }
   ],
   "source": [
    "add(\"Hello \", \"World\")"
   ]
  },
  {
   "cell_type": "code",
   "execution_count": null,
   "id": "b0588c37-b8f1-4d6f-a8ad-f966911bcc1a",
   "metadata": {},
   "outputs": [],
   "source": []
  },
  {
   "cell_type": "code",
   "execution_count": null,
   "id": "823f2572-3bc8-42ea-90cd-a03b8e1601ae",
   "metadata": {},
   "outputs": [],
   "source": []
  },
  {
   "cell_type": "code",
   "execution_count": null,
   "id": "05d78272-1de8-46e4-bd99-f129da7aa8db",
   "metadata": {},
   "outputs": [],
   "source": []
  }
 ],
 "metadata": {
  "kernelspec": {
   "display_name": "Python 3 (ipykernel)",
   "language": "python",
   "name": "python3"
  },
  "language_info": {
   "codemirror_mode": {
    "name": "ipython",
    "version": 3
   },
   "file_extension": ".py",
   "mimetype": "text/x-python",
   "name": "python",
   "nbconvert_exporter": "python",
   "pygments_lexer": "ipython3",
   "version": "3.11.10"
  }
 },
 "nbformat": 4,
 "nbformat_minor": 5
}
