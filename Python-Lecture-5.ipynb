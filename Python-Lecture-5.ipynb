{
 "cells": [
  {
   "cell_type": "code",
   "id": "initial_id",
   "metadata": {
    "collapsed": true,
    "ExecuteTime": {
     "end_time": "2025-01-20T11:17:29.502827Z",
     "start_time": "2025-01-20T11:17:29.498544Z"
    }
   },
   "source": [
    "handle = open(\"input.txt\", \"r\")\n",
    "content = handle.read()\n",
    "print(content)\n",
    "handle.close()\n",
    "#playing around with content\n",
    "handle = open(\"output.txt\", \"w\")\n",
    "handle.write(content)\n",
    "handle.close()"
   ],
   "outputs": [
    {
     "name": "stdout",
     "output_type": "stream",
     "text": [
      "123\n"
     ]
    }
   ],
   "execution_count": 18
  },
  {
   "metadata": {
    "ExecuteTime": {
     "end_time": "2025-01-20T11:17:30.524407Z",
     "start_time": "2025-01-20T11:17:30.519884Z"
    }
   },
   "cell_type": "code",
   "source": [
    "handle = open(\"output.txt\", \"r\")\n",
    "print(handle.read())\n",
    "handle.close()"
   ],
   "id": "69ced269a15e51ca",
   "outputs": [
    {
     "name": "stdout",
     "output_type": "stream",
     "text": [
      "123\n"
     ]
    }
   ],
   "execution_count": 19
  },
  {
   "metadata": {
    "ExecuteTime": {
     "end_time": "2025-01-20T11:18:23.934106Z",
     "start_time": "2025-01-20T11:18:23.926316Z"
    }
   },
   "cell_type": "code",
   "source": [
    "import csv\n",
    "\n",
    "# 写入 CSV 文件\n",
    "students = [['name', 'gender', 'age'],\n",
    "            ['zhangsan', 'male', 13],\n",
    "            ['lisi', 'female', 14]]\n",
    "\n",
    "handle = open('students.csv', 'w', newline='')  # 添加 newline='' 避免写入时的多余换行\n",
    "writer = csv.writer(handle)\n",
    "writer.writerows(students)\n",
    "handle.close()\n",
    "\n",
    "# 读取 CSV 文件\n",
    "handle = open('students.csv', 'r')\n",
    "reader = csv.reader(handle)\n",
    "for row in reader:\n",
    "    print(row)\n",
    "\n",
    "handle.close()"
   ],
   "id": "5328993eec95b6e1",
   "outputs": [
    {
     "name": "stdout",
     "output_type": "stream",
     "text": [
      "['name', 'gender', 'age']\n",
      "['zhangsan', 'male', '13']\n",
      "['lisi', 'female', '14']\n"
     ]
    }
   ],
   "execution_count": 21
  },
  {
   "metadata": {
    "ExecuteTime": {
     "end_time": "2025-01-20T11:38:38.398385Z",
     "start_time": "2025-01-20T11:38:38.394093Z"
    }
   },
   "cell_type": "code",
   "source": [
    "import sqlite3\n",
    "conn = sqlite3.connect('example.db')\n",
    "conn_memory = sqlite3.connect(':memory:')"
   ],
   "id": "316aac3549f84d5",
   "outputs": [],
   "execution_count": 57
  },
  {
   "metadata": {
    "ExecuteTime": {
     "end_time": "2025-01-20T11:38:40.111809Z",
     "start_time": "2025-01-20T11:38:40.103086Z"
    }
   },
   "cell_type": "code",
   "source": [
    "c = conn.cursor()\n",
    "c.execute('''CREATE TABLE stocks\n",
    "(date text, trans text, symbol text, qty real, price real)''')\n",
    "c.execute(\"INSERT INTO stocks VALUES ('2006-01-05','BUY','RHAT',100,35.14)\")\n",
    "conn.commit()\n",
    "conn.close()"
   ],
   "id": "787266f8995ba39",
   "outputs": [],
   "execution_count": 58
  },
  {
   "metadata": {
    "ExecuteTime": {
     "end_time": "2025-01-20T11:38:43.847448Z",
     "start_time": "2025-01-20T11:38:43.844096Z"
    }
   },
   "cell_type": "code",
   "source": [
    "import sqlite3\n",
    "conn = sqlite3.connect('example.db')\n",
    "c = conn.cursor()\n"
   ],
   "id": "539d3fde9d9545be",
   "outputs": [],
   "execution_count": 59
  },
  {
   "metadata": {
    "ExecuteTime": {
     "end_time": "2025-01-20T11:39:50.421082Z",
     "start_time": "2025-01-20T11:39:44.867071Z"
    }
   },
   "cell_type": "code",
   "source": [
    "# Insecure example\n",
    "# symbol = 'RHAT'\n",
    "# c.execute(\"SELECT * FROM stocks WHERE symbol = '%s'\" % symbol)\n",
    "\n",
    "# Secure example using parameterized query\n",
    "t = ('RHAT',)\n",
    "c.execute('SELECT * FROM stocks WHERE symbol=?', t)\n",
    "print(c.fetchone())\n",
    "\n",
    "# Larger example that inserts many records at a time\n",
    "purchases = [\n",
    "    ('2006-03-28', 'BUY', 'IBM', 1000, 45.00),\n",
    "    ('2006-04-05', 'BUY', 'MSFT', 1000, 72.00),\n",
    "    ('2006-04-06', 'SELL', 'IBM', 500, 53.00),\n",
    "]\n",
    "c.executemany('INSERT INTO stocks VALUES (?,?,?,?,?)', purchases)"
   ],
   "id": "834d703b0ef696c4",
   "outputs": [
    {
     "name": "stdout",
     "output_type": "stream",
     "text": [
      "<sqlite3.Row object at 0x000001C662A32D70>\n"
     ]
    },
    {
     "ename": "OperationalError",
     "evalue": "database is locked",
     "output_type": "error",
     "traceback": [
      "\u001B[1;31m---------------------------------------------------------------------------\u001B[0m",
      "\u001B[1;31mOperationalError\u001B[0m                          Traceback (most recent call last)",
      "Cell \u001B[1;32mIn[63], line 16\u001B[0m\n\u001B[0;32m     10\u001B[0m \u001B[38;5;66;03m# Larger example that inserts many records at a time\u001B[39;00m\n\u001B[0;32m     11\u001B[0m purchases \u001B[38;5;241m=\u001B[39m [\n\u001B[0;32m     12\u001B[0m     (\u001B[38;5;124m'\u001B[39m\u001B[38;5;124m2006-03-28\u001B[39m\u001B[38;5;124m'\u001B[39m, \u001B[38;5;124m'\u001B[39m\u001B[38;5;124mBUY\u001B[39m\u001B[38;5;124m'\u001B[39m, \u001B[38;5;124m'\u001B[39m\u001B[38;5;124mIBM\u001B[39m\u001B[38;5;124m'\u001B[39m, \u001B[38;5;241m1000\u001B[39m, \u001B[38;5;241m45.00\u001B[39m),\n\u001B[0;32m     13\u001B[0m     (\u001B[38;5;124m'\u001B[39m\u001B[38;5;124m2006-04-05\u001B[39m\u001B[38;5;124m'\u001B[39m, \u001B[38;5;124m'\u001B[39m\u001B[38;5;124mBUY\u001B[39m\u001B[38;5;124m'\u001B[39m, \u001B[38;5;124m'\u001B[39m\u001B[38;5;124mMSFT\u001B[39m\u001B[38;5;124m'\u001B[39m, \u001B[38;5;241m1000\u001B[39m, \u001B[38;5;241m72.00\u001B[39m),\n\u001B[0;32m     14\u001B[0m     (\u001B[38;5;124m'\u001B[39m\u001B[38;5;124m2006-04-06\u001B[39m\u001B[38;5;124m'\u001B[39m, \u001B[38;5;124m'\u001B[39m\u001B[38;5;124mSELL\u001B[39m\u001B[38;5;124m'\u001B[39m, \u001B[38;5;124m'\u001B[39m\u001B[38;5;124mIBM\u001B[39m\u001B[38;5;124m'\u001B[39m, \u001B[38;5;241m500\u001B[39m, \u001B[38;5;241m53.00\u001B[39m),\n\u001B[0;32m     15\u001B[0m ]\n\u001B[1;32m---> 16\u001B[0m \u001B[43mc\u001B[49m\u001B[38;5;241;43m.\u001B[39;49m\u001B[43mexecutemany\u001B[49m\u001B[43m(\u001B[49m\u001B[38;5;124;43m'\u001B[39;49m\u001B[38;5;124;43mINSERT INTO stocks VALUES (?,?,?,?,?)\u001B[39;49m\u001B[38;5;124;43m'\u001B[39;49m\u001B[43m,\u001B[49m\u001B[43m \u001B[49m\u001B[43mpurchases\u001B[49m\u001B[43m)\u001B[49m\n",
      "\u001B[1;31mOperationalError\u001B[0m: database is locked"
     ]
    }
   ],
   "execution_count": 63
  },
  {
   "metadata": {
    "ExecuteTime": {
     "end_time": "2025-01-20T11:31:22.519673Z",
     "start_time": "2025-01-20T11:31:22.508816Z"
    }
   },
   "cell_type": "code",
   "source": [
    "import sqlite3\n",
    "\n",
    "conn = sqlite3.connect('a.db')\n",
    "c = conn.cursor()\n",
    "c.executescript(open('a.sql').read())\n",
    "\n",
    "result = list(c.execute('SELECT * FROM news'))\n",
    "print(result)"
   ],
   "id": "a65bc07aa1c603b1",
   "outputs": [
    {
     "ename": "OperationalError",
     "evalue": "table news already exists",
     "output_type": "error",
     "traceback": [
      "\u001B[1;31m---------------------------------------------------------------------------\u001B[0m",
      "\u001B[1;31mOperationalError\u001B[0m                          Traceback (most recent call last)",
      "Cell \u001B[1;32mIn[33], line 5\u001B[0m\n\u001B[0;32m      3\u001B[0m conn \u001B[38;5;241m=\u001B[39m sqlite3\u001B[38;5;241m.\u001B[39mconnect(\u001B[38;5;124m'\u001B[39m\u001B[38;5;124ma.db\u001B[39m\u001B[38;5;124m'\u001B[39m)\n\u001B[0;32m      4\u001B[0m c \u001B[38;5;241m=\u001B[39m conn\u001B[38;5;241m.\u001B[39mcursor()\n\u001B[1;32m----> 5\u001B[0m \u001B[43mc\u001B[49m\u001B[38;5;241;43m.\u001B[39;49m\u001B[43mexecutescript\u001B[49m\u001B[43m(\u001B[49m\u001B[38;5;28;43mopen\u001B[39;49m\u001B[43m(\u001B[49m\u001B[38;5;124;43m'\u001B[39;49m\u001B[38;5;124;43ma.sql\u001B[39;49m\u001B[38;5;124;43m'\u001B[39;49m\u001B[43m)\u001B[49m\u001B[38;5;241;43m.\u001B[39;49m\u001B[43mread\u001B[49m\u001B[43m(\u001B[49m\u001B[43m)\u001B[49m\u001B[43m)\u001B[49m\n\u001B[0;32m      7\u001B[0m result \u001B[38;5;241m=\u001B[39m \u001B[38;5;28mlist\u001B[39m(c\u001B[38;5;241m.\u001B[39mexecute(\u001B[38;5;124m'\u001B[39m\u001B[38;5;124mSELECT * FROM news\u001B[39m\u001B[38;5;124m'\u001B[39m))\n\u001B[0;32m      8\u001B[0m \u001B[38;5;28mprint\u001B[39m(result)\n",
      "\u001B[1;31mOperationalError\u001B[0m: table news already exists"
     ]
    }
   ],
   "execution_count": 33
  },
  {
   "metadata": {
    "ExecuteTime": {
     "end_time": "2025-01-20T11:39:28.828416Z",
     "start_time": "2025-01-20T11:39:28.823645Z"
    }
   },
   "cell_type": "code",
   "source": [
    "import sqlite3\n",
    "\n",
    "conn = sqlite3.connect('example.db')\n",
    "conn.row_factory = sqlite3.Row  # 设置返回结果为 Row 对象\n",
    "c = conn.cursor()\n",
    "\n",
    "c.execute('SELECT * FROM stocks')\n",
    "r = c.fetchone()\n",
    "\n",
    "print(tuple(r))  # 将 Row 对象转换为元组\n",
    "print(len(r))    # 获取 Row 对象的长度\n",
    "print(r[2])      # 访问 Row 对象的第三个字段"
   ],
   "id": "9e4e3cdd6176f56d",
   "outputs": [
    {
     "name": "stdout",
     "output_type": "stream",
     "text": [
      "('2006-01-05', 'BUY', 'RHAT', 100.0, 35.14)\n",
      "5\n",
      "RHAT\n"
     ]
    }
   ],
   "execution_count": 61
  },
  {
   "metadata": {
    "ExecuteTime": {
     "end_time": "2025-01-20T11:39:35.193152Z",
     "start_time": "2025-01-20T11:39:35.188768Z"
    }
   },
   "cell_type": "code",
   "source": [
    "import sqlite3\n",
    "\n",
    "conn = sqlite3.connect('example.db')\n",
    "conn.row_factory = sqlite3.Row  # 设置返回结果为 Row 对象\n",
    "c = conn.cursor()\n",
    "\n",
    "# 查询并打印每行的内容\n",
    "for row in c.execute('SELECT * FROM stocks ORDER BY price'):\n",
    "    print(dict(row))  # 将 Row 对象转换为字典并打印"
   ],
   "id": "36d6dd17c08892e",
   "outputs": [
    {
     "name": "stdout",
     "output_type": "stream",
     "text": [
      "{'date': '2006-01-05', 'trans': 'BUY', 'symbol': 'RHAT', 'qty': 100.0, 'price': 35.14}\n"
     ]
    }
   ],
   "execution_count": 62
  },
  {
   "metadata": {
    "ExecuteTime": {
     "end_time": "2025-01-20T11:40:51.713949Z",
     "start_time": "2025-01-20T11:40:51.709110Z"
    }
   },
   "cell_type": "code",
   "source": [
    "import json\n",
    "\n",
    "# 将数据序列化为 JSON 格式\n",
    "json_str = json.dumps(['foo', {'bar': ('baz', None, 1.0, 2)}])\n",
    "print(json_str)\n",
    "\n",
    "# 序列化字典并按键排序\n",
    "print(json.dumps({\"c\": 0, \"b\": 0, \"a\": 0}, sort_keys=True))\n",
    "\n",
    "# 将数据写入 JSON 文件\n",
    "handle = open(\"output.json\", \"w\")\n",
    "json.dump({'foo': 123, 'bar': 'buz'}, handle)\n",
    "handle.close()"
   ],
   "id": "f768af0f8329068e",
   "outputs": [
    {
     "name": "stdout",
     "output_type": "stream",
     "text": [
      "[\"foo\", {\"bar\": [\"baz\", null, 1.0, 2]}]\n",
      "{\"a\": 0, \"b\": 0, \"c\": 0}\n"
     ]
    }
   ],
   "execution_count": 64
  },
  {
   "metadata": {
    "ExecuteTime": {
     "end_time": "2025-01-20T11:41:11.310279Z",
     "start_time": "2025-01-20T11:41:11.305349Z"
    }
   },
   "cell_type": "code",
   "source": [
    "import json\n",
    "\n",
    "# 解析 JSON 字符串\n",
    "json_str = '[\"foo\", {\"bar\":[\"baz\", null, 1.0, 2]}]'\n",
    "data = json.loads(json_str)\n",
    "print(data)\n",
    "\n",
    "# 从文件中加载 JSON 数据\n",
    "handle = open('output.json', 'r')\n",
    "b = json.load(handle)\n",
    "handle.close()\n",
    "print(b)"
   ],
   "id": "e6f0465d2b20150d",
   "outputs": [
    {
     "name": "stdout",
     "output_type": "stream",
     "text": [
      "['foo', {'bar': ['baz', None, 1.0, 2]}]\n",
      "{'foo': 123, 'bar': 'buz'}\n"
     ]
    }
   ],
   "execution_count": 65
  },
  {
   "metadata": {
    "ExecuteTime": {
     "end_time": "2025-01-20T11:41:41.853211Z",
     "start_time": "2025-01-20T11:41:41.849039Z"
    }
   },
   "cell_type": "code",
   "source": [
    "import pickle\n",
    "\n",
    "# 保存字典到 pickle 文件\n",
    "favorite_color = {\"lion\": \"yellow\", \"kitty\": \"red\"}\n",
    "pickle.dump(favorite_color, open(\"save.p\", \"wb\"))\n",
    "\n",
    "# 从 pickle 文件加载数据\n",
    "favorite_color = pickle.load(open(\"save.p\", \"rb\"))\n",
    "\n",
    "# 序列化对象为二进制字符串\n",
    "serialized = pickle.dumps(favorite_color)\n",
    "\n",
    "# 反序列化二进制字符串为对象\n",
    "deserialized = pickle.loads(serialized)"
   ],
   "id": "43b40512947e3f33",
   "outputs": [],
   "execution_count": 66
  }
 ],
 "metadata": {
  "kernelspec": {
   "display_name": "Python 3",
   "language": "python",
   "name": "python3"
  },
  "language_info": {
   "codemirror_mode": {
    "name": "ipython",
    "version": 2
   },
   "file_extension": ".py",
   "mimetype": "text/x-python",
   "name": "python",
   "nbconvert_exporter": "python",
   "pygments_lexer": "ipython2",
   "version": "2.7.6"
  }
 },
 "nbformat": 4,
 "nbformat_minor": 5
}
