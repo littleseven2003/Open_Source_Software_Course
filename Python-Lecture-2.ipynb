{
 "cells": [
  {
   "cell_type": "code",
   "id": "initial_id",
   "metadata": {
    "collapsed": true,
    "ExecuteTime": {
     "end_time": "2025-01-20T08:44:59.968695Z",
     "start_time": "2025-01-20T08:44:59.962128Z"
    }
   },
   "source": [
    "class Complex:\n",
    "    def __init__(self, realpart, imagpart):\n",
    "        self.r = realpart\n",
    "        self.i = imagpart\n",
    "\n",
    "x = Complex(3.0, -4.5)\n",
    "print(x.r, x.i)"
   ],
   "outputs": [
    {
     "name": "stdout",
     "output_type": "stream",
     "text": [
      "3.0 -4.5\n"
     ]
    }
   ],
   "execution_count": 1
  },
  {
   "metadata": {
    "ExecuteTime": {
     "end_time": "2025-01-20T08:46:19.938947Z",
     "start_time": "2025-01-20T08:46:19.934139Z"
    }
   },
   "cell_type": "code",
   "source": [
    "class MyClass:\n",
    "    i = 12345\n",
    "    def f(self):\n",
    "        return 'hello world'"
   ],
   "id": "90b016005c89b207",
   "outputs": [],
   "execution_count": 2
  },
  {
   "metadata": {
    "ExecuteTime": {
     "end_time": "2025-01-20T08:46:44.234115Z",
     "start_time": "2025-01-20T08:46:44.229966Z"
    }
   },
   "cell_type": "code",
   "source": [
    "class A:\n",
    "    def foo(self):\n",
    "        print(\"in A::foo\")\n",
    "\n",
    "class B(A):\n",
    "    pass\n",
    "\n",
    "b = B()\n",
    "b.foo()"
   ],
   "id": "de79d644cf00d23",
   "outputs": [
    {
     "name": "stdout",
     "output_type": "stream",
     "text": [
      "in A::foo\n"
     ]
    }
   ],
   "execution_count": 3
  },
  {
   "metadata": {
    "ExecuteTime": {
     "end_time": "2025-01-20T08:47:08.951453Z",
     "start_time": "2025-01-20T08:47:08.946013Z"
    }
   },
   "cell_type": "code",
   "source": [
    "class A:\n",
    "    def foo(self):\n",
    "        print(\"in A::foo\")\n",
    "\n",
    "class B(A):\n",
    "    def foo(self):\n",
    "        print(\"in B::foo\")\n",
    "\n",
    "b = B()\n",
    "b.foo()\n",
    "\n",
    "print(isinstance(b, B))\n",
    "print(isinstance(b, A))"
   ],
   "id": "ca8a305814a04a1d",
   "outputs": [
    {
     "name": "stdout",
     "output_type": "stream",
     "text": [
      "in B::foo\n",
      "True\n",
      "True\n"
     ]
    }
   ],
   "execution_count": 4
  },
  {
   "metadata": {
    "ExecuteTime": {
     "end_time": "2025-01-20T08:47:32.754857Z",
     "start_time": "2025-01-20T08:47:32.750885Z"
    }
   },
   "cell_type": "code",
   "source": [
    "class A:\n",
    "    def foo(self):\n",
    "        print(\"in A::foo\")\n",
    "\n",
    "    def bar(self):\n",
    "        print(\"in modified foo\")\n",
    "\n",
    "A.foo = A.bar\n",
    "\n",
    "a = A()\n",
    "a.foo()"
   ],
   "id": "9765e0747f3bd54e",
   "outputs": [
    {
     "name": "stdout",
     "output_type": "stream",
     "text": [
      "in modified foo\n"
     ]
    }
   ],
   "execution_count": 5
  },
  {
   "metadata": {
    "ExecuteTime": {
     "end_time": "2025-01-20T08:48:14.144495Z",
     "start_time": "2025-01-20T08:48:14.140992Z"
    }
   },
   "cell_type": "code",
   "source": [
    "inc = lambda x: x + 1\n",
    "add = lambda x, y: x + y\n",
    "\n",
    "print(inc(5))\n",
    "print(add(10, 20))"
   ],
   "id": "4cdab6bb01598f99",
   "outputs": [
    {
     "name": "stdout",
     "output_type": "stream",
     "text": [
      "6\n",
      "30\n"
     ]
    }
   ],
   "execution_count": 6
  },
  {
   "metadata": {
    "ExecuteTime": {
     "end_time": "2025-01-20T08:48:40.340658Z",
     "start_time": "2025-01-20T08:48:40.336285Z"
    }
   },
   "cell_type": "code",
   "source": [
    "def outer():\n",
    "    count = 0\n",
    "    def inner():\n",
    "        nonlocal count\n",
    "        count += 1\n",
    "        return count\n",
    "    return inner\n",
    "\n",
    "counter = outer()\n",
    "print(counter)\n",
    "print(counter())\n",
    "print(counter())"
   ],
   "id": "cb537d9148c50ae8",
   "outputs": [
    {
     "name": "stdout",
     "output_type": "stream",
     "text": [
      "<function outer.<locals>.inner at 0x000001885D21F6A0>\n",
      "1\n",
      "2\n"
     ]
    }
   ],
   "execution_count": 7
  },
  {
   "metadata": {
    "ExecuteTime": {
     "end_time": "2025-01-20T08:49:56.601913Z",
     "start_time": "2025-01-20T08:49:56.597889Z"
    }
   },
   "cell_type": "code",
   "source": [
    "from functools import partial\n",
    "\n",
    "def multiply(x, y):\n",
    "    return x * y\n",
    "\n",
    "double = partial(multiply, 2)\n",
    "triple = partial(multiply, 3)\n",
    "\n",
    "print(double(5))\n",
    "print(triple(20))"
   ],
   "id": "917c25f0c281d70a",
   "outputs": [
    {
     "name": "stdout",
     "output_type": "stream",
     "text": [
      "10\n",
      "60\n"
     ]
    }
   ],
   "execution_count": 8
  },
  {
   "metadata": {
    "ExecuteTime": {
     "end_time": "2025-01-20T08:50:32.527259Z",
     "start_time": "2025-01-20T08:50:32.522661Z"
    }
   },
   "cell_type": "code",
   "source": [
    "# 列表推导式：生成 0 到 9 的每个数字的两倍\n",
    "result1 = [i * 2 for i in range(10)]\n",
    "print(result1)"
   ],
   "id": "126f4d55841cf80e",
   "outputs": [
    {
     "name": "stdout",
     "output_type": "stream",
     "text": [
      "[0, 2, 4, 6, 8, 10, 12, 14, 16, 18]\n"
     ]
    }
   ],
   "execution_count": 9
  },
  {
   "metadata": {
    "ExecuteTime": {
     "end_time": "2025-01-20T08:50:38.453838Z",
     "start_time": "2025-01-20T08:50:38.449836Z"
    }
   },
   "cell_type": "code",
   "source": [
    "# 列表推导式：生成 0 到 9 中偶数的两倍\n",
    "result2 = [i * 2 for i in range(10) if i % 2 == 0]\n",
    "print(result2)"
   ],
   "id": "c5b0ad92f4a8a66",
   "outputs": [
    {
     "name": "stdout",
     "output_type": "stream",
     "text": [
      "[0, 4, 8, 12, 16]\n"
     ]
    }
   ],
   "execution_count": 10
  },
  {
   "metadata": {
    "ExecuteTime": {
     "end_time": "2025-01-20T08:50:43.983468Z",
     "start_time": "2025-01-20T08:50:43.979507Z"
    }
   },
   "cell_type": "code",
   "source": [
    "# 列表推导式：组合两个列表中的元素\n",
    "colours = [\"red\", \"green\", \"yellow\", \"blue\"]\n",
    "things = [\"house\", \"car\", \"tree\"]\n",
    "combined = [(x, y) for x in colours for y in things]\n",
    "print(combined)"
   ],
   "id": "a119e836fefd97e7",
   "outputs": [
    {
     "name": "stdout",
     "output_type": "stream",
     "text": [
      "[('red', 'house'), ('red', 'car'), ('red', 'tree'), ('green', 'house'), ('green', 'car'), ('green', 'tree'), ('yellow', 'house'), ('yellow', 'car'), ('yellow', 'tree'), ('blue', 'house'), ('blue', 'car'), ('blue', 'tree')]\n"
     ]
    }
   ],
   "execution_count": 11
  },
  {
   "metadata": {
    "ExecuteTime": {
     "end_time": "2025-01-20T08:51:12.735579Z",
     "start_time": "2025-01-20T08:51:12.729841Z"
    }
   },
   "cell_type": "code",
   "source": [
    "from functools import reduce\n",
    "\n",
    "# 使用 map 计算 0 到 9 的每个数字的平方\n",
    "map_result = map(lambda x: x ** 2, range(10))\n",
    "print(list(map_result))  # 转换为列表并打印\n",
    "\n",
    "# 使用 filter 筛选出平方后为偶数的数字\n",
    "filter_result = filter(lambda x: x % 2 == 0, map(lambda x: x ** 2, range(10)))\n",
    "print(list(filter_result))  # 转换为列表并打印\n",
    "\n",
    "# 使用 reduce 计算筛选后的数字之和\n",
    "reduce_result = reduce(lambda x, y: x + y, filter(lambda x: x % 2 == 0, map(lambda x: x ** 2, range(10))))\n",
    "print(reduce_result)  # 打印结果"
   ],
   "id": "6acd49bb84908477",
   "outputs": [
    {
     "name": "stdout",
     "output_type": "stream",
     "text": [
      "[0, 1, 4, 9, 16, 25, 36, 49, 64, 81]\n",
      "[0, 4, 16, 36, 64]\n",
      "120\n"
     ]
    }
   ],
   "execution_count": 12
  },
  {
   "metadata": {
    "ExecuteTime": {
     "end_time": "2025-01-20T08:52:04.581054Z",
     "start_time": "2025-01-20T08:52:04.577119Z"
    }
   },
   "cell_type": "code",
   "source": [
    "t = 12345, 54321, 'hello!'\n",
    "print(t[0])\n",
    "print(t)"
   ],
   "id": "248b8f33772449a5",
   "outputs": [
    {
     "name": "stdout",
     "output_type": "stream",
     "text": [
      "12345\n",
      "(12345, 54321, 'hello!')\n"
     ]
    }
   ],
   "execution_count": 13
  },
  {
   "metadata": {
    "ExecuteTime": {
     "end_time": "2025-01-20T08:52:13.590987Z",
     "start_time": "2025-01-20T08:52:13.587742Z"
    }
   },
   "cell_type": "code",
   "source": [
    "u = t, (1, 2, 3, 4, 5)\n",
    "print(u)"
   ],
   "id": "c0dd6d4ad6a84105",
   "outputs": [
    {
     "name": "stdout",
     "output_type": "stream",
     "text": [
      "((12345, 54321, 'hello!'), (1, 2, 3, 4, 5))\n"
     ]
    }
   ],
   "execution_count": 14
  },
  {
   "metadata": {
    "ExecuteTime": {
     "end_time": "2025-01-20T08:52:21.176389Z",
     "start_time": "2025-01-20T08:52:21.172216Z"
    }
   },
   "cell_type": "code",
   "source": [
    "v = ([1, 2, 3], [3, 2, 1])\n",
    "print(v)"
   ],
   "id": "526d6961423c9663",
   "outputs": [
    {
     "name": "stdout",
     "output_type": "stream",
     "text": [
      "([1, 2, 3], [3, 2, 1])\n"
     ]
    }
   ],
   "execution_count": 15
  },
  {
   "metadata": {
    "ExecuteTime": {
     "end_time": "2025-01-20T08:53:18.842341Z",
     "start_time": "2025-01-20T08:53:18.837734Z"
    }
   },
   "cell_type": "code",
   "source": [
    "empty = ()\n",
    "singleton = 'hello', # 这里尾部有逗号\n",
    "\n",
    "print(len(empty))\n",
    "print(len(singleton))\n",
    "print(singleton)"
   ],
   "id": "cf200a0ed66143b5",
   "outputs": [
    {
     "name": "stdout",
     "output_type": "stream",
     "text": [
      "0\n",
      "1\n",
      "('hello',)\n"
     ]
    }
   ],
   "execution_count": 16
  },
  {
   "metadata": {
    "ExecuteTime": {
     "end_time": "2025-01-20T08:54:28.998976Z",
     "start_time": "2025-01-20T08:54:28.987210Z"
    }
   },
   "cell_type": "code",
   "source": [
    "x, y, z = t\n",
    "x, y = y, x\n",
    "x = (1, 2, 3, [4, 5])\n",
    "x[3] += [6]\n",
    "print(x)"
   ],
   "id": "55942fbdca350e47",
   "outputs": [
    {
     "ename": "TypeError",
     "evalue": "'tuple' object does not support item assignment",
     "output_type": "error",
     "traceback": [
      "\u001B[1;31m---------------------------------------------------------------------------\u001B[0m",
      "\u001B[1;31mTypeError\u001B[0m                                 Traceback (most recent call last)",
      "Cell \u001B[1;32mIn[19], line 4\u001B[0m\n\u001B[0;32m      2\u001B[0m x, y \u001B[38;5;241m=\u001B[39m y, x\n\u001B[0;32m      3\u001B[0m x \u001B[38;5;241m=\u001B[39m (\u001B[38;5;241m1\u001B[39m, \u001B[38;5;241m2\u001B[39m, \u001B[38;5;241m3\u001B[39m, [\u001B[38;5;241m4\u001B[39m, \u001B[38;5;241m5\u001B[39m])\n\u001B[1;32m----> 4\u001B[0m \u001B[43mx\u001B[49m\u001B[43m[\u001B[49m\u001B[38;5;241;43m3\u001B[39;49m\u001B[43m]\u001B[49m \u001B[38;5;241m+\u001B[39m\u001B[38;5;241m=\u001B[39m [\u001B[38;5;241m6\u001B[39m]\n\u001B[0;32m      5\u001B[0m \u001B[38;5;28mprint\u001B[39m(x)\n",
      "\u001B[1;31mTypeError\u001B[0m: 'tuple' object does not support item assignment"
     ]
    }
   ],
   "execution_count": 19
  },
  {
   "metadata": {
    "ExecuteTime": {
     "end_time": "2025-01-20T08:55:00.148316Z",
     "start_time": "2025-01-20T08:55:00.143493Z"
    }
   },
   "cell_type": "code",
   "source": [
    "tel = {'jack': 4098, 'sape': 4139}\n",
    "tel['guido'] = 4127\n",
    "print(tel)  # 输出字典内容\n",
    "\n",
    "print(tel['jack'])  # 输出 jack 的电话号码\n",
    "\n",
    "del tel['sape']  # 删除 sape 的条目\n",
    "tel['irv'] = 4127  # 添加 irv 的条目\n",
    "print(tel)  # 输出更新后的字典内容\n",
    "\n",
    "print(list(tel.keys()))  # 输出字典的键列表\n",
    "print(sorted(tel.keys()))  # 输出排序后的键列表\n",
    "\n",
    "print('guido' in tel)  # 检查 guido 是否在字典中\n",
    "print('jack' not in tel)  # 检查 jack 是否不在字典中"
   ],
   "id": "816ae89e3566ca27",
   "outputs": [
    {
     "name": "stdout",
     "output_type": "stream",
     "text": [
      "{'jack': 4098, 'sape': 4139, 'guido': 4127}\n",
      "4098\n",
      "{'jack': 4098, 'guido': 4127, 'irv': 4127}\n",
      "['jack', 'guido', 'irv']\n",
      "['guido', 'irv', 'jack']\n",
      "True\n",
      "False\n"
     ]
    }
   ],
   "execution_count": 20
  },
  {
   "metadata": {
    "ExecuteTime": {
     "end_time": "2025-01-20T08:55:46.561214Z",
     "start_time": "2025-01-20T08:55:46.555411Z"
    }
   },
   "cell_type": "code",
   "source": [
    "dict([\n",
    "    ('sape', 4139),\n",
    "    ('guido', 4127),\n",
    "    ('jack', 4098)\n",
    "])"
   ],
   "id": "12fff1b54f4fb0da",
   "outputs": [
    {
     "data": {
      "text/plain": [
       "{'sape': 4139, 'guido': 4127, 'jack': 4098}"
      ]
     },
     "execution_count": 21,
     "metadata": {},
     "output_type": "execute_result"
    }
   ],
   "execution_count": 21
  },
  {
   "metadata": {
    "ExecuteTime": {
     "end_time": "2025-01-20T08:55:54.669324Z",
     "start_time": "2025-01-20T08:55:54.664247Z"
    }
   },
   "cell_type": "code",
   "source": "{x: x**2 for x in (2, 4, 6)}",
   "id": "2527e07b6a5a1d0f",
   "outputs": [
    {
     "data": {
      "text/plain": [
       "{2: 4, 4: 16, 6: 36}"
      ]
     },
     "execution_count": 22,
     "metadata": {},
     "output_type": "execute_result"
    }
   ],
   "execution_count": 22
  },
  {
   "metadata": {
    "ExecuteTime": {
     "end_time": "2025-01-20T08:56:06.072729Z",
     "start_time": "2025-01-20T08:56:06.068212Z"
    }
   },
   "cell_type": "code",
   "source": "dict(sape=4139, guido=4127, jack=4098)",
   "id": "3c612abd354f4225",
   "outputs": [
    {
     "data": {
      "text/plain": [
       "{'sape': 4139, 'guido': 4127, 'jack': 4098}"
      ]
     },
     "execution_count": 23,
     "metadata": {},
     "output_type": "execute_result"
    }
   ],
   "execution_count": 23
  },
  {
   "metadata": {
    "ExecuteTime": {
     "end_time": "2025-01-20T08:56:37.006400Z",
     "start_time": "2025-01-20T08:56:37.002089Z"
    }
   },
   "cell_type": "code",
   "source": [
    "basket = {'apple', 'orange', 'apple', 'pear', 'orange', 'banana'}\n",
    "print(basket)  # 显示重复项已被移除\n",
    "\n",
    "print('orange' in basket)  # 快速成员测试\n",
    "print('crabgrass' in basket)"
   ],
   "id": "7481dc928630bcc3",
   "outputs": [
    {
     "name": "stdout",
     "output_type": "stream",
     "text": [
      "{'apple', 'banana', 'pear', 'orange'}\n",
      "True\n",
      "False\n"
     ]
    }
   ],
   "execution_count": 24
  },
  {
   "metadata": {
    "ExecuteTime": {
     "end_time": "2025-01-20T08:56:58.863060Z",
     "start_time": "2025-01-20T08:56:58.859218Z"
    }
   },
   "cell_type": "code",
   "source": [
    "a = set('abracadabra')\n",
    "b = set('alacazam')\n",
    "\n",
    "print(a)  # 独特的字母集合 a\n",
    "print(a - b)  # 在 a 中但不在 b 中的字母\n",
    "print(a | b)  # 在 a 或 b 或两者中的字母\n",
    "print(a & b)  # 在 a 和 b 中都有的字母\n",
    "print(a ^ b)  # 在 a 或 b 中但不在两者中的字母"
   ],
   "id": "d4d78bc60b0c34d6",
   "outputs": [
    {
     "name": "stdout",
     "output_type": "stream",
     "text": [
      "{'c', 'd', 'b', 'r', 'a'}\n",
      "{'d', 'b', 'r'}\n",
      "{'m', 'z', 'c', 'd', 'b', 'l', 'r', 'a'}\n",
      "{'c', 'a'}\n",
      "{'d', 'b', 'l', 'm', 'z', 'r'}\n"
     ]
    }
   ],
   "execution_count": 25
  },
  {
   "metadata": {
    "ExecuteTime": {
     "end_time": "2025-01-20T08:57:36.997268Z",
     "start_time": "2025-01-20T08:57:36.993809Z"
    }
   },
   "cell_type": "code",
   "source": [
    "a = {x for x in 'abracadabra' if x not in 'abc'}\n",
    "a"
   ],
   "id": "fa03ae5a50103c6b",
   "outputs": [
    {
     "data": {
      "text/plain": [
       "{'d', 'r'}"
      ]
     },
     "execution_count": 28,
     "metadata": {},
     "output_type": "execute_result"
    }
   ],
   "execution_count": 28
  }
 ],
 "metadata": {
  "kernelspec": {
   "display_name": "Python 3",
   "language": "python",
   "name": "python3"
  },
  "language_info": {
   "codemirror_mode": {
    "name": "ipython",
    "version": 2
   },
   "file_extension": ".py",
   "mimetype": "text/x-python",
   "name": "python",
   "nbconvert_exporter": "python",
   "pygments_lexer": "ipython2",
   "version": "2.7.6"
  }
 },
 "nbformat": 4,
 "nbformat_minor": 5
}
