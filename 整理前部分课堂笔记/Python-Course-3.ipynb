{
 "cells": [
  {
   "cell_type": "code",
   "execution_count": 1,
   "id": "20935b03-4251-447f-9853-201f1a1b29f4",
   "metadata": {},
   "outputs": [],
   "source": [
    "# pip install lolviz"
   ]
  },
  {
   "cell_type": "code",
   "execution_count": null,
   "id": "555a818e-e270-4391-a260-ab9fc57f7b85",
   "metadata": {},
   "outputs": [],
   "source": []
  },
  {
   "cell_type": "code",
   "execution_count": 15,
   "id": "3f354ce2-65c5-45a3-835a-fd1094bced24",
   "metadata": {},
   "outputs": [],
   "source": [
    "from functools import reduce"
   ]
  },
  {
   "cell_type": "code",
   "execution_count": 38,
   "id": "4421684b-587d-42da-8421-2fd30500eaa4",
   "metadata": {},
   "outputs": [],
   "source": [
    "mapped = map(lambda x:x**2, range(10))"
   ]
  },
  {
   "cell_type": "code",
   "execution_count": 39,
   "id": "12411e96-2c8c-4d6c-a529-613027b6a9b8",
   "metadata": {},
   "outputs": [],
   "source": [
    "list_mapped = list(mapped)"
   ]
  },
  {
   "cell_type": "code",
   "execution_count": 24,
   "id": "56d90bd0-3730-4f8c-95ec-6c067cacd1a5",
   "metadata": {},
   "outputs": [
    {
     "data": {
      "text/plain": [
       "[0, 1, 4, 9, 16, 25, 36, 49, 64, 81]"
      ]
     },
     "execution_count": 24,
     "metadata": {},
     "output_type": "execute_result"
    }
   ],
   "source": [
    "list_mapped"
   ]
  },
  {
   "cell_type": "code",
   "execution_count": 44,
   "id": "9f91c678-ff78-4216-8b1e-151f8774d3a3",
   "metadata": {},
   "outputs": [],
   "source": [
    "def less_than_20(x) :\n",
    "    return x < 20"
   ]
  },
  {
   "cell_type": "code",
   "execution_count": 48,
   "id": "2655b585-ea52-4820-ad9a-6d7c3955323d",
   "metadata": {},
   "outputs": [],
   "source": [
    "mapped = map(lambda x:x**2, range(10))"
   ]
  },
  {
   "cell_type": "code",
   "execution_count": 49,
   "id": "368ab6e1-e43c-4d29-b5eb-81110dc3b264",
   "metadata": {},
   "outputs": [],
   "source": [
    "filtered = filter(less_than_20, mapped)"
   ]
  },
  {
   "cell_type": "code",
   "execution_count": 47,
   "id": "695d9e35-3eee-4b7d-967c-bbdcdd449628",
   "metadata": {},
   "outputs": [
    {
     "data": {
      "text/plain": [
       "[0, 1, 4, 9, 16]"
      ]
     },
     "execution_count": 47,
     "metadata": {},
     "output_type": "execute_result"
    }
   ],
   "source": [
    "list(filtered)"
   ]
  },
  {
   "cell_type": "code",
   "execution_count": 51,
   "id": "3555c70a-6ed0-426a-86fb-ce45738b6792",
   "metadata": {},
   "outputs": [],
   "source": [
    "reduced = reduce(lambda x, y: x + y, filtered)"
   ]
  },
  {
   "cell_type": "code",
   "execution_count": 54,
   "id": "27654fc5-75de-4861-951f-e1e11ea3380b",
   "metadata": {},
   "outputs": [
    {
     "data": {
      "text/plain": [
       "30"
      ]
     },
     "execution_count": 54,
     "metadata": {},
     "output_type": "execute_result"
    }
   ],
   "source": [
    "reduced"
   ]
  },
  {
   "cell_type": "code",
   "execution_count": 55,
   "id": "4413d4c6-3536-410e-9974-f56da8333dbc",
   "metadata": {},
   "outputs": [
    {
     "data": {
      "text/plain": [
       "1"
      ]
     },
     "execution_count": 55,
     "metadata": {},
     "output_type": "execute_result"
    }
   ],
   "source": [
    "(1)"
   ]
  },
  {
   "cell_type": "code",
   "execution_count": 56,
   "id": "4635b05b-e679-4167-9dbc-1e80597a722d",
   "metadata": {},
   "outputs": [
    {
     "data": {
      "text/plain": [
       "int"
      ]
     },
     "execution_count": 56,
     "metadata": {},
     "output_type": "execute_result"
    }
   ],
   "source": [
    "type((1))"
   ]
  },
  {
   "cell_type": "code",
   "execution_count": 57,
   "id": "3b31db09-c7ae-46cb-8f76-4e6adc81c4b2",
   "metadata": {},
   "outputs": [
    {
     "data": {
      "text/plain": [
       "(1,)"
      ]
     },
     "execution_count": 57,
     "metadata": {},
     "output_type": "execute_result"
    }
   ],
   "source": [
    "(1, )"
   ]
  },
  {
   "cell_type": "code",
   "execution_count": 58,
   "id": "e8eaece4-cf0c-42de-aa4d-017b01e88757",
   "metadata": {},
   "outputs": [
    {
     "data": {
      "text/plain": [
       "tuple"
      ]
     },
     "execution_count": 58,
     "metadata": {},
     "output_type": "execute_result"
    }
   ],
   "source": [
    "type((1, ))"
   ]
  },
  {
   "cell_type": "code",
   "execution_count": 59,
   "id": "b3a89ecf-c5ea-4ddd-a795-e95011904136",
   "metadata": {},
   "outputs": [],
   "source": [
    "a = (1, 2, 3)"
   ]
  },
  {
   "cell_type": "code",
   "execution_count": 60,
   "id": "e7aa2333-ebc3-420b-937f-bb7faf99f8ed",
   "metadata": {},
   "outputs": [
    {
     "data": {
      "text/plain": [
       "2"
      ]
     },
     "execution_count": 60,
     "metadata": {},
     "output_type": "execute_result"
    }
   ],
   "source": [
    "a[1]\n"
   ]
  },
  {
   "cell_type": "code",
   "execution_count": 61,
   "id": "fa4d7d97-be46-4611-afa0-067158624247",
   "metadata": {},
   "outputs": [
    {
     "data": {
      "text/plain": [
       "(1, 2)"
      ]
     },
     "execution_count": 61,
     "metadata": {},
     "output_type": "execute_result"
    }
   ],
   "source": [
    "a[0:2]"
   ]
  },
  {
   "cell_type": "code",
   "execution_count": 62,
   "id": "d94eb75c-a82d-4f90-b026-b74b3ff1b1a1",
   "metadata": {},
   "outputs": [
    {
     "data": {
      "text/plain": [
       "3"
      ]
     },
     "execution_count": 62,
     "metadata": {},
     "output_type": "execute_result"
    }
   ],
   "source": [
    "a[-1]"
   ]
  },
  {
   "cell_type": "code",
   "execution_count": 63,
   "id": "81fdca7e-6857-418d-88d2-62179be56a52",
   "metadata": {},
   "outputs": [],
   "source": [
    "b = (1, 2, \"hello\")"
   ]
  },
  {
   "cell_type": "code",
   "execution_count": 64,
   "id": "25251a3a-6e2e-4531-8395-cbe7547ac27e",
   "metadata": {},
   "outputs": [],
   "source": [
    "b = (1, 2, \"hello\", [1, 2, 3])"
   ]
  },
  {
   "cell_type": "code",
   "execution_count": 65,
   "id": "b931f2aa-cb6e-462b-a0fd-0064ea983d25",
   "metadata": {},
   "outputs": [
    {
     "data": {
      "text/plain": [
       "(2, 'hello', [1, 2, 3])"
      ]
     },
     "execution_count": 65,
     "metadata": {},
     "output_type": "execute_result"
    }
   ],
   "source": [
    "b[1:5]"
   ]
  },
  {
   "cell_type": "code",
   "execution_count": 66,
   "id": "178056b1-f374-48b4-8232-c88c86b300b0",
   "metadata": {},
   "outputs": [],
   "source": [
    "b[-1].append(4)"
   ]
  },
  {
   "cell_type": "code",
   "execution_count": 67,
   "id": "b3085f81-50ad-467d-b3a6-96cb0d3758ba",
   "metadata": {},
   "outputs": [
    {
     "data": {
      "text/plain": [
       "(1, 2, 'hello', [1, 2, 3, 4])"
      ]
     },
     "execution_count": 67,
     "metadata": {},
     "output_type": "execute_result"
    }
   ],
   "source": [
    "b"
   ]
  },
  {
   "cell_type": "code",
   "execution_count": 68,
   "id": "e756bb12-057a-4af1-86e9-ae511880ff97",
   "metadata": {},
   "outputs": [
    {
     "ename": "TypeError",
     "evalue": "'tuple' object does not support item assignment",
     "output_type": "error",
     "traceback": [
      "\u001b[1;31m---------------------------------------------------------------------------\u001b[0m",
      "\u001b[1;31mTypeError\u001b[0m                                 Traceback (most recent call last)",
      "Cell \u001b[1;32mIn[68], line 1\u001b[0m\n\u001b[1;32m----> 1\u001b[0m \u001b[43mb\u001b[49m\u001b[43m[\u001b[49m\u001b[38;5;241;43m-\u001b[39;49m\u001b[38;5;241;43m1\u001b[39;49m\u001b[43m]\u001b[49m \u001b[38;5;241m+\u001b[39m\u001b[38;5;241m=\u001b[39m [\u001b[38;5;241m5\u001b[39m]\n",
      "\u001b[1;31mTypeError\u001b[0m: 'tuple' object does not support item assignment"
     ]
    }
   ],
   "source": [
    "b[-1] += [5]"
   ]
  },
  {
   "cell_type": "code",
   "execution_count": 69,
   "id": "6fde102d-c566-4272-accc-092c9e797566",
   "metadata": {},
   "outputs": [
    {
     "data": {
      "text/plain": [
       "(1, 2, 'hello', [1, 2, 3, 4, 5])"
      ]
     },
     "execution_count": 69,
     "metadata": {},
     "output_type": "execute_result"
    }
   ],
   "source": [
    "b"
   ]
  },
  {
   "cell_type": "code",
   "execution_count": 70,
   "id": "04c06c42-86cb-4145-82b5-9d342d703267",
   "metadata": {},
   "outputs": [],
   "source": [
    "c = 1\n",
    "d = 2"
   ]
  },
  {
   "cell_type": "code",
   "execution_count": 71,
   "id": "345b744c-bcd4-43e6-a50e-393e31bef3b3",
   "metadata": {},
   "outputs": [],
   "source": [
    "c, d = d, c"
   ]
  },
  {
   "cell_type": "code",
   "execution_count": 72,
   "id": "954ead0b-b1f1-48b3-8478-ca484a24cfc3",
   "metadata": {},
   "outputs": [
    {
     "name": "stdout",
     "output_type": "stream",
     "text": [
      "2 1\n"
     ]
    }
   ],
   "source": [
    "print(c, d)"
   ]
  },
  {
   "cell_type": "code",
   "execution_count": 73,
   "id": "9ac18c25-49f6-46d2-b168-902e0f5e6cf4",
   "metadata": {},
   "outputs": [],
   "source": [
    "def foo () :\n",
    "    return 1, 2"
   ]
  },
  {
   "cell_type": "code",
   "execution_count": 74,
   "id": "b4a7bb84-1812-4a22-bbe4-372c96cef4db",
   "metadata": {},
   "outputs": [],
   "source": [
    "e, f = foo()"
   ]
  },
  {
   "cell_type": "code",
   "execution_count": 75,
   "id": "07980f3e-9f43-440c-b56d-04058a188437",
   "metadata": {},
   "outputs": [
    {
     "name": "stdout",
     "output_type": "stream",
     "text": [
      "1 2\n"
     ]
    }
   ],
   "source": [
    "print(e, f)"
   ]
  },
  {
   "cell_type": "code",
   "execution_count": 76,
   "id": "b1356014-ec08-4ffc-9689-58318458e15a",
   "metadata": {},
   "outputs": [],
   "source": [
    "empty2 = dict()"
   ]
  },
  {
   "cell_type": "code",
   "execution_count": 77,
   "id": "3d055c17-2bce-4466-b29a-7f7234d17f50",
   "metadata": {},
   "outputs": [
    {
     "data": {
      "text/plain": [
       "{}"
      ]
     },
     "execution_count": 77,
     "metadata": {},
     "output_type": "execute_result"
    }
   ],
   "source": [
    "empty2"
   ]
  },
  {
   "cell_type": "code",
   "execution_count": 78,
   "id": "b4bc8421-1c32-43f1-8cda-8471ad7b03e0",
   "metadata": {},
   "outputs": [],
   "source": [
    "d = {1:2, \"hello\":\"world\", (3, 4):[5, 6]}"
   ]
  },
  {
   "cell_type": "code",
   "execution_count": 79,
   "id": "b14d2b08-3e1a-43a4-bc76-aa58147bc421",
   "metadata": {},
   "outputs": [],
   "source": [
    "d[5] = 10"
   ]
  },
  {
   "cell_type": "code",
   "execution_count": 80,
   "id": "885e5afc-29f6-484e-8443-bb73be610da5",
   "metadata": {},
   "outputs": [],
   "source": [
    "d[(1, 2)]=20"
   ]
  },
  {
   "cell_type": "code",
   "execution_count": 81,
   "id": "afda0586-1615-4d7c-ba3e-370ab5c7d97f",
   "metadata": {},
   "outputs": [
    {
     "data": {
      "text/plain": [
       "{1: 2, 'hello': 'world', (3, 4): [5, 6], 5: 10, (1, 2): 20}"
      ]
     },
     "execution_count": 81,
     "metadata": {},
     "output_type": "execute_result"
    }
   ],
   "source": [
    "d"
   ]
  },
  {
   "cell_type": "code",
   "execution_count": 85,
   "id": "c3a303a0-d3c1-412b-a5f3-0835163eff2a",
   "metadata": {},
   "outputs": [],
   "source": [
    "import lolviz"
   ]
  },
  {
   "cell_type": "code",
   "execution_count": 89,
   "id": "ae258d59-7a35-4b4e-b7a1-147947c20170",
   "metadata": {},
   "outputs": [
    {
     "data": {
      "text/plain": [
       "{1: 2, 'hello': 'world', (12,): 45}"
      ]
     },
     "execution_count": 89,
     "metadata": {},
     "output_type": "execute_result"
    }
   ],
   "source": [
    "dict([\n",
    "    (1, 2),\n",
    "    (\"hello\", \"world\"),\n",
    "    ((12,), 45),\n",
    "    \n",
    "])"
   ]
  },
  {
   "cell_type": "code",
   "execution_count": null,
   "id": "8d660963-01f3-4e45-b1b3-636524f78326",
   "metadata": {},
   "outputs": [],
   "source": []
  },
  {
   "cell_type": "code",
   "execution_count": null,
   "id": "a2c41eeb-d5db-496a-bfe9-1c5707b0ab92",
   "metadata": {},
   "outputs": [],
   "source": []
  },
  {
   "cell_type": "code",
   "execution_count": null,
   "id": "f0440155-9ee8-41d0-9e2a-37a6e80fb95b",
   "metadata": {},
   "outputs": [],
   "source": []
  },
  {
   "cell_type": "code",
   "execution_count": null,
   "id": "522fca1d-76ab-43f2-979c-8af30762b9ec",
   "metadata": {},
   "outputs": [],
   "source": []
  },
  {
   "cell_type": "code",
   "execution_count": null,
   "id": "7265f55b-3dd9-4d26-b06f-82289f082993",
   "metadata": {},
   "outputs": [],
   "source": []
  },
  {
   "cell_type": "code",
   "execution_count": null,
   "id": "97a4d2e5-03da-4c55-a16c-1e79700f6bf5",
   "metadata": {},
   "outputs": [],
   "source": []
  },
  {
   "cell_type": "code",
   "execution_count": null,
   "id": "07605d83-177c-4b5d-8f5f-b99bfc97319b",
   "metadata": {},
   "outputs": [],
   "source": []
  },
  {
   "cell_type": "code",
   "execution_count": null,
   "id": "a24f8208-a61f-4e9b-b48b-1f0d88f20e4f",
   "metadata": {},
   "outputs": [],
   "source": []
  }
 ],
 "metadata": {
  "kernelspec": {
   "display_name": "Python 3 (ipykernel)",
   "language": "python",
   "name": "python3"
  },
  "language_info": {
   "codemirror_mode": {
    "name": "ipython",
    "version": 3
   },
   "file_extension": ".py",
   "mimetype": "text/x-python",
   "name": "python",
   "nbconvert_exporter": "python",
   "pygments_lexer": "ipython3",
   "version": "3.11.10"
  }
 },
 "nbformat": 4,
 "nbformat_minor": 5
}
