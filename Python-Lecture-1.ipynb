{
 "cells": [
  {
   "cell_type": "code",
   "id": "initial_id",
   "metadata": {
    "collapsed": true,
    "ExecuteTime": {
     "end_time": "2025-01-20T03:47:36.289689Z",
     "start_time": "2025-01-20T03:47:36.285686Z"
    }
   },
   "source": [
    "from sys import prefix\n",
    "\n",
    "# 第一个Python程序\n",
    "print(\"Hello world\")\n",
    "print(1+2)"
   ],
   "outputs": [
    {
     "name": "stdout",
     "output_type": "stream",
     "text": [
      "Hello world\n",
      "3\n"
     ]
    }
   ],
   "execution_count": 4
  },
  {
   "metadata": {},
   "cell_type": "markdown",
   "source": "",
   "id": "b539fefa64736275"
  },
  {
   "metadata": {
    "ExecuteTime": {
     "end_time": "2025-01-20T03:51:08.599987Z",
     "start_time": "2025-01-20T03:51:08.596069Z"
    }
   },
   "cell_type": "code",
   "source": "2 + 2",
   "id": "aa0844a4009f397c",
   "outputs": [
    {
     "data": {
      "text/plain": [
       "4"
      ]
     },
     "execution_count": 14,
     "metadata": {},
     "output_type": "execute_result"
    }
   ],
   "execution_count": 14
  },
  {
   "metadata": {
    "ExecuteTime": {
     "end_time": "2025-01-20T03:51:13.752343Z",
     "start_time": "2025-01-20T03:51:13.747705Z"
    }
   },
   "cell_type": "code",
   "source": "50 - 5 * 6",
   "id": "a5fb111cc857f42d",
   "outputs": [
    {
     "data": {
      "text/plain": [
       "20"
      ]
     },
     "execution_count": 15,
     "metadata": {},
     "output_type": "execute_result"
    }
   ],
   "execution_count": 15
  },
  {
   "metadata": {
    "ExecuteTime": {
     "end_time": "2025-01-20T03:51:22.230243Z",
     "start_time": "2025-01-20T03:51:22.225393Z"
    }
   },
   "cell_type": "code",
   "source": "(50 - 5 * 6) / 4",
   "id": "fa4bc4535c69acf6",
   "outputs": [
    {
     "data": {
      "text/plain": [
       "5.0"
      ]
     },
     "execution_count": 16,
     "metadata": {},
     "output_type": "execute_result"
    }
   ],
   "execution_count": 16
  },
  {
   "metadata": {
    "ExecuteTime": {
     "end_time": "2025-01-20T03:51:28.055306Z",
     "start_time": "2025-01-20T03:51:28.050941Z"
    }
   },
   "cell_type": "code",
   "source": "8 / 5",
   "id": "d428596136796469",
   "outputs": [
    {
     "data": {
      "text/plain": [
       "1.6"
      ]
     },
     "execution_count": 17,
     "metadata": {},
     "output_type": "execute_result"
    }
   ],
   "execution_count": 17
  },
  {
   "metadata": {
    "ExecuteTime": {
     "end_time": "2025-01-20T03:51:43.543524Z",
     "start_time": "2025-01-20T03:51:43.539168Z"
    }
   },
   "cell_type": "code",
   "source": "17 / 3",
   "id": "a3902a023765a316",
   "outputs": [
    {
     "data": {
      "text/plain": [
       "5.666666666666667"
      ]
     },
     "execution_count": 18,
     "metadata": {},
     "output_type": "execute_result"
    }
   ],
   "execution_count": 18
  },
  {
   "metadata": {
    "ExecuteTime": {
     "end_time": "2025-01-20T03:51:51.633639Z",
     "start_time": "2025-01-20T03:51:51.629563Z"
    }
   },
   "cell_type": "code",
   "source": "17 // 3",
   "id": "872a65370003614a",
   "outputs": [
    {
     "data": {
      "text/plain": [
       "5"
      ]
     },
     "execution_count": 19,
     "metadata": {},
     "output_type": "execute_result"
    }
   ],
   "execution_count": 19
  },
  {
   "metadata": {
    "ExecuteTime": {
     "end_time": "2025-01-20T03:51:57.941936Z",
     "start_time": "2025-01-20T03:51:57.937087Z"
    }
   },
   "cell_type": "code",
   "source": "17 % 3",
   "id": "a00246e25a04fe03",
   "outputs": [
    {
     "data": {
      "text/plain": [
       "2"
      ]
     },
     "execution_count": 20,
     "metadata": {},
     "output_type": "execute_result"
    }
   ],
   "execution_count": 20
  },
  {
   "metadata": {
    "ExecuteTime": {
     "end_time": "2025-01-20T03:52:07.972083Z",
     "start_time": "2025-01-20T03:52:07.968740Z"
    }
   },
   "cell_type": "code",
   "source": "5 * 3 + 2",
   "id": "863d62c35638ebd6",
   "outputs": [
    {
     "data": {
      "text/plain": [
       "17"
      ]
     },
     "execution_count": 21,
     "metadata": {},
     "output_type": "execute_result"
    }
   ],
   "execution_count": 21
  },
  {
   "metadata": {
    "ExecuteTime": {
     "end_time": "2025-01-20T03:52:38.087195Z",
     "start_time": "2025-01-20T03:52:38.083671Z"
    }
   },
   "cell_type": "code",
   "source": "5 ** 2",
   "id": "9032e9bcc60cea6",
   "outputs": [
    {
     "data": {
      "text/plain": [
       "25"
      ]
     },
     "execution_count": 22,
     "metadata": {},
     "output_type": "execute_result"
    }
   ],
   "execution_count": 22
  },
  {
   "metadata": {
    "ExecuteTime": {
     "end_time": "2025-01-20T03:52:47.756758Z",
     "start_time": "2025-01-20T03:52:47.752307Z"
    }
   },
   "cell_type": "code",
   "source": "2 ** 7",
   "id": "e060811b38514b48",
   "outputs": [
    {
     "data": {
      "text/plain": [
       "128"
      ]
     },
     "execution_count": 23,
     "metadata": {},
     "output_type": "execute_result"
    }
   ],
   "execution_count": 23
  },
  {
   "metadata": {
    "ExecuteTime": {
     "end_time": "2025-01-20T03:53:20.329238Z",
     "start_time": "2025-01-20T03:53:20.324180Z"
    }
   },
   "cell_type": "code",
   "source": [
    "width=20\n",
    "height=5*9\n",
    "width*height"
   ],
   "id": "d50d0ace89c4128f",
   "outputs": [
    {
     "data": {
      "text/plain": [
       "900"
      ]
     },
     "execution_count": 25,
     "metadata": {},
     "output_type": "execute_result"
    }
   ],
   "execution_count": 25
  },
  {
   "metadata": {
    "ExecuteTime": {
     "end_time": "2025-01-20T03:53:29.625984Z",
     "start_time": "2025-01-20T03:53:29.411887Z"
    }
   },
   "cell_type": "code",
   "source": "n",
   "id": "3a012941303d195a",
   "outputs": [
    {
     "ename": "NameError",
     "evalue": "name 'n' is not defined",
     "output_type": "error",
     "traceback": [
      "\u001B[1;31m---------------------------------------------------------------------------\u001B[0m",
      "\u001B[1;31mNameError\u001B[0m                                 Traceback (most recent call last)",
      "Cell \u001B[1;32mIn[26], line 1\u001B[0m\n\u001B[1;32m----> 1\u001B[0m \u001B[43mn\u001B[49m\n",
      "\u001B[1;31mNameError\u001B[0m: name 'n' is not defined"
     ]
    }
   ],
   "execution_count": 26
  },
  {
   "metadata": {
    "ExecuteTime": {
     "end_time": "2025-01-20T03:53:43.246158Z",
     "start_time": "2025-01-20T03:53:43.241010Z"
    }
   },
   "cell_type": "code",
   "source": "4 * 3.75 - 1",
   "id": "b8001eb312b08458",
   "outputs": [
    {
     "data": {
      "text/plain": [
       "14.0"
      ]
     },
     "execution_count": 27,
     "metadata": {},
     "output_type": "execute_result"
    }
   ],
   "execution_count": 27
  },
  {
   "metadata": {
    "ExecuteTime": {
     "end_time": "2025-01-20T03:54:26.671677Z",
     "start_time": "2025-01-20T03:54:26.666680Z"
    }
   },
   "cell_type": "code",
   "source": [
    "tax = 12.5 / 100\n",
    "price = 100.50\n",
    "price * tax"
   ],
   "id": "228fd157cd02f532",
   "outputs": [
    {
     "data": {
      "text/plain": [
       "12.5625"
      ]
     },
     "execution_count": 28,
     "metadata": {},
     "output_type": "execute_result"
    }
   ],
   "execution_count": 28
  },
  {
   "metadata": {
    "ExecuteTime": {
     "end_time": "2025-01-20T03:54:36.356822Z",
     "start_time": "2025-01-20T03:54:36.352377Z"
    }
   },
   "cell_type": "code",
   "source": "price + _",
   "id": "bec39fbe0b3e26ee",
   "outputs": [
    {
     "data": {
      "text/plain": [
       "113.0625"
      ]
     },
     "execution_count": 29,
     "metadata": {},
     "output_type": "execute_result"
    }
   ],
   "execution_count": 29
  },
  {
   "metadata": {
    "ExecuteTime": {
     "end_time": "2025-01-20T03:54:47.255114Z",
     "start_time": "2025-01-20T03:54:47.250955Z"
    }
   },
   "cell_type": "code",
   "source": "round(_, 2)",
   "id": "c0c4b3decffbfb5a",
   "outputs": [
    {
     "data": {
      "text/plain": [
       "113.06"
      ]
     },
     "execution_count": 30,
     "metadata": {},
     "output_type": "execute_result"
    }
   ],
   "execution_count": 30
  },
  {
   "metadata": {
    "ExecuteTime": {
     "end_time": "2025-01-20T03:57:59.880033Z",
     "start_time": "2025-01-20T03:57:59.875653Z"
    }
   },
   "cell_type": "code",
   "source": "'spam eggs'",
   "id": "43b8043d282d2566",
   "outputs": [
    {
     "data": {
      "text/plain": [
       "'spam eggs'"
      ]
     },
     "execution_count": 35,
     "metadata": {},
     "output_type": "execute_result"
    }
   ],
   "execution_count": 35
  },
  {
   "metadata": {
    "ExecuteTime": {
     "end_time": "2025-01-20T03:58:05.125806Z",
     "start_time": "2025-01-20T03:58:05.122111Z"
    }
   },
   "cell_type": "code",
   "source": "'doesn\\'t'",
   "id": "3cc88af368faafce",
   "outputs": [
    {
     "data": {
      "text/plain": [
       "\"doesn't\""
      ]
     },
     "execution_count": 36,
     "metadata": {},
     "output_type": "execute_result"
    }
   ],
   "execution_count": 36
  },
  {
   "metadata": {
    "ExecuteTime": {
     "end_time": "2025-01-20T03:58:17.604563Z",
     "start_time": "2025-01-20T03:58:17.601291Z"
    }
   },
   "cell_type": "code",
   "source": "\"doesn’t\"",
   "id": "89f323e43549fce6",
   "outputs": [
    {
     "data": {
      "text/plain": [
       "'doesn’t'"
      ]
     },
     "execution_count": 37,
     "metadata": {},
     "output_type": "execute_result"
    }
   ],
   "execution_count": 37
  },
  {
   "metadata": {
    "ExecuteTime": {
     "end_time": "2025-01-20T03:58:35.157540Z",
     "start_time": "2025-01-20T03:58:35.152562Z"
    }
   },
   "cell_type": "code",
   "source": "'\"Yes,\" he said.'",
   "id": "a77d9e877eb79619",
   "outputs": [
    {
     "data": {
      "text/plain": [
       "'\"Yes,\" he said.'"
      ]
     },
     "execution_count": 39,
     "metadata": {},
     "output_type": "execute_result"
    }
   ],
   "execution_count": 39
  },
  {
   "metadata": {
    "ExecuteTime": {
     "end_time": "2025-01-20T03:58:47.724903Z",
     "start_time": "2025-01-20T03:58:47.719612Z"
    }
   },
   "cell_type": "code",
   "source": " \"\\\"Yes,\\\" he said.\"",
   "id": "8848e14cd559cdbe",
   "outputs": [
    {
     "data": {
      "text/plain": [
       "'\"Yes,\" he said.'"
      ]
     },
     "execution_count": 40,
     "metadata": {},
     "output_type": "execute_result"
    }
   ],
   "execution_count": 40
  },
  {
   "metadata": {
    "ExecuteTime": {
     "end_time": "2025-01-20T03:59:47.022360Z",
     "start_time": "2025-01-20T03:59:47.018361Z"
    }
   },
   "cell_type": "code",
   "source": "'\"Isn\\'t,\" she said.'",
   "id": "bc8994917542aa44",
   "outputs": [
    {
     "data": {
      "text/plain": [
       "'\"Isn\\'t,\" she said.'"
      ]
     },
     "execution_count": 44,
     "metadata": {},
     "output_type": "execute_result"
    }
   ],
   "execution_count": 44
  },
  {
   "metadata": {
    "ExecuteTime": {
     "end_time": "2025-01-20T03:59:36.726783Z",
     "start_time": "2025-01-20T03:59:36.722372Z"
    }
   },
   "cell_type": "code",
   "source": "'\"Isn\\'t,\" she said.'",
   "id": "d051edb2d22026f4",
   "outputs": [
    {
     "data": {
      "text/plain": [
       "'\"Isn\\'t,\" she said.'"
      ]
     },
     "execution_count": 43,
     "metadata": {},
     "output_type": "execute_result"
    }
   ],
   "execution_count": 43
  },
  {
   "metadata": {
    "ExecuteTime": {
     "end_time": "2025-01-20T04:00:04.886005Z",
     "start_time": "2025-01-20T04:00:04.882976Z"
    }
   },
   "cell_type": "code",
   "source": "print('\"Isn\\'t,\" she said.')",
   "id": "be7b6dde20d56fb3",
   "outputs": [
    {
     "name": "stdout",
     "output_type": "stream",
     "text": [
      "\"Isn't,\" she said.\n"
     ]
    }
   ],
   "execution_count": 45
  },
  {
   "metadata": {
    "ExecuteTime": {
     "end_time": "2025-01-20T04:00:21.443975Z",
     "start_time": "2025-01-20T04:00:21.440662Z"
    }
   },
   "cell_type": "code",
   "source": "s = 'First line.\\nSecond line.'",
   "id": "324e86b564113977",
   "outputs": [],
   "execution_count": 46
  },
  {
   "metadata": {
    "ExecuteTime": {
     "end_time": "2025-01-20T04:00:29.492371Z",
     "start_time": "2025-01-20T04:00:29.488060Z"
    }
   },
   "cell_type": "code",
   "source": "s",
   "id": "49f794f3e5976724",
   "outputs": [
    {
     "data": {
      "text/plain": [
       "'First line.\\nSecond line.'"
      ]
     },
     "execution_count": 47,
     "metadata": {},
     "output_type": "execute_result"
    }
   ],
   "execution_count": 47
  },
  {
   "metadata": {
    "ExecuteTime": {
     "end_time": "2025-01-20T04:00:35.950534Z",
     "start_time": "2025-01-20T04:00:35.947471Z"
    }
   },
   "cell_type": "code",
   "source": "print(s)",
   "id": "9b0f90168b59720e",
   "outputs": [
    {
     "name": "stdout",
     "output_type": "stream",
     "text": [
      "First line.\n",
      "Second line.\n"
     ]
    }
   ],
   "execution_count": 48
  },
  {
   "metadata": {
    "ExecuteTime": {
     "end_time": "2025-01-20T04:00:57.115035Z",
     "start_time": "2025-01-20T04:00:57.111127Z"
    }
   },
   "cell_type": "code",
   "source": "print('C:\\some\\name')",
   "id": "e5c7eded0a974a8",
   "outputs": [
    {
     "name": "stdout",
     "output_type": "stream",
     "text": [
      "C:\\some\n",
      "ame\n"
     ]
    }
   ],
   "execution_count": 49
  },
  {
   "metadata": {
    "ExecuteTime": {
     "end_time": "2025-01-20T04:01:13.019925Z",
     "start_time": "2025-01-20T04:01:13.016942Z"
    }
   },
   "cell_type": "code",
   "source": "print(r'C:\\some\\name')",
   "id": "2ea2a58c128ff9c8",
   "outputs": [
    {
     "name": "stdout",
     "output_type": "stream",
     "text": [
      "C:\\some\\name\n"
     ]
    }
   ],
   "execution_count": 50
  },
  {
   "metadata": {
    "ExecuteTime": {
     "end_time": "2025-01-20T04:01:54.415612Z",
     "start_time": "2025-01-20T04:01:54.411987Z"
    }
   },
   "cell_type": "code",
   "source": [
    "print(\"\"\"\\\n",
    "Usage: thingy [OPTIONS]\n",
    "    -h      Display this usage message\n",
    "    -H      hostname Hostname to connect to\n",
    "\"\"\")\n"
   ],
   "id": "1ebbf4eefc70652a",
   "outputs": [
    {
     "name": "stdout",
     "output_type": "stream",
     "text": [
      "Usage: thingy [OPTIONS]\n",
      "    -h      Display this usage message\n",
      "    -H      hostname Hostname to connect to\n",
      "\n"
     ]
    }
   ],
   "execution_count": 53
  },
  {
   "metadata": {
    "ExecuteTime": {
     "end_time": "2025-01-20T04:02:13.904037Z",
     "start_time": "2025-01-20T04:02:13.900483Z"
    }
   },
   "cell_type": "code",
   "source": "3 * 'un' + 'ium'",
   "id": "6079051aaa57335e",
   "outputs": [
    {
     "data": {
      "text/plain": [
       "'unununium'"
      ]
     },
     "execution_count": 54,
     "metadata": {},
     "output_type": "execute_result"
    }
   ],
   "execution_count": 54
  },
  {
   "metadata": {
    "ExecuteTime": {
     "end_time": "2025-01-20T04:02:42.208785Z",
     "start_time": "2025-01-20T04:02:42.204912Z"
    }
   },
   "cell_type": "code",
   "source": "'Py''thon'",
   "id": "bd05643e8db2ff7",
   "outputs": [
    {
     "data": {
      "text/plain": [
       "'Python'"
      ]
     },
     "execution_count": 55,
     "metadata": {},
     "output_type": "execute_result"
    }
   ],
   "execution_count": 55
  },
  {
   "metadata": {
    "ExecuteTime": {
     "end_time": "2025-01-20T04:03:52.208761Z",
     "start_time": "2025-01-20T04:03:52.203258Z"
    }
   },
   "cell_type": "code",
   "source": [
    "prefix = 'Py'\n",
    "prefix 'thon'"
   ],
   "id": "e72246569fc62c25",
   "outputs": [
    {
     "ename": "SyntaxError",
     "evalue": "invalid syntax (1790066947.py, line 2)",
     "output_type": "error",
     "traceback": [
      "\u001B[1;36m  Cell \u001B[1;32mIn[60], line 2\u001B[1;36m\u001B[0m\n\u001B[1;33m    prefix 'thon'\u001B[0m\n\u001B[1;37m           ^\u001B[0m\n\u001B[1;31mSyntaxError\u001B[0m\u001B[1;31m:\u001B[0m invalid syntax\n"
     ]
    }
   ],
   "execution_count": 60
  },
  {
   "metadata": {
    "ExecuteTime": {
     "end_time": "2025-01-20T04:03:29.800734Z",
     "start_time": "2025-01-20T04:03:29.794739Z"
    }
   },
   "cell_type": "code",
   "source": "('un'*3)'ium'",
   "id": "558c74abf101b242",
   "outputs": [
    {
     "ename": "SyntaxError",
     "evalue": "invalid syntax (3473160912.py, line 1)",
     "output_type": "error",
     "traceback": [
      "\u001B[1;36m  Cell \u001B[1;32mIn[58], line 1\u001B[1;36m\u001B[0m\n\u001B[1;33m    ('un'*3)'ium'\u001B[0m\n\u001B[1;37m            ^\u001B[0m\n\u001B[1;31mSyntaxError\u001B[0m\u001B[1;31m:\u001B[0m invalid syntax\n"
     ]
    }
   ],
   "execution_count": 58
  },
  {
   "metadata": {
    "ExecuteTime": {
     "end_time": "2025-01-20T04:04:02.334198Z",
     "start_time": "2025-01-20T04:04:02.330801Z"
    }
   },
   "cell_type": "code",
   "source": [
    "prefix = 'Py'\n",
    "prefix + 'thon'"
   ],
   "id": "d40ed4ad18ae7eb",
   "outputs": [
    {
     "data": {
      "text/plain": [
       "'Python'"
      ]
     },
     "execution_count": 62,
     "metadata": {},
     "output_type": "execute_result"
    }
   ],
   "execution_count": 62
  },
  {
   "metadata": {
    "ExecuteTime": {
     "end_time": "2025-01-20T04:04:46.146857Z",
     "start_time": "2025-01-20T04:04:46.142974Z"
    }
   },
   "cell_type": "code",
   "source": [
    "text = ('Put several strings within parentheses '\n",
    "        'to have them joined together.')\n",
    "text"
   ],
   "id": "f96c826e38565f49",
   "outputs": [
    {
     "data": {
      "text/plain": [
       "'Put several strings within parentheses to have them joined together.'"
      ]
     },
     "execution_count": 65,
     "metadata": {},
     "output_type": "execute_result"
    }
   ],
   "execution_count": 65
  },
  {
   "metadata": {
    "ExecuteTime": {
     "end_time": "2025-01-20T04:05:21.610709Z",
     "start_time": "2025-01-20T04:05:21.606468Z"
    }
   },
   "cell_type": "code",
   "source": [
    "word='Python'\n",
    "print(word[0])\n",
    "print(word[5])"
   ],
   "id": "53e81e0c33f646e3",
   "outputs": [
    {
     "name": "stdout",
     "output_type": "stream",
     "text": [
      "P\n",
      "n\n"
     ]
    }
   ],
   "execution_count": 66
  },
  {
   "metadata": {
    "ExecuteTime": {
     "end_time": "2025-01-20T04:05:33.718001Z",
     "start_time": "2025-01-20T04:05:33.713242Z"
    }
   },
   "cell_type": "code",
   "source": "word[-1]",
   "id": "52ae60dbbd10a2b4",
   "outputs": [
    {
     "data": {
      "text/plain": [
       "'n'"
      ]
     },
     "execution_count": 67,
     "metadata": {},
     "output_type": "execute_result"
    }
   ],
   "execution_count": 67
  },
  {
   "metadata": {
    "ExecuteTime": {
     "end_time": "2025-01-20T04:05:41.801363Z",
     "start_time": "2025-01-20T04:05:41.796298Z"
    }
   },
   "cell_type": "code",
   "source": "word[-2]",
   "id": "493179e07d46819a",
   "outputs": [
    {
     "data": {
      "text/plain": [
       "'o'"
      ]
     },
     "execution_count": 68,
     "metadata": {},
     "output_type": "execute_result"
    }
   ],
   "execution_count": 68
  },
  {
   "metadata": {
    "ExecuteTime": {
     "end_time": "2025-01-20T04:05:50.626194Z",
     "start_time": "2025-01-20T04:05:50.621029Z"
    }
   },
   "cell_type": "code",
   "source": "word[-6]",
   "id": "9a694e4cd6b8d5ee",
   "outputs": [
    {
     "data": {
      "text/plain": [
       "'P'"
      ]
     },
     "execution_count": 69,
     "metadata": {},
     "output_type": "execute_result"
    }
   ],
   "execution_count": 69
  },
  {
   "metadata": {
    "ExecuteTime": {
     "end_time": "2025-01-20T04:05:59.753850Z",
     "start_time": "2025-01-20T04:05:59.749844Z"
    }
   },
   "cell_type": "code",
   "source": "word[0:2]",
   "id": "fddf93965c214e88",
   "outputs": [
    {
     "data": {
      "text/plain": [
       "'Py'"
      ]
     },
     "execution_count": 70,
     "metadata": {},
     "output_type": "execute_result"
    }
   ],
   "execution_count": 70
  },
  {
   "metadata": {
    "ExecuteTime": {
     "end_time": "2025-01-20T04:06:07.118562Z",
     "start_time": "2025-01-20T04:06:07.114880Z"
    }
   },
   "cell_type": "code",
   "source": "word[2:5]",
   "id": "43babad76e8f7fd1",
   "outputs": [
    {
     "data": {
      "text/plain": [
       "'tho'"
      ]
     },
     "execution_count": 71,
     "metadata": {},
     "output_type": "execute_result"
    }
   ],
   "execution_count": 71
  },
  {
   "metadata": {
    "ExecuteTime": {
     "end_time": "2025-01-20T04:06:20.991858Z",
     "start_time": "2025-01-20T04:06:20.986983Z"
    }
   },
   "cell_type": "code",
   "source": "word[:2]+word[2:]",
   "id": "e4ee5b5a406955ba",
   "outputs": [
    {
     "data": {
      "text/plain": [
       "'Python'"
      ]
     },
     "execution_count": 72,
     "metadata": {},
     "output_type": "execute_result"
    }
   ],
   "execution_count": 72
  },
  {
   "metadata": {
    "ExecuteTime": {
     "end_time": "2025-01-20T04:06:34.488865Z",
     "start_time": "2025-01-20T04:06:34.485135Z"
    }
   },
   "cell_type": "code",
   "source": "word[:4]+word[4:]",
   "id": "f6fab1a12c87bd1d",
   "outputs": [
    {
     "data": {
      "text/plain": [
       "'Python'"
      ]
     },
     "execution_count": 73,
     "metadata": {},
     "output_type": "execute_result"
    }
   ],
   "execution_count": 73
  },
  {
   "metadata": {
    "ExecuteTime": {
     "end_time": "2025-01-20T04:06:48.568327Z",
     "start_time": "2025-01-20T04:06:48.563090Z"
    }
   },
   "cell_type": "code",
   "source": " word[:2]",
   "id": "86633a2b3e6262c3",
   "outputs": [
    {
     "data": {
      "text/plain": [
       "'Py'"
      ]
     },
     "execution_count": 74,
     "metadata": {},
     "output_type": "execute_result"
    }
   ],
   "execution_count": 74
  },
  {
   "metadata": {
    "ExecuteTime": {
     "end_time": "2025-01-20T04:06:53.780454Z",
     "start_time": "2025-01-20T04:06:53.776244Z"
    }
   },
   "cell_type": "code",
   "source": " word[4:]",
   "id": "e929ed2d7805a1fd",
   "outputs": [
    {
     "data": {
      "text/plain": [
       "'on'"
      ]
     },
     "execution_count": 75,
     "metadata": {},
     "output_type": "execute_result"
    }
   ],
   "execution_count": 75
  },
  {
   "metadata": {
    "ExecuteTime": {
     "end_time": "2025-01-20T04:07:00.621383Z",
     "start_time": "2025-01-20T04:07:00.616922Z"
    }
   },
   "cell_type": "code",
   "source": "word[-2:]",
   "id": "599a1d1273c96099",
   "outputs": [
    {
     "data": {
      "text/plain": [
       "'on'"
      ]
     },
     "execution_count": 76,
     "metadata": {},
     "output_type": "execute_result"
    }
   ],
   "execution_count": 76
  },
  {
   "metadata": {
    "ExecuteTime": {
     "end_time": "2025-01-20T04:07:12.950685Z",
     "start_time": "2025-01-20T04:07:12.939655Z"
    }
   },
   "cell_type": "code",
   "source": "word[42]",
   "id": "da6ed5e59e181266",
   "outputs": [
    {
     "ename": "IndexError",
     "evalue": "string index out of range",
     "output_type": "error",
     "traceback": [
      "\u001B[1;31m---------------------------------------------------------------------------\u001B[0m",
      "\u001B[1;31mIndexError\u001B[0m                                Traceback (most recent call last)",
      "Cell \u001B[1;32mIn[77], line 1\u001B[0m\n\u001B[1;32m----> 1\u001B[0m \u001B[43mword\u001B[49m\u001B[43m[\u001B[49m\u001B[38;5;241;43m42\u001B[39;49m\u001B[43m]\u001B[49m\n",
      "\u001B[1;31mIndexError\u001B[0m: string index out of range"
     ]
    }
   ],
   "execution_count": 77
  },
  {
   "metadata": {
    "ExecuteTime": {
     "end_time": "2025-01-20T04:07:21.408427Z",
     "start_time": "2025-01-20T04:07:21.403952Z"
    }
   },
   "cell_type": "code",
   "source": "word[4:42]",
   "id": "b61372239fe8868",
   "outputs": [
    {
     "data": {
      "text/plain": [
       "'on'"
      ]
     },
     "execution_count": 78,
     "metadata": {},
     "output_type": "execute_result"
    }
   ],
   "execution_count": 78
  },
  {
   "metadata": {
    "ExecuteTime": {
     "end_time": "2025-01-20T04:07:32.474255Z",
     "start_time": "2025-01-20T04:07:32.470011Z"
    }
   },
   "cell_type": "code",
   "source": "word[42:]",
   "id": "25ac2ac88fc42a49",
   "outputs": [
    {
     "data": {
      "text/plain": [
       "''"
      ]
     },
     "execution_count": 79,
     "metadata": {},
     "output_type": "execute_result"
    }
   ],
   "execution_count": 79
  },
  {
   "metadata": {
    "ExecuteTime": {
     "end_time": "2025-01-20T04:07:45.428568Z",
     "start_time": "2025-01-20T04:07:45.423568Z"
    }
   },
   "cell_type": "code",
   "source": "word[0] = ’J’",
   "id": "d3171f259fa65c92",
   "outputs": [
    {
     "ename": "SyntaxError",
     "evalue": "invalid character '’' (U+2019) (2795178179.py, line 1)",
     "output_type": "error",
     "traceback": [
      "\u001B[1;36m  Cell \u001B[1;32mIn[80], line 1\u001B[1;36m\u001B[0m\n\u001B[1;33m    word[0] = ’J’\u001B[0m\n\u001B[1;37m              ^\u001B[0m\n\u001B[1;31mSyntaxError\u001B[0m\u001B[1;31m:\u001B[0m invalid character '’' (U+2019)\n"
     ]
    }
   ],
   "execution_count": 80
  },
  {
   "metadata": {
    "ExecuteTime": {
     "end_time": "2025-01-20T04:07:53.742997Z",
     "start_time": "2025-01-20T04:07:53.737995Z"
    }
   },
   "cell_type": "code",
   "source": "word[2:] = ’py’",
   "id": "931c6df0a69db067",
   "outputs": [
    {
     "ename": "SyntaxError",
     "evalue": "invalid character '’' (U+2019) (3354412393.py, line 1)",
     "output_type": "error",
     "traceback": [
      "\u001B[1;36m  Cell \u001B[1;32mIn[81], line 1\u001B[1;36m\u001B[0m\n\u001B[1;33m    word[2:] = ’py’\u001B[0m\n\u001B[1;37m               ^\u001B[0m\n\u001B[1;31mSyntaxError\u001B[0m\u001B[1;31m:\u001B[0m invalid character '’' (U+2019)\n"
     ]
    }
   ],
   "execution_count": 81
  },
  {
   "metadata": {
    "ExecuteTime": {
     "end_time": "2025-01-20T04:08:13.929486Z",
     "start_time": "2025-01-20T04:08:13.925583Z"
    }
   },
   "cell_type": "code",
   "source": "'J' + word[1:]",
   "id": "c21485b06cc8e3fc",
   "outputs": [
    {
     "data": {
      "text/plain": [
       "'Jython'"
      ]
     },
     "execution_count": 82,
     "metadata": {},
     "output_type": "execute_result"
    }
   ],
   "execution_count": 82
  },
  {
   "metadata": {
    "ExecuteTime": {
     "end_time": "2025-01-20T04:08:26.621482Z",
     "start_time": "2025-01-20T04:08:26.617612Z"
    }
   },
   "cell_type": "code",
   "source": "word[:2] + 'py'",
   "id": "cb28ddeff0091c07",
   "outputs": [
    {
     "data": {
      "text/plain": [
       "'Pypy'"
      ]
     },
     "execution_count": 83,
     "metadata": {},
     "output_type": "execute_result"
    }
   ],
   "execution_count": 83
  },
  {
   "metadata": {
    "ExecuteTime": {
     "end_time": "2025-01-20T04:08:56.372181Z",
     "start_time": "2025-01-20T04:08:56.367180Z"
    }
   },
   "cell_type": "code",
   "source": [
    "s = 'supercalifragilisticexpialidocious'\n",
    "len(s)"
   ],
   "id": "d79efdec8a288c43",
   "outputs": [
    {
     "data": {
      "text/plain": [
       "34"
      ]
     },
     "execution_count": 84,
     "metadata": {},
     "output_type": "execute_result"
    }
   ],
   "execution_count": 84
  },
  {
   "metadata": {
    "ExecuteTime": {
     "end_time": "2025-01-20T04:09:15.351371Z",
     "start_time": "2025-01-20T04:09:15.346526Z"
    }
   },
   "cell_type": "code",
   "source": [
    "squares = [1, 4, 9, 16, 25]\n",
    "squares"
   ],
   "id": "4d40df3753fffaed",
   "outputs": [
    {
     "data": {
      "text/plain": [
       "[1, 4, 9, 16, 25]"
      ]
     },
     "execution_count": 85,
     "metadata": {},
     "output_type": "execute_result"
    }
   ],
   "execution_count": 85
  },
  {
   "metadata": {
    "ExecuteTime": {
     "end_time": "2025-01-20T04:09:24.661684Z",
     "start_time": "2025-01-20T04:09:24.654171Z"
    }
   },
   "cell_type": "code",
   "source": "squares[0]",
   "id": "f4cbcf4957542417",
   "outputs": [
    {
     "data": {
      "text/plain": [
       "1"
      ]
     },
     "execution_count": 86,
     "metadata": {},
     "output_type": "execute_result"
    }
   ],
   "execution_count": 86
  },
  {
   "metadata": {
    "ExecuteTime": {
     "end_time": "2025-01-20T04:09:30.602938Z",
     "start_time": "2025-01-20T04:09:30.598842Z"
    }
   },
   "cell_type": "code",
   "source": " squares[-1]",
   "id": "cae411a8c4998dae",
   "outputs": [
    {
     "data": {
      "text/plain": [
       "25"
      ]
     },
     "execution_count": 87,
     "metadata": {},
     "output_type": "execute_result"
    }
   ],
   "execution_count": 87
  },
  {
   "metadata": {
    "ExecuteTime": {
     "end_time": "2025-01-20T04:09:37.608754Z",
     "start_time": "2025-01-20T04:09:37.604322Z"
    }
   },
   "cell_type": "code",
   "source": "squares[-3:]",
   "id": "9c3b96a5998443ca",
   "outputs": [
    {
     "data": {
      "text/plain": [
       "[9, 16, 25]"
      ]
     },
     "execution_count": 88,
     "metadata": {},
     "output_type": "execute_result"
    }
   ],
   "execution_count": 88
  },
  {
   "metadata": {
    "ExecuteTime": {
     "end_time": "2025-01-20T04:09:51.602871Z",
     "start_time": "2025-01-20T04:09:51.598967Z"
    }
   },
   "cell_type": "code",
   "source": "squares[:]",
   "id": "e3dbae5d1a7d2714",
   "outputs": [
    {
     "data": {
      "text/plain": [
       "[1, 4, 9, 16, 25]"
      ]
     },
     "execution_count": 89,
     "metadata": {},
     "output_type": "execute_result"
    }
   ],
   "execution_count": 89
  },
  {
   "metadata": {
    "ExecuteTime": {
     "end_time": "2025-01-20T04:09:59.561121Z",
     "start_time": "2025-01-20T04:09:59.555932Z"
    }
   },
   "cell_type": "code",
   "source": "squares + [36, 49, 64, 81, 100]",
   "id": "4175a9f97372ad05",
   "outputs": [
    {
     "data": {
      "text/plain": [
       "[1, 4, 9, 16, 25, 36, 49, 64, 81, 100]"
      ]
     },
     "execution_count": 90,
     "metadata": {},
     "output_type": "execute_result"
    }
   ],
   "execution_count": 90
  },
  {
   "metadata": {
    "ExecuteTime": {
     "end_time": "2025-01-20T04:11:14.313010Z",
     "start_time": "2025-01-20T04:11:14.307597Z"
    }
   },
   "cell_type": "code",
   "source": [
    "cubes = [1, 8, 27, 65, 125]\n",
    "cubes[3] = 64\n",
    "cubes"
   ],
   "id": "6ad13f23ef992414",
   "outputs": [
    {
     "data": {
      "text/plain": [
       "[1, 8, 27, 64, 125]"
      ]
     },
     "execution_count": 95,
     "metadata": {},
     "output_type": "execute_result"
    }
   ],
   "execution_count": 95
  },
  {
   "metadata": {
    "ExecuteTime": {
     "end_time": "2025-01-20T04:11:15.504709Z",
     "start_time": "2025-01-20T04:11:15.499691Z"
    }
   },
   "cell_type": "code",
   "source": [
    "cubes.append(216)\n",
    "cubes.append(7 ** 3)\n",
    "cubes"
   ],
   "id": "fc037149ac6ce26f",
   "outputs": [
    {
     "data": {
      "text/plain": [
       "[1, 8, 27, 64, 125, 216, 343]"
      ]
     },
     "execution_count": 96,
     "metadata": {},
     "output_type": "execute_result"
    }
   ],
   "execution_count": 96
  },
  {
   "metadata": {
    "ExecuteTime": {
     "end_time": "2025-01-20T04:11:44.224255Z",
     "start_time": "2025-01-20T04:11:44.220363Z"
    }
   },
   "cell_type": "code",
   "source": [
    "letters = ['a', 'b', 'c', 'd']\n",
    "len(letters)"
   ],
   "id": "cae24fbb08ded7e7",
   "outputs": [
    {
     "data": {
      "text/plain": [
       "4"
      ]
     },
     "execution_count": 97,
     "metadata": {},
     "output_type": "execute_result"
    }
   ],
   "execution_count": 97
  },
  {
   "metadata": {
    "ExecuteTime": {
     "end_time": "2025-01-20T04:13:50.179042Z",
     "start_time": "2025-01-20T04:13:50.173836Z"
    }
   },
   "cell_type": "code",
   "source": [
    "a = ['a', 'b', 'c']\n",
    "n = [1, 2, 3]\n",
    "x = [a, n]\n",
    "x"
   ],
   "id": "b279a66535b8494",
   "outputs": [
    {
     "data": {
      "text/plain": [
       "[['a', 'b', 'c'], [1, 2, 3]]"
      ]
     },
     "execution_count": 98,
     "metadata": {},
     "output_type": "execute_result"
    }
   ],
   "execution_count": 98
  },
  {
   "metadata": {
    "ExecuteTime": {
     "end_time": "2025-01-20T04:14:00.431985Z",
     "start_time": "2025-01-20T04:14:00.426559Z"
    }
   },
   "cell_type": "code",
   "source": "x[0]",
   "id": "324a6addf1df0175",
   "outputs": [
    {
     "data": {
      "text/plain": [
       "['a', 'b', 'c']"
      ]
     },
     "execution_count": 99,
     "metadata": {},
     "output_type": "execute_result"
    }
   ],
   "execution_count": 99
  },
  {
   "metadata": {
    "ExecuteTime": {
     "end_time": "2025-01-20T04:14:09.785155Z",
     "start_time": "2025-01-20T04:14:09.781146Z"
    }
   },
   "cell_type": "code",
   "source": "x[0][1]",
   "id": "ef734925402010ba",
   "outputs": [
    {
     "data": {
      "text/plain": [
       "'b'"
      ]
     },
     "execution_count": 100,
     "metadata": {},
     "output_type": "execute_result"
    }
   ],
   "execution_count": 100
  },
  {
   "metadata": {
    "ExecuteTime": {
     "end_time": "2025-01-20T04:14:59.228570Z",
     "start_time": "2025-01-20T04:14:59.225122Z"
    }
   },
   "cell_type": "code",
   "source": [
    "words = ['cat', 'window', 'defenestrate']\n",
    "for w in words:\n",
    "    print(w, len(w))"
   ],
   "id": "a94c5b91f6115c22",
   "outputs": [
    {
     "name": "stdout",
     "output_type": "stream",
     "text": [
      "cat 3\n",
      "window 6\n",
      "defenestrate 12\n"
     ]
    }
   ],
   "execution_count": 101
  },
  {
   "metadata": {
    "ExecuteTime": {
     "end_time": "2025-01-20T04:15:14.072738Z",
     "start_time": "2025-01-20T04:15:14.068415Z"
    }
   },
   "cell_type": "code",
   "source": [
    " for i in range(5):\n",
    "    print(i)"
   ],
   "id": "49d45bd4290233da",
   "outputs": [
    {
     "name": "stdout",
     "output_type": "stream",
     "text": [
      "0\n",
      "1\n",
      "2\n",
      "3\n",
      "4\n"
     ]
    }
   ],
   "execution_count": 102
  },
  {
   "metadata": {
    "ExecuteTime": {
     "end_time": "2025-01-20T04:15:47.199429Z",
     "start_time": "2025-01-20T04:15:47.194995Z"
    }
   },
   "cell_type": "code",
   "source": [
    "def foo():\n",
    "    print(\"hello world\")\n",
    "def add(x, y):\n",
    "    return x + y\n",
    "print(add(3, 4))"
   ],
   "id": "286c738ef98a0526",
   "outputs": [
    {
     "name": "stdout",
     "output_type": "stream",
     "text": [
      "7\n"
     ]
    }
   ],
   "execution_count": 103
  },
  {
   "metadata": {
    "ExecuteTime": {
     "end_time": "2025-01-20T04:16:31.202154Z",
     "start_time": "2025-01-20T04:16:29.612954Z"
    }
   },
   "cell_type": "code",
   "source": [
    "import turtle\n",
    "def square(length):\n",
    "    turtle.forward(length)\n",
    "    turtle.left(90)\n",
    "    turtle.forward(length)\n",
    "    turtle.left(90)\n",
    "    turtle.forward(length)\n",
    "    turtle.left(90)\n",
    "    turtle.forward(length)\n",
    "    turtle.left(90)\n",
    "square(100)"
   ],
   "id": "99d3e8989b5d197b",
   "outputs": [],
   "execution_count": 105
  },
  {
   "metadata": {
    "ExecuteTime": {
     "end_time": "2025-01-20T04:17:54.845309Z",
     "start_time": "2025-01-20T04:17:47.173551Z"
    }
   },
   "cell_type": "code",
   "source": [
    "import turtle\n",
    "def square(length):\n",
    "    for i in range(4):\n",
    "        turtle.forward(length)\n",
    "        turtle.left(90)\n",
    "    square(length + 10)\n",
    "square(100)"
   ],
   "id": "813bec64108e794e",
   "outputs": [
    {
     "ename": "KeyboardInterrupt",
     "evalue": "",
     "output_type": "error",
     "traceback": [
      "\u001B[1;31m---------------------------------------------------------------------------\u001B[0m",
      "\u001B[1;31mKeyboardInterrupt\u001B[0m                         Traceback (most recent call last)",
      "Cell \u001B[1;32mIn[3], line 7\u001B[0m\n\u001B[0;32m      5\u001B[0m         turtle\u001B[38;5;241m.\u001B[39mleft(\u001B[38;5;241m90\u001B[39m)\n\u001B[0;32m      6\u001B[0m     square(length \u001B[38;5;241m+\u001B[39m \u001B[38;5;241m10\u001B[39m)\n\u001B[1;32m----> 7\u001B[0m \u001B[43msquare\u001B[49m\u001B[43m(\u001B[49m\u001B[38;5;241;43m100\u001B[39;49m\u001B[43m)\u001B[49m\n",
      "Cell \u001B[1;32mIn[3], line 6\u001B[0m, in \u001B[0;36msquare\u001B[1;34m(length)\u001B[0m\n\u001B[0;32m      4\u001B[0m     turtle\u001B[38;5;241m.\u001B[39mforward(length)\n\u001B[0;32m      5\u001B[0m     turtle\u001B[38;5;241m.\u001B[39mleft(\u001B[38;5;241m90\u001B[39m)\n\u001B[1;32m----> 6\u001B[0m \u001B[43msquare\u001B[49m\u001B[43m(\u001B[49m\u001B[43mlength\u001B[49m\u001B[43m \u001B[49m\u001B[38;5;241;43m+\u001B[39;49m\u001B[43m \u001B[49m\u001B[38;5;241;43m10\u001B[39;49m\u001B[43m)\u001B[49m\n",
      "Cell \u001B[1;32mIn[3], line 6\u001B[0m, in \u001B[0;36msquare\u001B[1;34m(length)\u001B[0m\n\u001B[0;32m      4\u001B[0m     turtle\u001B[38;5;241m.\u001B[39mforward(length)\n\u001B[0;32m      5\u001B[0m     turtle\u001B[38;5;241m.\u001B[39mleft(\u001B[38;5;241m90\u001B[39m)\n\u001B[1;32m----> 6\u001B[0m \u001B[43msquare\u001B[49m\u001B[43m(\u001B[49m\u001B[43mlength\u001B[49m\u001B[43m \u001B[49m\u001B[38;5;241;43m+\u001B[39;49m\u001B[43m \u001B[49m\u001B[38;5;241;43m10\u001B[39;49m\u001B[43m)\u001B[49m\n",
      "    \u001B[1;31m[... skipping similar frames: square at line 6 (2 times)]\u001B[0m\n",
      "Cell \u001B[1;32mIn[3], line 6\u001B[0m, in \u001B[0;36msquare\u001B[1;34m(length)\u001B[0m\n\u001B[0;32m      4\u001B[0m     turtle\u001B[38;5;241m.\u001B[39mforward(length)\n\u001B[0;32m      5\u001B[0m     turtle\u001B[38;5;241m.\u001B[39mleft(\u001B[38;5;241m90\u001B[39m)\n\u001B[1;32m----> 6\u001B[0m \u001B[43msquare\u001B[49m\u001B[43m(\u001B[49m\u001B[43mlength\u001B[49m\u001B[43m \u001B[49m\u001B[38;5;241;43m+\u001B[39;49m\u001B[43m \u001B[49m\u001B[38;5;241;43m10\u001B[39;49m\u001B[43m)\u001B[49m\n",
      "Cell \u001B[1;32mIn[3], line 4\u001B[0m, in \u001B[0;36msquare\u001B[1;34m(length)\u001B[0m\n\u001B[0;32m      2\u001B[0m \u001B[38;5;28;01mdef\u001B[39;00m \u001B[38;5;21msquare\u001B[39m(length):\n\u001B[0;32m      3\u001B[0m     \u001B[38;5;28;01mfor\u001B[39;00m i \u001B[38;5;129;01min\u001B[39;00m \u001B[38;5;28mrange\u001B[39m(\u001B[38;5;241m4\u001B[39m):\n\u001B[1;32m----> 4\u001B[0m         \u001B[43mturtle\u001B[49m\u001B[38;5;241;43m.\u001B[39;49m\u001B[43mforward\u001B[49m\u001B[43m(\u001B[49m\u001B[43mlength\u001B[49m\u001B[43m)\u001B[49m\n\u001B[0;32m      5\u001B[0m         turtle\u001B[38;5;241m.\u001B[39mleft(\u001B[38;5;241m90\u001B[39m)\n\u001B[0;32m      6\u001B[0m     square(length \u001B[38;5;241m+\u001B[39m \u001B[38;5;241m10\u001B[39m)\n",
      "File \u001B[1;32m<string>:8\u001B[0m, in \u001B[0;36mforward\u001B[1;34m(distance)\u001B[0m\n",
      "File \u001B[1;32m~\\.conda\\envs\\OSS_Course\\Lib\\turtle.py:1638\u001B[0m, in \u001B[0;36mTNavigator.forward\u001B[1;34m(self, distance)\u001B[0m\n\u001B[0;32m   1617\u001B[0m \u001B[38;5;28;01mdef\u001B[39;00m \u001B[38;5;21mforward\u001B[39m(\u001B[38;5;28mself\u001B[39m, distance):\n\u001B[0;32m   1618\u001B[0m \u001B[38;5;250m    \u001B[39m\u001B[38;5;124;03m\"\"\"Move the turtle forward by the specified distance.\u001B[39;00m\n\u001B[0;32m   1619\u001B[0m \n\u001B[0;32m   1620\u001B[0m \u001B[38;5;124;03m    Aliases: forward | fd\u001B[39;00m\n\u001B[1;32m   (...)\u001B[0m\n\u001B[0;32m   1636\u001B[0m \u001B[38;5;124;03m    (-50.00,0.00)\u001B[39;00m\n\u001B[0;32m   1637\u001B[0m \u001B[38;5;124;03m    \"\"\"\u001B[39;00m\n\u001B[1;32m-> 1638\u001B[0m     \u001B[38;5;28;43mself\u001B[39;49m\u001B[38;5;241;43m.\u001B[39;49m\u001B[43m_go\u001B[49m\u001B[43m(\u001B[49m\u001B[43mdistance\u001B[49m\u001B[43m)\u001B[49m\n",
      "File \u001B[1;32m~\\.conda\\envs\\OSS_Course\\Lib\\turtle.py:1606\u001B[0m, in \u001B[0;36mTNavigator._go\u001B[1;34m(self, distance)\u001B[0m\n\u001B[0;32m   1604\u001B[0m \u001B[38;5;250m\u001B[39m\u001B[38;5;124;03m\"\"\"move turtle forward by specified distance\"\"\"\u001B[39;00m\n\u001B[0;32m   1605\u001B[0m ende \u001B[38;5;241m=\u001B[39m \u001B[38;5;28mself\u001B[39m\u001B[38;5;241m.\u001B[39m_position \u001B[38;5;241m+\u001B[39m \u001B[38;5;28mself\u001B[39m\u001B[38;5;241m.\u001B[39m_orient \u001B[38;5;241m*\u001B[39m distance\n\u001B[1;32m-> 1606\u001B[0m \u001B[38;5;28;43mself\u001B[39;49m\u001B[38;5;241;43m.\u001B[39;49m\u001B[43m_goto\u001B[49m\u001B[43m(\u001B[49m\u001B[43mende\u001B[49m\u001B[43m)\u001B[49m\n",
      "File \u001B[1;32m~\\.conda\\envs\\OSS_Course\\Lib\\turtle.py:3196\u001B[0m, in \u001B[0;36mRawTurtle._goto\u001B[1;34m(self, end)\u001B[0m\n\u001B[0;32m   3192\u001B[0m     \u001B[38;5;28;01mif\u001B[39;00m \u001B[38;5;28mself\u001B[39m\u001B[38;5;241m.\u001B[39m_drawing:\n\u001B[0;32m   3193\u001B[0m         screen\u001B[38;5;241m.\u001B[39m_drawline(\u001B[38;5;28mself\u001B[39m\u001B[38;5;241m.\u001B[39mdrawingLineItem,\n\u001B[0;32m   3194\u001B[0m                          (start, \u001B[38;5;28mself\u001B[39m\u001B[38;5;241m.\u001B[39m_position),\n\u001B[0;32m   3195\u001B[0m                          \u001B[38;5;28mself\u001B[39m\u001B[38;5;241m.\u001B[39m_pencolor, \u001B[38;5;28mself\u001B[39m\u001B[38;5;241m.\u001B[39m_pensize, top)\n\u001B[1;32m-> 3196\u001B[0m     \u001B[38;5;28;43mself\u001B[39;49m\u001B[38;5;241;43m.\u001B[39;49m\u001B[43m_update\u001B[49m\u001B[43m(\u001B[49m\u001B[43m)\u001B[49m\n\u001B[0;32m   3197\u001B[0m \u001B[38;5;28;01mif\u001B[39;00m \u001B[38;5;28mself\u001B[39m\u001B[38;5;241m.\u001B[39m_drawing:\n\u001B[0;32m   3198\u001B[0m     screen\u001B[38;5;241m.\u001B[39m_drawline(\u001B[38;5;28mself\u001B[39m\u001B[38;5;241m.\u001B[39mdrawingLineItem, ((\u001B[38;5;241m0\u001B[39m, \u001B[38;5;241m0\u001B[39m), (\u001B[38;5;241m0\u001B[39m, \u001B[38;5;241m0\u001B[39m)),\n\u001B[0;32m   3199\u001B[0m                                    fill\u001B[38;5;241m=\u001B[39m\u001B[38;5;124m\"\u001B[39m\u001B[38;5;124m\"\u001B[39m, width\u001B[38;5;241m=\u001B[39m\u001B[38;5;28mself\u001B[39m\u001B[38;5;241m.\u001B[39m_pensize)\n",
      "File \u001B[1;32m~\\.conda\\envs\\OSS_Course\\Lib\\turtle.py:2663\u001B[0m, in \u001B[0;36mRawTurtle._update\u001B[1;34m(self)\u001B[0m\n\u001B[0;32m   2661\u001B[0m     \u001B[38;5;28mself\u001B[39m\u001B[38;5;241m.\u001B[39m_update_data()\n\u001B[0;32m   2662\u001B[0m     \u001B[38;5;28mself\u001B[39m\u001B[38;5;241m.\u001B[39m_drawturtle()\n\u001B[1;32m-> 2663\u001B[0m     \u001B[43mscreen\u001B[49m\u001B[38;5;241;43m.\u001B[39;49m\u001B[43m_update\u001B[49m\u001B[43m(\u001B[49m\u001B[43m)\u001B[49m                  \u001B[38;5;66;03m# TurtleScreenBase\u001B[39;00m\n\u001B[0;32m   2664\u001B[0m     screen\u001B[38;5;241m.\u001B[39m_delay(screen\u001B[38;5;241m.\u001B[39m_delayvalue) \u001B[38;5;66;03m# TurtleScreenBase\u001B[39;00m\n\u001B[0;32m   2665\u001B[0m \u001B[38;5;28;01melse\u001B[39;00m:\n",
      "File \u001B[1;32m~\\.conda\\envs\\OSS_Course\\Lib\\turtle.py:562\u001B[0m, in \u001B[0;36mTurtleScreenBase._update\u001B[1;34m(self)\u001B[0m\n\u001B[0;32m    559\u001B[0m \u001B[38;5;28;01mdef\u001B[39;00m \u001B[38;5;21m_update\u001B[39m(\u001B[38;5;28mself\u001B[39m):\n\u001B[0;32m    560\u001B[0m \u001B[38;5;250m    \u001B[39m\u001B[38;5;124;03m\"\"\"Redraw graphics items on canvas\u001B[39;00m\n\u001B[0;32m    561\u001B[0m \u001B[38;5;124;03m    \"\"\"\u001B[39;00m\n\u001B[1;32m--> 562\u001B[0m     \u001B[38;5;28;43mself\u001B[39;49m\u001B[38;5;241;43m.\u001B[39;49m\u001B[43mcv\u001B[49m\u001B[38;5;241;43m.\u001B[39;49m\u001B[43mupdate\u001B[49m\u001B[43m(\u001B[49m\u001B[43m)\u001B[49m\n",
      "File \u001B[1;32m~\\.conda\\envs\\OSS_Course\\Lib\\tkinter\\__init__.py:1372\u001B[0m, in \u001B[0;36mMisc.update\u001B[1;34m(self)\u001B[0m\n\u001B[0;32m   1370\u001B[0m \u001B[38;5;28;01mdef\u001B[39;00m \u001B[38;5;21mupdate\u001B[39m(\u001B[38;5;28mself\u001B[39m):\n\u001B[0;32m   1371\u001B[0m \u001B[38;5;250m    \u001B[39m\u001B[38;5;124;03m\"\"\"Enter event loop until all pending events have been processed by Tcl.\"\"\"\u001B[39;00m\n\u001B[1;32m-> 1372\u001B[0m     \u001B[38;5;28;43mself\u001B[39;49m\u001B[38;5;241;43m.\u001B[39;49m\u001B[43mtk\u001B[49m\u001B[38;5;241;43m.\u001B[39;49m\u001B[43mcall\u001B[49m\u001B[43m(\u001B[49m\u001B[38;5;124;43m'\u001B[39;49m\u001B[38;5;124;43mupdate\u001B[39;49m\u001B[38;5;124;43m'\u001B[39;49m\u001B[43m)\u001B[49m\n",
      "\u001B[1;31mKeyboardInterrupt\u001B[0m: "
     ]
    }
   ],
   "execution_count": 3
  },
  {
   "metadata": {
    "ExecuteTime": {
     "end_time": "2025-01-20T04:18:51.351152Z",
     "start_time": "2025-01-20T04:18:51.343145Z"
    }
   },
   "cell_type": "code",
   "source": [
    "def factorial(n):\n",
    "    if n <= 1:\n",
    "        return 1\n",
    "    else:\n",
    "        return n * factorial(n - 1)\n",
    "factorial(5)"
   ],
   "id": "a106fd26a0bebebe",
   "outputs": [
    {
     "data": {
      "text/plain": [
       "120"
      ]
     },
     "execution_count": 5,
     "metadata": {},
     "output_type": "execute_result"
    }
   ],
   "execution_count": 5
  },
  {
   "metadata": {
    "ExecuteTime": {
     "end_time": "2025-01-20T04:19:59.331805Z",
     "start_time": "2025-01-20T04:19:51.470748Z"
    }
   },
   "cell_type": "code",
   "source": [
    "import turtle\n",
    "\n",
    "def tree(length, n):\n",
    "    if length < (length / n):\n",
    "        return\n",
    "    turtle.forward(length)\n",
    "    turtle.left(45)\n",
    "    tree(length * 0.5, length / n)\n",
    "    turtle.right(90)\n",
    "    tree(length * 0.5, length / n)\n",
    "    turtle.left(45)\n",
    "    turtle.backward(length)\n",
    "    return\n",
    "tree(100, 3)"
   ],
   "id": "21c139cc573fc5e5",
   "outputs": [],
   "execution_count": 8
  }
 ],
 "metadata": {
  "kernelspec": {
   "display_name": "Python 3",
   "language": "python",
   "name": "python3"
  },
  "language_info": {
   "codemirror_mode": {
    "name": "ipython",
    "version": 2
   },
   "file_extension": ".py",
   "mimetype": "text/x-python",
   "name": "python",
   "nbconvert_exporter": "python",
   "pygments_lexer": "ipython2",
   "version": "2.7.6"
  }
 },
 "nbformat": 4,
 "nbformat_minor": 5
}
